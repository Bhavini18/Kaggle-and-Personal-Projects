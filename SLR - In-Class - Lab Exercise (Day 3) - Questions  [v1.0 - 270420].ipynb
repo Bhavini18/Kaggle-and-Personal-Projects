{
  "nbformat": 4,
  "nbformat_minor": 0,
  "metadata": {
    "kernelspec": {
      "display_name": "Python 3",
      "language": "python",
      "name": "python3"
    },
    "language_info": {
      "codemirror_mode": {
        "name": "ipython",
        "version": 3
      },
      "file_extension": ".py",
      "mimetype": "text/x-python",
      "name": "python",
      "nbconvert_exporter": "python",
      "pygments_lexer": "ipython3",
      "version": "3.7.4"
    },
    "colab": {
      "name": "SLR_MY_In_Class_Lab_Exercise_(Day_3)_Questions_[v1_0_270420].ipynb",
      "provenance": [],
      "collapsed_sections": []
    }
  },
  "cells": [
    {
      "cell_type": "markdown",
      "metadata": {
        "id": "yLSyRIuMFrdP"
      },
      "source": [
        "<table align=\"center\" width=100%>\n",
        "    <tr>\n",
        "        <td width=\"15%\">\n",
        "            <img src=\"in_class.png\">\n",
        "        </td>\n",
        "        <td>\n",
        "            <div align=\"center\">\n",
        "                <font color=\"#21618C\" size=8px>\n",
        "                    <b> Inclass - Lab <br>(Day 3)\n",
        "                    </b>\n",
        "                </font>\n",
        "            </div>\n",
        "        </td>\n",
        "    </tr>\n",
        "</table>"
      ]
    },
    {
      "cell_type": "markdown",
      "metadata": {
        "id": "ZdC3BmtoFrdo"
      },
      "source": [
        "### About the data set  (Life Expectancy data)\n",
        "\n",
        "The dataset contains information about several health and economic factors that contribute to average life expectancy for different countries. <br> Attribute information: \n",
        "\n",
        "**Country:** Name of the country\n",
        "\n",
        "**Year:** Year the observations were recorded\n",
        "\n",
        "**Status:** Whether the country is Developed or Developing\n",
        "\n",
        "**Adult_Mortality:** Mortality rate for age group 15-60 out of every 1000 individuals of the population\n",
        "\n",
        "**Infant_Deaths:** Number of infant deaths per 1000 population\n",
        "\n",
        "**Alcohol:** Alcohol, recorded per capita (15+) consumption (in litres of pure alcohol)\n",
        "\n",
        "**Hepatitis B:** Hepatitis B (HepB) immunization coverage for 1 year olds (Percentage)\n",
        "\n",
        "**Measles:** Number of reported cases for measles per 1000 from population\n",
        "\n",
        "**BMI:** Average Body Mass Index for entire population\n",
        "\n",
        "**Underfive_Deaths:** Number of deaths under 5 years of age per 1000 population\n",
        "\n",
        "**Polio:** Polio (Pol3) immunization coverage for 1 year olds (Percentage)\n",
        "\n",
        "**Diphtheria:** Diphtheria tetanus toxoid and pertussis (DTP3) immunization coverage for 1 year olds (Percentage)\n",
        "\n",
        "**HIV:** Deaths per 1000 live births due to HIV/AIDS (0-4 years)\n",
        "\n",
        "**GDP:** Gross Domestic Product per capita (in USD)\n",
        "\n",
        "**Population:** Population of the country\n",
        "\n",
        "**Malnourished10_19:** Prevalence of malnutrition among children and adolescents for Age 10 to 19 (Percentage)\n",
        "\n",
        "**Malnourished5_9:** Prevalence of malnutrition among children for Age 5 to 9 (Percentage)\n",
        "\n",
        "**Income_Index:** Human Development Index (HDI) in terms of national income per capita (index ranging from 0 to 1)\n",
        "\n",
        "**Schooling:** Number of years of Schooling\n",
        "\n",
        "**Life_Expectancy:** Life Expectancy in age for the country\n"
      ]
    },
    {
      "cell_type": "markdown",
      "metadata": {
        "id": "7biJzHOjFrdp"
      },
      "source": [
        "##  Table of Content\n",
        "\n",
        "1. **[Data Preparation](#eda)**\n",
        "2. **[Linear Regression](#lf)**\n",
        "3. **[Gradient Descent](#gd)**\n",
        "4. **[Regularization](#reg)**\n",
        "5. **[Grid Search](#gs)**"
      ]
    },
    {
      "cell_type": "markdown",
      "metadata": {
        "id": "HumDXsvcFrdr"
      },
      "source": [
        "**Import the required libraries**"
      ]
    },
    {
      "cell_type": "code",
      "metadata": {
        "id": "uk4FW4dnFrds",
        "colab": {
          "base_uri": "https://localhost:8080/"
        },
        "outputId": "86bd368a-1b76-4207-f31d-45d96804a665"
      },
      "source": [
        "import pandas as pd\r\n",
        "import numpy as np\r\n",
        "import seaborn as sns\r\n",
        "import matplotlib.pyplot as plt\r\n",
        "import statsmodels.stats as stats"
      ],
      "execution_count": null,
      "outputs": [
        {
          "output_type": "stream",
          "text": [
            "/usr/local/lib/python3.6/dist-packages/statsmodels/tools/_testing.py:19: FutureWarning: pandas.util.testing is deprecated. Use the functions in the public API at pandas.testing instead.\n",
            "  import pandas.util.testing as tm\n"
          ],
          "name": "stderr"
        }
      ]
    },
    {
      "cell_type": "markdown",
      "metadata": {
        "id": "GqfD2M9hFrdt"
      },
      "source": [
        "#### Load the Life expectancy dataset and display the first five records "
      ]
    },
    {
      "cell_type": "code",
      "metadata": {
        "id": "P3ckz3hDFrdu",
        "colab": {
          "base_uri": "https://localhost:8080/",
          "height": 252
        },
        "outputId": "7b0c2b6f-27cf-40a4-fb8b-78a46fcf32ef"
      },
      "source": [
        "df= pd.read_csv('/content/Life_Expectancy (1).csv')\n",
        "print(df.shape)\n",
        "df.head()"
      ],
      "execution_count": null,
      "outputs": [
        {
          "output_type": "stream",
          "text": [
            "(182, 20)\n"
          ],
          "name": "stdout"
        },
        {
          "output_type": "execute_result",
          "data": {
            "text/html": [
              "<div>\n",
              "<style scoped>\n",
              "    .dataframe tbody tr th:only-of-type {\n",
              "        vertical-align: middle;\n",
              "    }\n",
              "\n",
              "    .dataframe tbody tr th {\n",
              "        vertical-align: top;\n",
              "    }\n",
              "\n",
              "    .dataframe thead th {\n",
              "        text-align: right;\n",
              "    }\n",
              "</style>\n",
              "<table border=\"1\" class=\"dataframe\">\n",
              "  <thead>\n",
              "    <tr style=\"text-align: right;\">\n",
              "      <th></th>\n",
              "      <th>Country</th>\n",
              "      <th>Year</th>\n",
              "      <th>Status</th>\n",
              "      <th>Adult_Mortality</th>\n",
              "      <th>Infant_Deaths</th>\n",
              "      <th>Alcohol</th>\n",
              "      <th>Hepatitis B</th>\n",
              "      <th>Measles</th>\n",
              "      <th>BMI</th>\n",
              "      <th>Underfive_Deaths</th>\n",
              "      <th>Polio</th>\n",
              "      <th>Diphtheria</th>\n",
              "      <th>HIV</th>\n",
              "      <th>GDP</th>\n",
              "      <th>Population</th>\n",
              "      <th>Malnourished10_19</th>\n",
              "      <th>Malnourished5_9</th>\n",
              "      <th>Income_Index</th>\n",
              "      <th>Schooling</th>\n",
              "      <th>Life_Expectancy</th>\n",
              "    </tr>\n",
              "  </thead>\n",
              "  <tbody>\n",
              "    <tr>\n",
              "      <th>0</th>\n",
              "      <td>Afghanistan</td>\n",
              "      <td>2015</td>\n",
              "      <td>Developing</td>\n",
              "      <td>263.0</td>\n",
              "      <td>62</td>\n",
              "      <td>0.01</td>\n",
              "      <td>65.0</td>\n",
              "      <td>1154</td>\n",
              "      <td>19.1</td>\n",
              "      <td>83</td>\n",
              "      <td>6</td>\n",
              "      <td>65</td>\n",
              "      <td>0.1</td>\n",
              "      <td>584.259210</td>\n",
              "      <td>33736494.0</td>\n",
              "      <td>17.2</td>\n",
              "      <td>17.3</td>\n",
              "      <td>0.479</td>\n",
              "      <td>10.1</td>\n",
              "      <td>65.0</td>\n",
              "    </tr>\n",
              "    <tr>\n",
              "      <th>1</th>\n",
              "      <td>Albania</td>\n",
              "      <td>2015</td>\n",
              "      <td>Developing</td>\n",
              "      <td>74.0</td>\n",
              "      <td>0</td>\n",
              "      <td>4.60</td>\n",
              "      <td>99.0</td>\n",
              "      <td>0</td>\n",
              "      <td>58.0</td>\n",
              "      <td>0</td>\n",
              "      <td>99</td>\n",
              "      <td>99</td>\n",
              "      <td>0.1</td>\n",
              "      <td>3954.227830</td>\n",
              "      <td>28873.0</td>\n",
              "      <td>1.2</td>\n",
              "      <td>1.3</td>\n",
              "      <td>0.762</td>\n",
              "      <td>14.2</td>\n",
              "      <td>77.8</td>\n",
              "    </tr>\n",
              "    <tr>\n",
              "      <th>2</th>\n",
              "      <td>Algeria</td>\n",
              "      <td>2015</td>\n",
              "      <td>Developing</td>\n",
              "      <td>19.0</td>\n",
              "      <td>21</td>\n",
              "      <td>NaN</td>\n",
              "      <td>95.0</td>\n",
              "      <td>63</td>\n",
              "      <td>59.5</td>\n",
              "      <td>24</td>\n",
              "      <td>95</td>\n",
              "      <td>95</td>\n",
              "      <td>0.1</td>\n",
              "      <td>4132.762920</td>\n",
              "      <td>39871528.0</td>\n",
              "      <td>6.0</td>\n",
              "      <td>5.8</td>\n",
              "      <td>0.743</td>\n",
              "      <td>14.4</td>\n",
              "      <td>75.6</td>\n",
              "    </tr>\n",
              "    <tr>\n",
              "      <th>3</th>\n",
              "      <td>Angola</td>\n",
              "      <td>2015</td>\n",
              "      <td>Developing</td>\n",
              "      <td>335.0</td>\n",
              "      <td>66</td>\n",
              "      <td>NaN</td>\n",
              "      <td>64.0</td>\n",
              "      <td>118</td>\n",
              "      <td>23.3</td>\n",
              "      <td>98</td>\n",
              "      <td>7</td>\n",
              "      <td>64</td>\n",
              "      <td>1.9</td>\n",
              "      <td>3695.793748</td>\n",
              "      <td>2785935.0</td>\n",
              "      <td>8.3</td>\n",
              "      <td>8.2</td>\n",
              "      <td>0.531</td>\n",
              "      <td>11.4</td>\n",
              "      <td>52.4</td>\n",
              "    </tr>\n",
              "    <tr>\n",
              "      <th>4</th>\n",
              "      <td>Antigua</td>\n",
              "      <td>2015</td>\n",
              "      <td>Developing</td>\n",
              "      <td>13.0</td>\n",
              "      <td>0</td>\n",
              "      <td>NaN</td>\n",
              "      <td>99.0</td>\n",
              "      <td>0</td>\n",
              "      <td>47.7</td>\n",
              "      <td>0</td>\n",
              "      <td>86</td>\n",
              "      <td>99</td>\n",
              "      <td>0.2</td>\n",
              "      <td>13566.954100</td>\n",
              "      <td>NaN</td>\n",
              "      <td>3.3</td>\n",
              "      <td>3.3</td>\n",
              "      <td>0.784</td>\n",
              "      <td>13.9</td>\n",
              "      <td>76.4</td>\n",
              "    </tr>\n",
              "  </tbody>\n",
              "</table>\n",
              "</div>"
            ],
            "text/plain": [
              "       Country  Year      Status  ...  Income_Index  Schooling  Life_Expectancy\n",
              "0  Afghanistan  2015  Developing  ...         0.479       10.1             65.0\n",
              "1      Albania  2015  Developing  ...         0.762       14.2             77.8\n",
              "2      Algeria  2015  Developing  ...         0.743       14.4             75.6\n",
              "3       Angola  2015  Developing  ...         0.531       11.4             52.4\n",
              "4      Antigua  2015  Developing  ...         0.784       13.9             76.4\n",
              "\n",
              "[5 rows x 20 columns]"
            ]
          },
          "metadata": {
            "tags": []
          },
          "execution_count": 2
        }
      ]
    },
    {
      "cell_type": "markdown",
      "metadata": {
        "id": "_7ISjF53Frdu"
      },
      "source": [
        "#### Check the shape of the data and display its information"
      ]
    },
    {
      "cell_type": "code",
      "metadata": {
        "scrolled": true,
        "id": "I5V2h32IFrdv"
      },
      "source": [
        "# check the size of the dataframe\n",
        "\n",
        "# type your code here"
      ],
      "execution_count": null,
      "outputs": []
    },
    {
      "cell_type": "code",
      "metadata": {
        "id": "KbaeOtXwFrdw",
        "colab": {
          "base_uri": "https://localhost:8080/"
        },
        "outputId": "cf2a329f-fe0e-4f66-84b7-580ee714c9a0"
      },
      "source": [
        "df.info"
      ],
      "execution_count": null,
      "outputs": [
        {
          "output_type": "execute_result",
          "data": {
            "text/plain": [
              "<bound method DataFrame.info of          Country  Year      Status  ...  Income_Index  Schooling  Life_Expectancy\n",
              "0    Afghanistan  2015  Developing  ...         0.479       10.1             65.0\n",
              "1        Albania  2015  Developing  ...         0.762       14.2             77.8\n",
              "2        Algeria  2015  Developing  ...         0.743       14.4             75.6\n",
              "3         Angola  2015  Developing  ...         0.531       11.4             52.4\n",
              "4        Antigua  2015  Developing  ...         0.784       13.9             76.4\n",
              "..           ...   ...         ...  ...           ...        ...              ...\n",
              "177    Venezuela  2015  Developing  ...         0.769       14.3             74.1\n",
              "178     Viet Nam  2015  Developing  ...         0.678       12.6             76.0\n",
              "179        Yemen  2015  Developing  ...         0.499        9.0             65.7\n",
              "180       Zambia  2015  Developing  ...         0.576       12.5             61.8\n",
              "181     Zimbabwe  2015  Developing  ...         0.507       10.3             67.0\n",
              "\n",
              "[182 rows x 20 columns]>"
            ]
          },
          "metadata": {
            "tags": []
          },
          "execution_count": 4
        }
      ]
    },
    {
      "cell_type": "markdown",
      "metadata": {
        "id": "L04DfGDtFrdw"
      },
      "source": [
        "### Let's begin with some hands-on practice exercises"
      ]
    },
    {
      "cell_type": "markdown",
      "metadata": {
        "id": "5inFrarOFrdx"
      },
      "source": [
        "<a id=\"eda\"> </a>\n",
        "## 1. Data Preparation"
      ]
    },
    {
      "cell_type": "markdown",
      "metadata": {
        "collapsed": true,
        "id": "9GbYw6GpFrdy"
      },
      "source": [
        "<table align=\"left\">\n",
        "    <tr>\n",
        "        <td width=\"6%\">\n",
        "            <img src=\"question_icon.png\">\n",
        "        </td>\n",
        "        <td>\n",
        "            <div align=\"left\", style=\"font-size:120%\">\n",
        "                <font color=\"#21618C\">\n",
        "                    <b>1. The dataset gives the life expectancy for different countries. Check if any information about life expectancy is missing from the given records. How do we fix the problem if present?</b>\n",
        "                </font>\n",
        "            </div>\n",
        "        </td>\n",
        "    </tr>\n",
        "</table>"
      ]
    },
    {
      "cell_type": "code",
      "metadata": {
        "id": "Ka-fSRp3Frdz"
      },
      "source": [
        "df.columns = [i.strip() for i in df.columns]"
      ],
      "execution_count": null,
      "outputs": []
    },
    {
      "cell_type": "code",
      "metadata": {
        "colab": {
          "base_uri": "https://localhost:8080/"
        },
        "id": "x-1QOP8vVT_z",
        "outputId": "6daf4130-2f80-48c1-b0d8-de942c8720b2"
      },
      "source": [
        "df.columns"
      ],
      "execution_count": null,
      "outputs": [
        {
          "output_type": "execute_result",
          "data": {
            "text/plain": [
              "Index(['Country', 'Year', 'Status', 'Adult_Mortality', 'Infant_Deaths',\n",
              "       'Alcohol', 'Hepatitis B', 'Measles', 'BMI', 'Underfive_Deaths', 'Polio',\n",
              "       'Diphtheria', 'HIV', 'GDP', 'Population', 'Malnourished10_19',\n",
              "       'Malnourished5_9', 'Income_Index', 'Schooling', 'Life_Expectancy'],\n",
              "      dtype='object')"
            ]
          },
          "metadata": {
            "tags": []
          },
          "execution_count": 6
        }
      ]
    },
    {
      "cell_type": "code",
      "metadata": {
        "colab": {
          "base_uri": "https://localhost:8080/"
        },
        "id": "sfQPf0l_VUCP",
        "outputId": "0d3561db-f085-419a-8885-ba6d3671e124"
      },
      "source": [
        "df.isna().sum()"
      ],
      "execution_count": null,
      "outputs": [
        {
          "output_type": "execute_result",
          "data": {
            "text/plain": [
              "Country                0\n",
              "Year                   0\n",
              "Status                 0\n",
              "Adult_Mortality        9\n",
              "Infant_Deaths          0\n",
              "Alcohol              167\n",
              "Hepatitis B            9\n",
              "Measles                0\n",
              "BMI                    4\n",
              "Underfive_Deaths       0\n",
              "Polio                  0\n",
              "Diphtheria             0\n",
              "HIV                    0\n",
              "GDP                   25\n",
              "Population            41\n",
              "Malnourished10_19      4\n",
              "Malnourished5_9        4\n",
              "Income_Index          13\n",
              "Schooling              9\n",
              "Life_Expectancy        9\n",
              "dtype: int64"
            ]
          },
          "metadata": {
            "tags": []
          },
          "execution_count": 7
        }
      ]
    },
    {
      "cell_type": "code",
      "metadata": {
        "id": "tDAm5g7mVlqi"
      },
      "source": [
        "# we have 9 missing values."
      ],
      "execution_count": null,
      "outputs": []
    },
    {
      "cell_type": "code",
      "metadata": {
        "colab": {
          "base_uri": "https://localhost:8080/",
          "height": 371
        },
        "id": "Du0i6huoVls-",
        "outputId": "2c8631f6-a41e-44ee-8192-0663bfe98427"
      },
      "source": [
        "sns.distplot(df['Life_Expectancy'])\r\n",
        "plt.axvline(df['Life_Expectancy'].mean(), color= 'red')\r\n",
        "plt.axvline(df['Life_Expectancy'].median(), color= 'green')\r\n",
        "plt.show()\r\n",
        "print(df['Life_Expectancy'].skew())\r\n",
        "print(df['Life_Expectancy'].kurt())"
      ],
      "execution_count": null,
      "outputs": [
        {
          "output_type": "stream",
          "text": [
            "/usr/local/lib/python3.6/dist-packages/seaborn/distributions.py:2557: FutureWarning: `distplot` is a deprecated function and will be removed in a future version. Please adapt your code to use either `displot` (a figure-level function with similar flexibility) or `histplot` (an axes-level function for histograms).\n",
            "  warnings.warn(msg, FutureWarning)\n"
          ],
          "name": "stderr"
        },
        {
          "output_type": "display_data",
          "data": {
            "image/png": "[encoded data removed]",
            "text/plain": [
              "<Figure size 432x288 with 1 Axes>"
            ]
          },
          "metadata": {
            "tags": [],
            "needs_background": "light"
          }
        },
        {
          "output_type": "stream",
          "text": [
            "-0.5570055450291043\n",
            "-0.322560114952835\n"
          ],
          "name": "stdout"
        }
      ]
    },
    {
      "cell_type": "code",
      "metadata": {
        "id": "A-qmTwEEVogd"
      },
      "source": [
        "# Left skewed data. # Platykurtic type kurtosis\r\n",
        "# we can fill NaN with mean value as mean is lesser than median here."
      ],
      "execution_count": null,
      "outputs": []
    },
    {
      "cell_type": "code",
      "metadata": {
        "id": "XpM8lEKQWPQM"
      },
      "source": [
        ""
      ],
      "execution_count": null,
      "outputs": []
    },
    {
      "cell_type": "code",
      "metadata": {
        "id": "ov7FXXIZWPSs"
      },
      "source": [
        ""
      ],
      "execution_count": null,
      "outputs": []
    },
    {
      "cell_type": "code",
      "metadata": {
        "id": "gtcNOJE5WPtU"
      },
      "source": [
        ""
      ],
      "execution_count": null,
      "outputs": []
    },
    {
      "cell_type": "code",
      "metadata": {
        "id": "r3eWebmLWPvQ"
      },
      "source": [
        ""
      ],
      "execution_count": null,
      "outputs": []
    },
    {
      "cell_type": "code",
      "metadata": {
        "id": "VE9dlqNxVojY"
      },
      "source": [
        ""
      ],
      "execution_count": null,
      "outputs": []
    },
    {
      "cell_type": "code",
      "metadata": {
        "id": "nC4VIdHvVols"
      },
      "source": [
        ""
      ],
      "execution_count": null,
      "outputs": []
    },
    {
      "cell_type": "markdown",
      "metadata": {
        "collapsed": true,
        "id": "ps54swwiFrdz"
      },
      "source": [
        "<table align=\"left\">\n",
        "    <tr>\n",
        "        <td width=\"6%\">\n",
        "            <img src=\"question_icon.png\">\n",
        "        </td>\n",
        "        <td>\n",
        "            <div align=\"left\", style=\"font-size:120%\">\n",
        "                <font color=\"#21618C\">\n",
        "                    <b>2. How do we handle the missing values from the entire dataset?</b>\n",
        "                </font>\n",
        "            </div>\n",
        "        </td>\n",
        "    </tr>\n",
        "</table>"
      ]
    },
    {
      "cell_type": "code",
      "metadata": {
        "id": "e7cAjsUDFrd0",
        "colab": {
          "base_uri": "https://localhost:8080/",
          "height": 1000
        },
        "outputId": "d79057f8-89b8-4fb8-9fcd-f46dd20b51c2"
      },
      "source": [
        "for i in df.columns[3:]:\r\n",
        "  if df[i].isna().sum() > 0:\r\n",
        "    sns.distplot(df[i])\r\n",
        "    plt.axvline(df[i].mean(), color= 'red')\r\n",
        "    plt.axvline(df[i].median(), color= 'green')\r\n",
        "    plt.show()"
      ],
      "execution_count": null,
      "outputs": [
        {
          "output_type": "stream",
          "text": [
            "/usr/local/lib/python3.6/dist-packages/seaborn/distributions.py:2557: FutureWarning: `distplot` is a deprecated function and will be removed in a future version. Please adapt your code to use either `displot` (a figure-level function with similar flexibility) or `histplot` (an axes-level function for histograms).\n",
            "  warnings.warn(msg, FutureWarning)\n"
          ],
          "name": "stderr"
        },
        {
          "output_type": "display_data",
          "data": {
            "image/png": "[encoded data removed]",
            "text/plain": [
              "<Figure size 432x288 with 1 Axes>"
            ]
          },
          "metadata": {
            "tags": [],
            "needs_background": "light"
          }
        },
        {
          "output_type": "stream",
          "text": [
            "/usr/local/lib/python3.6/dist-packages/seaborn/distributions.py:2557: FutureWarning: `distplot` is a deprecated function and will be removed in a future version. Please adapt your code to use either `displot` (a figure-level function with similar flexibility) or `histplot` (an axes-level function for histograms).\n",
            "  warnings.warn(msg, FutureWarning)\n"
          ],
          "name": "stderr"
        },
        {
          "output_type": "display_data",
          "data": {
            "image/png": "[encoded data removed]",
            "text/plain": [
              "<Figure size 432x288 with 1 Axes>"
            ]
          },
          "metadata": {
            "tags": [],
            "needs_background": "light"
          }
        },
        {
          "output_type": "stream",
          "text": [
            "/usr/local/lib/python3.6/dist-packages/seaborn/distributions.py:2557: FutureWarning: `distplot` is a deprecated function and will be removed in a future version. Please adapt your code to use either `displot` (a figure-level function with similar flexibility) or `histplot` (an axes-level function for histograms).\n",
            "  warnings.warn(msg, FutureWarning)\n"
          ],
          "name": "stderr"
        },
        {
          "output_type": "display_data",
          "data": {
            "image/png": "[encoded data removed]",
            "text/plain": [
              "<Figure size 432x288 with 1 Axes>"
            ]
          },
          "metadata": {
            "tags": [],
            "needs_background": "light"
          }
        },
        {
          "output_type": "stream",
          "text": [
            "/usr/local/lib/python3.6/dist-packages/seaborn/distributions.py:2557: FutureWarning: `distplot` is a deprecated function and will be removed in a future version. Please adapt your code to use either `displot` (a figure-level function with similar flexibility) or `histplot` (an axes-level function for histograms).\n",
            "  warnings.warn(msg, FutureWarning)\n"
          ],
          "name": "stderr"
        },
        {
          "output_type": "display_data",
          "data": {
            "image/png": "[encoded data removed]",
            "text/plain": [
              "<Figure size 432x288 with 1 Axes>"
            ]
          },
          "metadata": {
            "tags": [],
            "needs_background": "light"
          }
        },
        {
          "output_type": "stream",
          "text": [
            "/usr/local/lib/python3.6/dist-packages/seaborn/distributions.py:2557: FutureWarning: `distplot` is a deprecated function and will be removed in a future version. Please adapt your code to use either `displot` (a figure-level function with similar flexibility) or `histplot` (an axes-level function for histograms).\n",
            "  warnings.warn(msg, FutureWarning)\n"
          ],
          "name": "stderr"
        },
        {
          "output_type": "display_data",
          "data": {
            "image/png": "[encoded data removed]",
            "text/plain": [
              "<Figure size 432x288 with 1 Axes>"
            ]
          },
          "metadata": {
            "tags": [],
            "needs_background": "light"
          }
        },
        {
          "output_type": "stream",
          "text": [
            "/usr/local/lib/python3.6/dist-packages/seaborn/distributions.py:2557: FutureWarning: `distplot` is a deprecated function and will be removed in a future version. Please adapt your code to use either `displot` (a figure-level function with similar flexibility) or `histplot` (an axes-level function for histograms).\n",
            "  warnings.warn(msg, FutureWarning)\n"
          ],
          "name": "stderr"
        },
        {
          "output_type": "display_data",
          "data": {
            "image/png": "[encoded data removed]",
            "text/plain": [
              "<Figure size 432x288 with 1 Axes>"
            ]
          },
          "metadata": {
            "tags": [],
            "needs_background": "light"
          }
        },
        {
          "output_type": "stream",
          "text": [
            "/usr/local/lib/python3.6/dist-packages/seaborn/distributions.py:2557: FutureWarning: `distplot` is a deprecated function and will be removed in a future version. Please adapt your code to use either `displot` (a figure-level function with similar flexibility) or `histplot` (an axes-level function for histograms).\n",
            "  warnings.warn(msg, FutureWarning)\n"
          ],
          "name": "stderr"
        },
        {
          "output_type": "display_data",
          "data": {
            "image/png": "[encoded data removed]",
            "text/plain": [
              "<Figure size 432x288 with 1 Axes>"
            ]
          },
          "metadata": {
            "tags": [],
            "needs_background": "light"
          }
        },
        {
          "output_type": "stream",
          "text": [
            "/usr/local/lib/python3.6/dist-packages/seaborn/distributions.py:2557: FutureWarning: `distplot` is a deprecated function and will be removed in a future version. Please adapt your code to use either `displot` (a figure-level function with similar flexibility) or `histplot` (an axes-level function for histograms).\n",
            "  warnings.warn(msg, FutureWarning)\n"
          ],
          "name": "stderr"
        },
        {
          "output_type": "display_data",
          "data": {
            "image/png": "[encoded data removed]",
            "text/plain": [
              "<Figure size 432x288 with 1 Axes>"
            ]
          },
          "metadata": {
            "tags": [],
            "needs_background": "light"
          }
        },
        {
          "output_type": "stream",
          "text": [
            "/usr/local/lib/python3.6/dist-packages/seaborn/distributions.py:2557: FutureWarning: `distplot` is a deprecated function and will be removed in a future version. Please adapt your code to use either `displot` (a figure-level function with similar flexibility) or `histplot` (an axes-level function for histograms).\n",
            "  warnings.warn(msg, FutureWarning)\n"
          ],
          "name": "stderr"
        },
        {
          "output_type": "display_data",
          "data": {
            "image/png": "[encoded data removed]",
            "text/plain": [
              "<Figure size 432x288 with 1 Axes>"
            ]
          },
          "metadata": {
            "tags": [],
            "needs_background": "light"
          }
        },
        {
          "output_type": "stream",
          "text": [
            "/usr/local/lib/python3.6/dist-packages/seaborn/distributions.py:2557: FutureWarning: `distplot` is a deprecated function and will be removed in a future version. Please adapt your code to use either `displot` (a figure-level function with similar flexibility) or `histplot` (an axes-level function for histograms).\n",
            "  warnings.warn(msg, FutureWarning)\n"
          ],
          "name": "stderr"
        },
        {
          "output_type": "display_data",
          "data": {
            "image/png": "[encoded data removed]",
            "text/plain": [
              "<Figure size 432x288 with 1 Axes>"
            ]
          },
          "metadata": {
            "tags": [],
            "needs_background": "light"
          }
        },
        {
          "output_type": "stream",
          "text": [
            "/usr/local/lib/python3.6/dist-packages/seaborn/distributions.py:2557: FutureWarning: `distplot` is a deprecated function and will be removed in a future version. Please adapt your code to use either `displot` (a figure-level function with similar flexibility) or `histplot` (an axes-level function for histograms).\n",
            "  warnings.warn(msg, FutureWarning)\n"
          ],
          "name": "stderr"
        },
        {
          "output_type": "display_data",
          "data": {
            "image/png": "[encoded data removed]",
            "text/plain": [
              "<Figure size 432x288 with 1 Axes>"
            ]
          },
          "metadata": {
            "tags": [],
            "needs_background": "light"
          }
        }
      ]
    },
    {
      "cell_type": "markdown",
      "metadata": {
        "id": "YvdfwloZjzWu"
      },
      "source": [
        "### looking at the distributions of the plots, we can say the following inferences:\r\n",
        "\r\n",
        " Adumt_mortality - Mean imputation \r\n",
        "\r\n",
        " Alcohol- Mean imputation\r\n",
        "\r\n",
        " hepatitis B- Median imputation\r\n",
        "\r\n",
        " BMI- Mean imputation\r\n",
        "\r\n",
        " GDP - Median imputation\r\n",
        "\r\n",
        " Population - Median imputation\r\n",
        "\r\n",
        " Malnutritition_10_19 -  Median imputation\r\n",
        "\r\n",
        " Malnutritition_09 -  Median imputation\r\n",
        "\r\n",
        " Income- Median imputation\r\n",
        "\r\n",
        " Schooling- Mean imputation\r\n",
        "\r\n",
        " Life Expectancy - Median imputation\r\n"
      ]
    },
    {
      "cell_type": "code",
      "metadata": {
        "colab": {
          "base_uri": "https://localhost:8080/"
        },
        "id": "3RSraLX3oeYc",
        "outputId": "e16c11b0-60b6-43bb-ced5-81429c880283"
      },
      "source": [
        "df['Status'].unique()"
      ],
      "execution_count": null,
      "outputs": [
        {
          "output_type": "execute_result",
          "data": {
            "text/plain": [
              "array(['Developing', 'Developed'], dtype=object)"
            ]
          },
          "metadata": {
            "tags": []
          },
          "execution_count": 12
        }
      ]
    },
    {
      "cell_type": "code",
      "metadata": {
        "colab": {
          "base_uri": "https://localhost:8080/",
          "height": 227
        },
        "id": "G7JMPGz8W_cw",
        "outputId": "55d72d03-3a32-4ae1-ae13-f737f758beca"
      },
      "source": [
        "df.head()"
      ],
      "execution_count": null,
      "outputs": [
        {
          "output_type": "execute_result",
          "data": {
            "text/html": [
              "<div>\n",
              "<style scoped>\n",
              "    .dataframe tbody tr th:only-of-type {\n",
              "        vertical-align: middle;\n",
              "    }\n",
              "\n",
              "    .dataframe tbody tr th {\n",
              "        vertical-align: top;\n",
              "    }\n",
              "\n",
              "    .dataframe thead th {\n",
              "        text-align: right;\n",
              "    }\n",
              "</style>\n",
              "<table border=\"1\" class=\"dataframe\">\n",
              "  <thead>\n",
              "    <tr style=\"text-align: right;\">\n",
              "      <th></th>\n",
              "      <th>Country</th>\n",
              "      <th>Year</th>\n",
              "      <th>Status</th>\n",
              "      <th>Adult_Mortality</th>\n",
              "      <th>Infant_Deaths</th>\n",
              "      <th>Alcohol</th>\n",
              "      <th>Hepatitis B</th>\n",
              "      <th>Measles</th>\n",
              "      <th>BMI</th>\n",
              "      <th>Underfive_Deaths</th>\n",
              "      <th>Polio</th>\n",
              "      <th>Diphtheria</th>\n",
              "      <th>HIV</th>\n",
              "      <th>GDP</th>\n",
              "      <th>Population</th>\n",
              "      <th>Malnourished10_19</th>\n",
              "      <th>Malnourished5_9</th>\n",
              "      <th>Income_Index</th>\n",
              "      <th>Schooling</th>\n",
              "      <th>Life_Expectancy</th>\n",
              "    </tr>\n",
              "  </thead>\n",
              "  <tbody>\n",
              "    <tr>\n",
              "      <th>0</th>\n",
              "      <td>Afghanistan</td>\n",
              "      <td>2015</td>\n",
              "      <td>Developing</td>\n",
              "      <td>263.0</td>\n",
              "      <td>62</td>\n",
              "      <td>0.01</td>\n",
              "      <td>65.0</td>\n",
              "      <td>1154</td>\n",
              "      <td>19.1</td>\n",
              "      <td>83</td>\n",
              "      <td>6</td>\n",
              "      <td>65</td>\n",
              "      <td>0.1</td>\n",
              "      <td>584.259210</td>\n",
              "      <td>33736494.0</td>\n",
              "      <td>17.2</td>\n",
              "      <td>17.3</td>\n",
              "      <td>0.479</td>\n",
              "      <td>10.1</td>\n",
              "      <td>65.0</td>\n",
              "    </tr>\n",
              "    <tr>\n",
              "      <th>1</th>\n",
              "      <td>Albania</td>\n",
              "      <td>2015</td>\n",
              "      <td>Developing</td>\n",
              "      <td>74.0</td>\n",
              "      <td>0</td>\n",
              "      <td>4.60</td>\n",
              "      <td>99.0</td>\n",
              "      <td>0</td>\n",
              "      <td>58.0</td>\n",
              "      <td>0</td>\n",
              "      <td>99</td>\n",
              "      <td>99</td>\n",
              "      <td>0.1</td>\n",
              "      <td>3954.227830</td>\n",
              "      <td>28873.0</td>\n",
              "      <td>1.2</td>\n",
              "      <td>1.3</td>\n",
              "      <td>0.762</td>\n",
              "      <td>14.2</td>\n",
              "      <td>77.8</td>\n",
              "    </tr>\n",
              "    <tr>\n",
              "      <th>2</th>\n",
              "      <td>Algeria</td>\n",
              "      <td>2015</td>\n",
              "      <td>Developing</td>\n",
              "      <td>19.0</td>\n",
              "      <td>21</td>\n",
              "      <td>NaN</td>\n",
              "      <td>95.0</td>\n",
              "      <td>63</td>\n",
              "      <td>59.5</td>\n",
              "      <td>24</td>\n",
              "      <td>95</td>\n",
              "      <td>95</td>\n",
              "      <td>0.1</td>\n",
              "      <td>4132.762920</td>\n",
              "      <td>39871528.0</td>\n",
              "      <td>6.0</td>\n",
              "      <td>5.8</td>\n",
              "      <td>0.743</td>\n",
              "      <td>14.4</td>\n",
              "      <td>75.6</td>\n",
              "    </tr>\n",
              "    <tr>\n",
              "      <th>3</th>\n",
              "      <td>Angola</td>\n",
              "      <td>2015</td>\n",
              "      <td>Developing</td>\n",
              "      <td>335.0</td>\n",
              "      <td>66</td>\n",
              "      <td>NaN</td>\n",
              "      <td>64.0</td>\n",
              "      <td>118</td>\n",
              "      <td>23.3</td>\n",
              "      <td>98</td>\n",
              "      <td>7</td>\n",
              "      <td>64</td>\n",
              "      <td>1.9</td>\n",
              "      <td>3695.793748</td>\n",
              "      <td>2785935.0</td>\n",
              "      <td>8.3</td>\n",
              "      <td>8.2</td>\n",
              "      <td>0.531</td>\n",
              "      <td>11.4</td>\n",
              "      <td>52.4</td>\n",
              "    </tr>\n",
              "    <tr>\n",
              "      <th>4</th>\n",
              "      <td>Antigua</td>\n",
              "      <td>2015</td>\n",
              "      <td>Developing</td>\n",
              "      <td>13.0</td>\n",
              "      <td>0</td>\n",
              "      <td>NaN</td>\n",
              "      <td>99.0</td>\n",
              "      <td>0</td>\n",
              "      <td>47.7</td>\n",
              "      <td>0</td>\n",
              "      <td>86</td>\n",
              "      <td>99</td>\n",
              "      <td>0.2</td>\n",
              "      <td>13566.954100</td>\n",
              "      <td>NaN</td>\n",
              "      <td>3.3</td>\n",
              "      <td>3.3</td>\n",
              "      <td>0.784</td>\n",
              "      <td>13.9</td>\n",
              "      <td>76.4</td>\n",
              "    </tr>\n",
              "  </tbody>\n",
              "</table>\n",
              "</div>"
            ],
            "text/plain": [
              "       Country  Year      Status  ...  Income_Index  Schooling  Life_Expectancy\n",
              "0  Afghanistan  2015  Developing  ...         0.479       10.1             65.0\n",
              "1      Albania  2015  Developing  ...         0.762       14.2             77.8\n",
              "2      Algeria  2015  Developing  ...         0.743       14.4             75.6\n",
              "3       Angola  2015  Developing  ...         0.531       11.4             52.4\n",
              "4      Antigua  2015  Developing  ...         0.784       13.9             76.4\n",
              "\n",
              "[5 rows x 20 columns]"
            ]
          },
          "metadata": {
            "tags": []
          },
          "execution_count": 13
        }
      ]
    },
    {
      "cell_type": "code",
      "metadata": {
        "id": "RN74PbBEW_lg"
      },
      "source": [
        "exp= df['Life_Expectancy']\r\n",
        "df_n = df.copy()\r\n",
        "df_n.drop({'Life_Expectancy'}, axis=1, inplace=True)"
      ],
      "execution_count": null,
      "outputs": []
    },
    {
      "cell_type": "code",
      "metadata": {
        "id": "IhLcSnuGoRS0"
      },
      "source": [
        "dfn= df_n.iloc[:, 3:]"
      ],
      "execution_count": null,
      "outputs": []
    },
    {
      "cell_type": "code",
      "metadata": {
        "id": "gWPg_sq_oiaE"
      },
      "source": [
        "dfn = dfn.fillna(dfn.median())"
      ],
      "execution_count": null,
      "outputs": []
    },
    {
      "cell_type": "code",
      "metadata": {
        "id": "clx6mdR8phch"
      },
      "source": [
        "exp.fillna(exp.median(), inplace=True)"
      ],
      "execution_count": null,
      "outputs": []
    },
    {
      "cell_type": "code",
      "metadata": {
        "colab": {
          "base_uri": "https://localhost:8080/"
        },
        "id": "9WcZljZHpWKV",
        "outputId": "d0cf1807-1d9e-4566-c76e-9a3bbae1646a"
      },
      "source": [
        "exp.isna().sum()"
      ],
      "execution_count": null,
      "outputs": [
        {
          "output_type": "execute_result",
          "data": {
            "text/plain": [
              "0"
            ]
          },
          "metadata": {
            "tags": []
          },
          "execution_count": 18
        }
      ]
    },
    {
      "cell_type": "markdown",
      "metadata": {
        "collapsed": true,
        "id": "PyF-qc1rFrd0"
      },
      "source": [
        "<table align=\"left\">\n",
        "    <tr>\n",
        "        <td width=\"6%\">\n",
        "            <img src=\"question_icon.png\">\n",
        "        </td>\n",
        "        <td>\n",
        "            <div align=\"left\", style=\"font-size:120%\">\n",
        "                <font color=\"#21618C\">\n",
        "                    <b>3. Are there any redundant features in the data?</b>\n",
        "                </font>\n",
        "            </div>\n",
        "        </td>\n",
        "    </tr>\n",
        "</table>"
      ]
    },
    {
      "cell_type": "code",
      "metadata": {
        "id": "FIp3-1TzFrd0",
        "colab": {
          "base_uri": "https://localhost:8080/"
        },
        "outputId": "9904081f-566d-4241-b7c5-8407f8596bf7"
      },
      "source": [
        "# we can check based on significance level\r\n",
        "import statsmodels.api as sm\r\n",
        "xc= sm.add_constant(dfn)\r\n",
        "md= sm.OLS(exp, xc).fit()\r\n",
        "print(md.summary())"
      ],
      "execution_count": null,
      "outputs": [
        {
          "output_type": "stream",
          "text": [
            "                            OLS Regression Results                            \n",
            "==============================================================================\n",
            "Dep. Variable:        Life_Expectancy   R-squared:                       0.884\n",
            "Model:                            OLS   Adj. R-squared:                  0.873\n",
            "Method:                 Least Squares   F-statistic:                     78.86\n",
            "Date:                Sun, 31 Jan 2021   Prob (F-statistic):           1.57e-68\n",
            "Time:                        03:51:18   Log-Likelihood:                -436.30\n",
            "No. Observations:                 182   AIC:                             906.6\n",
            "Df Residuals:                     165   BIC:                             961.1\n",
            "Df Model:                          16                                         \n",
            "Covariance Type:            nonrobust                                         \n",
            "=====================================================================================\n",
            "                        coef    std err          t      P>|t|      [0.025      0.975]\n",
            "-------------------------------------------------------------------------------------\n",
            "const                52.9943      2.066     25.648      0.000      48.915      57.074\n",
            "Adult_Mortality      -0.0238      0.003     -7.017      0.000      -0.030      -0.017\n",
            "Infant_Deaths         0.1021      0.032      3.172      0.002       0.039       0.166\n",
            "Alcohol               0.1217      0.162      0.753      0.453      -0.198       0.441\n",
            "Hepatitis B           0.0381      0.021      1.831      0.069      -0.003       0.079\n",
            "Measles           -9.394e-05   5.43e-05     -1.730      0.085      -0.000    1.33e-05\n",
            "BMI                  -0.0144      0.013     -1.115      0.266      -0.040       0.011\n",
            "Underfive_Deaths     -0.0730      0.023     -3.127      0.002      -0.119      -0.027\n",
            "Polio                 0.0122      0.012      0.984      0.327      -0.012       0.037\n",
            "Diphtheria           -0.0011      0.024     -0.046      0.963      -0.049       0.047\n",
            "HIV                  -0.4643      0.218     -2.127      0.035      -0.895      -0.033\n",
            "GDP               -1.534e-07   2.24e-05     -0.007      0.995   -4.43e-05     4.4e-05\n",
            "Population         1.606e-09   9.62e-09      0.167      0.868   -1.74e-08    2.06e-08\n",
            "Malnourished10_19    -0.1359      0.234     -0.579      0.563      -0.599       0.327\n",
            "Malnourished5_9      -0.0895      0.232     -0.386      0.700      -0.548       0.369\n",
            "Income_Index         31.7277      3.485      9.103      0.000      24.846      38.610\n",
            "Schooling            -0.1308      0.126     -1.041      0.299      -0.379       0.117\n",
            "==============================================================================\n",
            "Omnibus:                       11.202   Durbin-Watson:                   1.928\n",
            "Prob(Omnibus):                  0.004   Jarque-Bera (JB):               19.838\n",
            "Skew:                          -0.281   Prob(JB):                     4.92e-05\n",
            "Kurtosis:                       4.516   Cond. No.                     4.98e+08\n",
            "==============================================================================\n",
            "\n",
            "Warnings:\n",
            "[1] Standard Errors assume that the covariance matrix of the errors is correctly specified.\n",
            "[2] The condition number is large, 4.98e+08. This might indicate that there are\n",
            "strong multicollinearity or other numerical problems.\n"
          ],
          "name": "stdout"
        }
      ]
    },
    {
      "cell_type": "code",
      "metadata": {
        "id": "2333Sy1FoJVF"
      },
      "source": [
        "# based on p values- yes- GDP, Diphtheria, Population are quite insignificant."
      ],
      "execution_count": null,
      "outputs": []
    },
    {
      "cell_type": "code",
      "metadata": {
        "colab": {
          "base_uri": "https://localhost:8080/",
          "height": 373
        },
        "id": "HYZLqPHSoJYP",
        "outputId": "9bc47965-b0f9-4dd8-a179-561d28893267"
      },
      "source": [
        "sns.heatmap(df.corr())"
      ],
      "execution_count": null,
      "outputs": [
        {
          "output_type": "execute_result",
          "data": {
            "text/plain": [
              "<matplotlib.axes._subplots.AxesSubplot at 0x7fbacb90a668>"
            ]
          },
          "metadata": {
            "tags": []
          },
          "execution_count": 21
        },
        {
          "output_type": "display_data",
          "data": {
            "image/png": "[encoded data removed]",
            "text/plain": [
              "<Figure size 432x288 with 2 Axes>"
            ]
          },
          "metadata": {
            "tags": [],
            "needs_background": "light"
          }
        }
      ]
    },
    {
      "cell_type": "code",
      "metadata": {
        "id": "QZSsJuy0qxSo"
      },
      "source": [
        ""
      ],
      "execution_count": null,
      "outputs": []
    },
    {
      "cell_type": "markdown",
      "metadata": {
        "collapsed": true,
        "id": "B7OEdhSZFrd1"
      },
      "source": [
        "<table align=\"left\">\n",
        "    <tr>\n",
        "        <td width=\"6%\">\n",
        "            <img src=\"question_icon.png\">\n",
        "        </td>\n",
        "        <td>\n",
        "            <div align=\"left\", style=\"font-size:120%\">\n",
        "                <font color=\"#21618C\">\n",
        "                    <b>4. Perform dummy encoding for appropriate variables of the dataset if required</b>\n",
        "                </font>\n",
        "            </div>\n",
        "        </td>\n",
        "    </tr>\n",
        "</table>"
      ]
    },
    {
      "cell_type": "code",
      "metadata": {
        "scrolled": true,
        "id": "uymRcWU8Frd1"
      },
      "source": [
        "dfn['Year'] = df['Year']\r\n",
        "dfn['status'] = df['Status']"
      ],
      "execution_count": null,
      "outputs": []
    },
    {
      "cell_type": "code",
      "metadata": {
        "colab": {
          "base_uri": "https://localhost:8080/",
          "height": 227
        },
        "id": "yH2mPfqusA4-",
        "outputId": "e2255058-d295-4933-8fe2-dff963b7c3ba"
      },
      "source": [
        "dfn = pd.get_dummies(data= dfn, columns=['Year', 'status'], drop_first=True)\r\n",
        "dfn.head()"
      ],
      "execution_count": null,
      "outputs": [
        {
          "output_type": "execute_result",
          "data": {
            "text/html": [
              "<div>\n",
              "<style scoped>\n",
              "    .dataframe tbody tr th:only-of-type {\n",
              "        vertical-align: middle;\n",
              "    }\n",
              "\n",
              "    .dataframe tbody tr th {\n",
              "        vertical-align: top;\n",
              "    }\n",
              "\n",
              "    .dataframe thead th {\n",
              "        text-align: right;\n",
              "    }\n",
              "</style>\n",
              "<table border=\"1\" class=\"dataframe\">\n",
              "  <thead>\n",
              "    <tr style=\"text-align: right;\">\n",
              "      <th></th>\n",
              "      <th>Adult_Mortality</th>\n",
              "      <th>Infant_Deaths</th>\n",
              "      <th>Alcohol</th>\n",
              "      <th>Hepatitis B</th>\n",
              "      <th>Measles</th>\n",
              "      <th>BMI</th>\n",
              "      <th>Underfive_Deaths</th>\n",
              "      <th>Polio</th>\n",
              "      <th>Diphtheria</th>\n",
              "      <th>HIV</th>\n",
              "      <th>GDP</th>\n",
              "      <th>Population</th>\n",
              "      <th>Malnourished10_19</th>\n",
              "      <th>Malnourished5_9</th>\n",
              "      <th>Income_Index</th>\n",
              "      <th>Schooling</th>\n",
              "      <th>Year_2015</th>\n",
              "      <th>status_Developing</th>\n",
              "    </tr>\n",
              "  </thead>\n",
              "  <tbody>\n",
              "    <tr>\n",
              "      <th>0</th>\n",
              "      <td>263.0</td>\n",
              "      <td>62</td>\n",
              "      <td>0.01</td>\n",
              "      <td>65.0</td>\n",
              "      <td>1154</td>\n",
              "      <td>19.1</td>\n",
              "      <td>83</td>\n",
              "      <td>6</td>\n",
              "      <td>65</td>\n",
              "      <td>0.1</td>\n",
              "      <td>584.259210</td>\n",
              "      <td>33736494.0</td>\n",
              "      <td>17.2</td>\n",
              "      <td>17.3</td>\n",
              "      <td>0.479</td>\n",
              "      <td>10.1</td>\n",
              "      <td>1</td>\n",
              "      <td>1</td>\n",
              "    </tr>\n",
              "    <tr>\n",
              "      <th>1</th>\n",
              "      <td>74.0</td>\n",
              "      <td>0</td>\n",
              "      <td>4.60</td>\n",
              "      <td>99.0</td>\n",
              "      <td>0</td>\n",
              "      <td>58.0</td>\n",
              "      <td>0</td>\n",
              "      <td>99</td>\n",
              "      <td>99</td>\n",
              "      <td>0.1</td>\n",
              "      <td>3954.227830</td>\n",
              "      <td>28873.0</td>\n",
              "      <td>1.2</td>\n",
              "      <td>1.3</td>\n",
              "      <td>0.762</td>\n",
              "      <td>14.2</td>\n",
              "      <td>1</td>\n",
              "      <td>1</td>\n",
              "    </tr>\n",
              "    <tr>\n",
              "      <th>2</th>\n",
              "      <td>19.0</td>\n",
              "      <td>21</td>\n",
              "      <td>0.01</td>\n",
              "      <td>95.0</td>\n",
              "      <td>63</td>\n",
              "      <td>59.5</td>\n",
              "      <td>24</td>\n",
              "      <td>95</td>\n",
              "      <td>95</td>\n",
              "      <td>0.1</td>\n",
              "      <td>4132.762920</td>\n",
              "      <td>39871528.0</td>\n",
              "      <td>6.0</td>\n",
              "      <td>5.8</td>\n",
              "      <td>0.743</td>\n",
              "      <td>14.4</td>\n",
              "      <td>1</td>\n",
              "      <td>1</td>\n",
              "    </tr>\n",
              "    <tr>\n",
              "      <th>3</th>\n",
              "      <td>335.0</td>\n",
              "      <td>66</td>\n",
              "      <td>0.01</td>\n",
              "      <td>64.0</td>\n",
              "      <td>118</td>\n",
              "      <td>23.3</td>\n",
              "      <td>98</td>\n",
              "      <td>7</td>\n",
              "      <td>64</td>\n",
              "      <td>1.9</td>\n",
              "      <td>3695.793748</td>\n",
              "      <td>2785935.0</td>\n",
              "      <td>8.3</td>\n",
              "      <td>8.2</td>\n",
              "      <td>0.531</td>\n",
              "      <td>11.4</td>\n",
              "      <td>1</td>\n",
              "      <td>1</td>\n",
              "    </tr>\n",
              "    <tr>\n",
              "      <th>4</th>\n",
              "      <td>13.0</td>\n",
              "      <td>0</td>\n",
              "      <td>0.01</td>\n",
              "      <td>99.0</td>\n",
              "      <td>0</td>\n",
              "      <td>47.7</td>\n",
              "      <td>0</td>\n",
              "      <td>86</td>\n",
              "      <td>99</td>\n",
              "      <td>0.2</td>\n",
              "      <td>13566.954100</td>\n",
              "      <td>1977527.0</td>\n",
              "      <td>3.3</td>\n",
              "      <td>3.3</td>\n",
              "      <td>0.784</td>\n",
              "      <td>13.9</td>\n",
              "      <td>1</td>\n",
              "      <td>1</td>\n",
              "    </tr>\n",
              "  </tbody>\n",
              "</table>\n",
              "</div>"
            ],
            "text/plain": [
              "   Adult_Mortality  Infant_Deaths  ...  Year_2015  status_Developing\n",
              "0            263.0             62  ...          1                  1\n",
              "1             74.0              0  ...          1                  1\n",
              "2             19.0             21  ...          1                  1\n",
              "3            335.0             66  ...          1                  1\n",
              "4             13.0              0  ...          1                  1\n",
              "\n",
              "[5 rows x 18 columns]"
            ]
          },
          "metadata": {
            "tags": []
          },
          "execution_count": 23
        }
      ]
    },
    {
      "cell_type": "markdown",
      "metadata": {
        "id": "WTy4m7QJFrd2"
      },
      "source": [
        "<a id=\"lf\"> </a>\n",
        "## 2. Linear Regression"
      ]
    },
    {
      "cell_type": "markdown",
      "metadata": {
        "collapsed": true,
        "id": "mOkU7JpJFrd2"
      },
      "source": [
        "<table align=\"left\">\n",
        "    <tr>\n",
        "        <td width=\"6%\">\n",
        "            <img src=\"question_icon.png\">\n",
        "        </td>\n",
        "        <td>\n",
        "            <div align=\"left\", style=\"font-size:120%\">\n",
        "                <font color=\"#21618C\">\n",
        "                    <b>5.  Build a full model on the given data. Check whether the obtained residuals have constant variance\n",
        "</b>\n",
        "                </font>\n",
        "            </div>\n",
        "        </td>\n",
        "    </tr>\n",
        "</table>"
      ]
    },
    {
      "cell_type": "code",
      "metadata": {
        "id": "FZzA6fL7Frd3",
        "colab": {
          "base_uri": "https://localhost:8080/"
        },
        "outputId": "1ca1330b-8949-4c36-9d66-ae2a0f0909e7"
      },
      "source": [
        "xc= sm.add_constant(dfn)\r\n",
        "md= sm.OLS(exp, xc).fit()\r\n",
        "print(md.summary())"
      ],
      "execution_count": null,
      "outputs": [
        {
          "output_type": "stream",
          "text": [
            "                            OLS Regression Results                            \n",
            "==============================================================================\n",
            "Dep. Variable:        Life_Expectancy   R-squared:                       0.886\n",
            "Model:                            OLS   Adj. R-squared:                  0.874\n",
            "Method:                 Least Squares   F-statistic:                     70.50\n",
            "Date:                Sun, 31 Jan 2021   Prob (F-statistic):           3.45e-67\n",
            "Time:                        07:10:57   Log-Likelihood:                -434.85\n",
            "No. Observations:                 182   AIC:                             907.7\n",
            "Df Residuals:                     163   BIC:                             968.6\n",
            "Df Model:                          18                                         \n",
            "Covariance Type:            nonrobust                                         \n",
            "=====================================================================================\n",
            "                        coef    std err          t      P>|t|      [0.025      0.975]\n",
            "-------------------------------------------------------------------------------------\n",
            "const                54.6325      2.540     21.511      0.000      49.617      59.648\n",
            "Adult_Mortality      -0.0232      0.003     -6.826      0.000      -0.030      -0.017\n",
            "Infant_Deaths         0.1012      0.032      3.150      0.002       0.038       0.165\n",
            "Alcohol               0.0756      0.166      0.456      0.649      -0.252       0.403\n",
            "Hepatitis B           0.0404      0.021      1.940      0.054      -0.001       0.081\n",
            "Measles           -8.616e-05   5.44e-05     -1.584      0.115      -0.000    2.13e-05\n",
            "BMI                  -0.0127      0.013     -0.972      0.333      -0.039       0.013\n",
            "Underfive_Deaths     -0.0732      0.023     -3.142      0.002      -0.119      -0.027\n",
            "Polio                 0.0132      0.012      1.059      0.291      -0.011       0.038\n",
            "Diphtheria           -0.0042      0.024     -0.175      0.861      -0.052       0.044\n",
            "HIV                  -0.4918      0.219     -2.248      0.026      -0.924      -0.060\n",
            "GDP               -4.699e-06   2.27e-05     -0.207      0.836   -4.95e-05    4.01e-05\n",
            "Population         2.374e-09   9.61e-09      0.247      0.805   -1.66e-08    2.14e-08\n",
            "Malnourished10_19    -0.1300      0.234     -0.555      0.579      -0.592       0.332\n",
            "Malnourished5_9      -0.0730      0.232     -0.315      0.754      -0.531       0.385\n",
            "Income_Index         31.0297      3.596      8.630      0.000      23.930      38.130\n",
            "Schooling            -0.1558      0.135     -1.153      0.250      -0.422       0.111\n",
            "Year_2015            -0.1091      1.041     -0.105      0.917      -2.164       1.946\n",
            "status_Developing    -1.1120      0.689     -1.615      0.108      -2.472       0.248\n",
            "==============================================================================\n",
            "Omnibus:                       12.069   Durbin-Watson:                   1.931\n",
            "Prob(Omnibus):                  0.002   Jarque-Bera (JB):               22.230\n",
            "Skew:                          -0.297   Prob(JB):                     1.49e-05\n",
            "Kurtosis:                       4.606   Cond. No.                     5.38e+08\n",
            "==============================================================================\n",
            "\n",
            "Warnings:\n",
            "[1] Standard Errors assume that the covariance matrix of the errors is correctly specified.\n",
            "[2] The condition number is large, 5.38e+08. This might indicate that there are\n",
            "strong multicollinearity or other numerical problems.\n"
          ],
          "name": "stdout"
        }
      ]
    },
    {
      "cell_type": "code",
      "metadata": {
        "colab": {
          "base_uri": "https://localhost:8080/"
        },
        "id": "rDF0vF_Gsjft",
        "outputId": "de79ca6e-343a-43b8-c7a9-abed9d5c2f8a"
      },
      "source": [
        "# we can do a Gold feld test.\r\n",
        "\r\n",
        "sm.stats.diagnostic.het_goldfeldquandt(md.resid, md.model.exog)"
      ],
      "execution_count": null,
      "outputs": [
        {
          "output_type": "execute_result",
          "data": {
            "text/plain": [
              "(1.2287048480538365, 0.19214385047667032, 'increasing')"
            ]
          },
          "metadata": {
            "tags": []
          },
          "execution_count": 25
        }
      ]
    },
    {
      "cell_type": "code",
      "metadata": {
        "id": "QYxflPUGsjij"
      },
      "source": [
        "# we fail to reject null hypothesis. \r\n",
        "\r\n",
        "# variance is constant across data"
      ],
      "execution_count": null,
      "outputs": []
    },
    {
      "cell_type": "code",
      "metadata": {
        "colab": {
          "base_uri": "https://localhost:8080/"
        },
        "id": "-vT3V1Ykx2zj",
        "outputId": "c9887d06-5be2-41bb-cd5e-8a19e267f13a"
      },
      "source": [
        "md.resid.shape"
      ],
      "execution_count": null,
      "outputs": [
        {
          "output_type": "execute_result",
          "data": {
            "text/plain": [
              "(182,)"
            ]
          },
          "metadata": {
            "tags": []
          },
          "execution_count": 42
        }
      ]
    },
    {
      "cell_type": "markdown",
      "metadata": {
        "collapsed": true,
        "id": "r93oC8P7Frd3"
      },
      "source": [
        "<table align=\"left\">\n",
        "    <tr>\n",
        "        <td width=\"6%\">\n",
        "            <img src=\"question_icon.png\">\n",
        "        </td>\n",
        "        <td>\n",
        "            <div align=\"left\", style=\"font-size:120%\">\n",
        "                <font color=\"#21618C\">\n",
        "                    <b>6. Build a model to study the impact of immunization on life expectancy, using least squares regression. Find the unexplained variation for the model\n",
        "</b>\n",
        "                </font>\n",
        "            </div>\n",
        "        </td>\n",
        "    </tr>\n",
        "</table>"
      ]
    },
    {
      "cell_type": "code",
      "metadata": {
        "id": "iyUurgJwFrd3",
        "colab": {
          "base_uri": "https://localhost:8080/",
          "height": 234
        },
        "outputId": "afabdcc0-d4d0-49ab-ab66-41f7452e07cc"
      },
      "source": [
        "df.head()"
      ],
      "execution_count": null,
      "outputs": [
        {
          "output_type": "execute_result",
          "data": {
            "text/html": [
              "<div>\n",
              "<style scoped>\n",
              "    .dataframe tbody tr th:only-of-type {\n",
              "        vertical-align: middle;\n",
              "    }\n",
              "\n",
              "    .dataframe tbody tr th {\n",
              "        vertical-align: top;\n",
              "    }\n",
              "\n",
              "    .dataframe thead th {\n",
              "        text-align: right;\n",
              "    }\n",
              "</style>\n",
              "<table border=\"1\" class=\"dataframe\">\n",
              "  <thead>\n",
              "    <tr style=\"text-align: right;\">\n",
              "      <th></th>\n",
              "      <th>Country</th>\n",
              "      <th>Year</th>\n",
              "      <th>Status</th>\n",
              "      <th>Adult_Mortality</th>\n",
              "      <th>Infant_Deaths</th>\n",
              "      <th>Alcohol</th>\n",
              "      <th>Hepatitis B</th>\n",
              "      <th>Measles</th>\n",
              "      <th>BMI</th>\n",
              "      <th>Underfive_Deaths</th>\n",
              "      <th>Polio</th>\n",
              "      <th>Diphtheria</th>\n",
              "      <th>HIV</th>\n",
              "      <th>GDP</th>\n",
              "      <th>Population</th>\n",
              "      <th>Malnourished10_19</th>\n",
              "      <th>Malnourished5_9</th>\n",
              "      <th>Income_Index</th>\n",
              "      <th>Schooling</th>\n",
              "      <th>Life_Expectancy</th>\n",
              "    </tr>\n",
              "  </thead>\n",
              "  <tbody>\n",
              "    <tr>\n",
              "      <th>0</th>\n",
              "      <td>Afghanistan</td>\n",
              "      <td>2015</td>\n",
              "      <td>Developing</td>\n",
              "      <td>263.0</td>\n",
              "      <td>62</td>\n",
              "      <td>0.01</td>\n",
              "      <td>65.0</td>\n",
              "      <td>1154</td>\n",
              "      <td>19.1</td>\n",
              "      <td>83</td>\n",
              "      <td>6</td>\n",
              "      <td>65</td>\n",
              "      <td>0.1</td>\n",
              "      <td>584.259210</td>\n",
              "      <td>33736494.0</td>\n",
              "      <td>17.2</td>\n",
              "      <td>17.3</td>\n",
              "      <td>0.479</td>\n",
              "      <td>10.1</td>\n",
              "      <td>65.0</td>\n",
              "    </tr>\n",
              "    <tr>\n",
              "      <th>1</th>\n",
              "      <td>Albania</td>\n",
              "      <td>2015</td>\n",
              "      <td>Developing</td>\n",
              "      <td>74.0</td>\n",
              "      <td>0</td>\n",
              "      <td>4.60</td>\n",
              "      <td>99.0</td>\n",
              "      <td>0</td>\n",
              "      <td>58.0</td>\n",
              "      <td>0</td>\n",
              "      <td>99</td>\n",
              "      <td>99</td>\n",
              "      <td>0.1</td>\n",
              "      <td>3954.227830</td>\n",
              "      <td>28873.0</td>\n",
              "      <td>1.2</td>\n",
              "      <td>1.3</td>\n",
              "      <td>0.762</td>\n",
              "      <td>14.2</td>\n",
              "      <td>77.8</td>\n",
              "    </tr>\n",
              "    <tr>\n",
              "      <th>2</th>\n",
              "      <td>Algeria</td>\n",
              "      <td>2015</td>\n",
              "      <td>Developing</td>\n",
              "      <td>19.0</td>\n",
              "      <td>21</td>\n",
              "      <td>NaN</td>\n",
              "      <td>95.0</td>\n",
              "      <td>63</td>\n",
              "      <td>59.5</td>\n",
              "      <td>24</td>\n",
              "      <td>95</td>\n",
              "      <td>95</td>\n",
              "      <td>0.1</td>\n",
              "      <td>4132.762920</td>\n",
              "      <td>39871528.0</td>\n",
              "      <td>6.0</td>\n",
              "      <td>5.8</td>\n",
              "      <td>0.743</td>\n",
              "      <td>14.4</td>\n",
              "      <td>75.6</td>\n",
              "    </tr>\n",
              "    <tr>\n",
              "      <th>3</th>\n",
              "      <td>Angola</td>\n",
              "      <td>2015</td>\n",
              "      <td>Developing</td>\n",
              "      <td>335.0</td>\n",
              "      <td>66</td>\n",
              "      <td>NaN</td>\n",
              "      <td>64.0</td>\n",
              "      <td>118</td>\n",
              "      <td>23.3</td>\n",
              "      <td>98</td>\n",
              "      <td>7</td>\n",
              "      <td>64</td>\n",
              "      <td>1.9</td>\n",
              "      <td>3695.793748</td>\n",
              "      <td>2785935.0</td>\n",
              "      <td>8.3</td>\n",
              "      <td>8.2</td>\n",
              "      <td>0.531</td>\n",
              "      <td>11.4</td>\n",
              "      <td>52.4</td>\n",
              "    </tr>\n",
              "    <tr>\n",
              "      <th>4</th>\n",
              "      <td>Antigua</td>\n",
              "      <td>2015</td>\n",
              "      <td>Developing</td>\n",
              "      <td>13.0</td>\n",
              "      <td>0</td>\n",
              "      <td>NaN</td>\n",
              "      <td>99.0</td>\n",
              "      <td>0</td>\n",
              "      <td>47.7</td>\n",
              "      <td>0</td>\n",
              "      <td>86</td>\n",
              "      <td>99</td>\n",
              "      <td>0.2</td>\n",
              "      <td>13566.954100</td>\n",
              "      <td>NaN</td>\n",
              "      <td>3.3</td>\n",
              "      <td>3.3</td>\n",
              "      <td>0.784</td>\n",
              "      <td>13.9</td>\n",
              "      <td>76.4</td>\n",
              "    </tr>\n",
              "  </tbody>\n",
              "</table>\n",
              "</div>"
            ],
            "text/plain": [
              "       Country  Year      Status  ...  Income_Index  Schooling  Life_Expectancy\n",
              "0  Afghanistan  2015  Developing  ...         0.479       10.1             65.0\n",
              "1      Albania  2015  Developing  ...         0.762       14.2             77.8\n",
              "2      Algeria  2015  Developing  ...         0.743       14.4             75.6\n",
              "3       Angola  2015  Developing  ...         0.531       11.4             52.4\n",
              "4      Antigua  2015  Developing  ...         0.784       13.9             76.4\n",
              "\n",
              "[5 rows x 20 columns]"
            ]
          },
          "metadata": {
            "tags": []
          },
          "execution_count": 49
        }
      ]
    },
    {
      "cell_type": "code",
      "metadata": {
        "colab": {
          "base_uri": "https://localhost:8080/",
          "height": 197
        },
        "id": "G53LFLKOQjBJ",
        "outputId": "190c494f-1597-438a-adf7-66613ac56bcc"
      },
      "source": [
        "imm = ['Hepatitis B', 'Measles', 'Polio', 'Diphtheria']\r\n",
        "df_imm = df[imm]\r\n",
        "df_imm.head()"
      ],
      "execution_count": null,
      "outputs": [
        {
          "output_type": "execute_result",
          "data": {
            "text/html": [
              "<div>\n",
              "<style scoped>\n",
              "    .dataframe tbody tr th:only-of-type {\n",
              "        vertical-align: middle;\n",
              "    }\n",
              "\n",
              "    .dataframe tbody tr th {\n",
              "        vertical-align: top;\n",
              "    }\n",
              "\n",
              "    .dataframe thead th {\n",
              "        text-align: right;\n",
              "    }\n",
              "</style>\n",
              "<table border=\"1\" class=\"dataframe\">\n",
              "  <thead>\n",
              "    <tr style=\"text-align: right;\">\n",
              "      <th></th>\n",
              "      <th>Hepatitis B</th>\n",
              "      <th>Measles</th>\n",
              "      <th>Polio</th>\n",
              "      <th>Diphtheria</th>\n",
              "    </tr>\n",
              "  </thead>\n",
              "  <tbody>\n",
              "    <tr>\n",
              "      <th>0</th>\n",
              "      <td>65.0</td>\n",
              "      <td>1154</td>\n",
              "      <td>6</td>\n",
              "      <td>65</td>\n",
              "    </tr>\n",
              "    <tr>\n",
              "      <th>1</th>\n",
              "      <td>99.0</td>\n",
              "      <td>0</td>\n",
              "      <td>99</td>\n",
              "      <td>99</td>\n",
              "    </tr>\n",
              "    <tr>\n",
              "      <th>2</th>\n",
              "      <td>95.0</td>\n",
              "      <td>63</td>\n",
              "      <td>95</td>\n",
              "      <td>95</td>\n",
              "    </tr>\n",
              "    <tr>\n",
              "      <th>3</th>\n",
              "      <td>64.0</td>\n",
              "      <td>118</td>\n",
              "      <td>7</td>\n",
              "      <td>64</td>\n",
              "    </tr>\n",
              "    <tr>\n",
              "      <th>4</th>\n",
              "      <td>99.0</td>\n",
              "      <td>0</td>\n",
              "      <td>86</td>\n",
              "      <td>99</td>\n",
              "    </tr>\n",
              "  </tbody>\n",
              "</table>\n",
              "</div>"
            ],
            "text/plain": [
              "   Hepatitis B  Measles  Polio  Diphtheria\n",
              "0         65.0     1154      6          65\n",
              "1         99.0        0     99          99\n",
              "2         95.0       63     95          95\n",
              "3         64.0      118      7          64\n",
              "4         99.0        0     86          99"
            ]
          },
          "metadata": {
            "tags": []
          },
          "execution_count": 92
        }
      ]
    },
    {
      "cell_type": "code",
      "metadata": {
        "colab": {
          "base_uri": "https://localhost:8080/",
          "height": 406
        },
        "id": "nYVdlHlSR1Nl",
        "outputId": "1f075cd0-b6b1-45e9-9655-e8fbf1facff7"
      },
      "source": [
        "xc[imm]"
      ],
      "execution_count": null,
      "outputs": [
        {
          "output_type": "execute_result",
          "data": {
            "text/html": [
              "<div>\n",
              "<style scoped>\n",
              "    .dataframe tbody tr th:only-of-type {\n",
              "        vertical-align: middle;\n",
              "    }\n",
              "\n",
              "    .dataframe tbody tr th {\n",
              "        vertical-align: top;\n",
              "    }\n",
              "\n",
              "    .dataframe thead th {\n",
              "        text-align: right;\n",
              "    }\n",
              "</style>\n",
              "<table border=\"1\" class=\"dataframe\">\n",
              "  <thead>\n",
              "    <tr style=\"text-align: right;\">\n",
              "      <th></th>\n",
              "      <th>Hepatitis B</th>\n",
              "      <th>Measles</th>\n",
              "      <th>Polio</th>\n",
              "      <th>Diphtheria</th>\n",
              "    </tr>\n",
              "  </thead>\n",
              "  <tbody>\n",
              "    <tr>\n",
              "      <th>0</th>\n",
              "      <td>65.0</td>\n",
              "      <td>1154</td>\n",
              "      <td>6</td>\n",
              "      <td>65</td>\n",
              "    </tr>\n",
              "    <tr>\n",
              "      <th>1</th>\n",
              "      <td>99.0</td>\n",
              "      <td>0</td>\n",
              "      <td>99</td>\n",
              "      <td>99</td>\n",
              "    </tr>\n",
              "    <tr>\n",
              "      <th>2</th>\n",
              "      <td>95.0</td>\n",
              "      <td>63</td>\n",
              "      <td>95</td>\n",
              "      <td>95</td>\n",
              "    </tr>\n",
              "    <tr>\n",
              "      <th>3</th>\n",
              "      <td>64.0</td>\n",
              "      <td>118</td>\n",
              "      <td>7</td>\n",
              "      <td>64</td>\n",
              "    </tr>\n",
              "    <tr>\n",
              "      <th>4</th>\n",
              "      <td>99.0</td>\n",
              "      <td>0</td>\n",
              "      <td>86</td>\n",
              "      <td>99</td>\n",
              "    </tr>\n",
              "    <tr>\n",
              "      <th>...</th>\n",
              "      <td>...</td>\n",
              "      <td>...</td>\n",
              "      <td>...</td>\n",
              "      <td>...</td>\n",
              "    </tr>\n",
              "    <tr>\n",
              "      <th>177</th>\n",
              "      <td>87.0</td>\n",
              "      <td>0</td>\n",
              "      <td>87</td>\n",
              "      <td>87</td>\n",
              "    </tr>\n",
              "    <tr>\n",
              "      <th>178</th>\n",
              "      <td>97.0</td>\n",
              "      <td>256</td>\n",
              "      <td>97</td>\n",
              "      <td>97</td>\n",
              "    </tr>\n",
              "    <tr>\n",
              "      <th>179</th>\n",
              "      <td>69.0</td>\n",
              "      <td>468</td>\n",
              "      <td>63</td>\n",
              "      <td>69</td>\n",
              "    </tr>\n",
              "    <tr>\n",
              "      <th>180</th>\n",
              "      <td>9.0</td>\n",
              "      <td>9</td>\n",
              "      <td>9</td>\n",
              "      <td>9</td>\n",
              "    </tr>\n",
              "    <tr>\n",
              "      <th>181</th>\n",
              "      <td>87.0</td>\n",
              "      <td>0</td>\n",
              "      <td>88</td>\n",
              "      <td>87</td>\n",
              "    </tr>\n",
              "  </tbody>\n",
              "</table>\n",
              "<p>182 rows × 4 columns</p>\n",
              "</div>"
            ],
            "text/plain": [
              "     Hepatitis B  Measles  Polio  Diphtheria\n",
              "0           65.0     1154      6          65\n",
              "1           99.0        0     99          99\n",
              "2           95.0       63     95          95\n",
              "3           64.0      118      7          64\n",
              "4           99.0        0     86          99\n",
              "..           ...      ...    ...         ...\n",
              "177         87.0        0     87          87\n",
              "178         97.0      256     97          97\n",
              "179         69.0      468     63          69\n",
              "180          9.0        9      9           9\n",
              "181         87.0        0     88          87\n",
              "\n",
              "[182 rows x 4 columns]"
            ]
          },
          "metadata": {
            "tags": []
          },
          "execution_count": 93
        }
      ]
    },
    {
      "cell_type": "code",
      "metadata": {
        "colab": {
          "base_uri": "https://localhost:8080/"
        },
        "id": "QUgFRpQpQjD9",
        "outputId": "dd93e859-9dcc-4109-cd8b-27fd0efb46de"
      },
      "source": [
        "import statsmodels.api as sm\r\n",
        "rtr= sm.add_constant(xc[imm])\r\n",
        "md= sm.OLS(exp, rtr).fit()\r\n",
        "print(md.summary())"
      ],
      "execution_count": null,
      "outputs": [
        {
          "output_type": "stream",
          "text": [
            "                            OLS Regression Results                            \n",
            "==============================================================================\n",
            "Dep. Variable:        Life_Expectancy   R-squared:                       0.322\n",
            "Model:                            OLS   Adj. R-squared:                  0.307\n",
            "Method:                 Least Squares   F-statistic:                     21.00\n",
            "Date:                Sun, 31 Jan 2021   Prob (F-statistic):           3.49e-14\n",
            "Time:                        07:49:06   Log-Likelihood:                -597.26\n",
            "No. Observations:                 182   AIC:                             1205.\n",
            "Df Residuals:                     177   BIC:                             1221.\n",
            "Df Model:                           4                                         \n",
            "Covariance Type:            nonrobust                                         \n",
            "===============================================================================\n",
            "                  coef    std err          t      P>|t|      [0.025      0.975]\n",
            "-------------------------------------------------------------------------------\n",
            "const          55.6563      1.930     28.841      0.000      51.848      59.465\n",
            "Hepatitis B    -0.0524      0.045     -1.160      0.248      -0.142       0.037\n",
            "Measles     -7.326e-05   6.18e-05     -1.185      0.238      -0.000    4.88e-05\n",
            "Polio           0.1034      0.027      3.891      0.000       0.051       0.156\n",
            "Diphtheria      0.1458      0.053      2.749      0.007       0.041       0.250\n",
            "==============================================================================\n",
            "Omnibus:                        6.522   Durbin-Watson:                   2.011\n",
            "Prob(Omnibus):                  0.038   Jarque-Bera (JB):                6.445\n",
            "Skew:                          -0.460   Prob(JB):                       0.0399\n",
            "Kurtosis:                       3.062   Cond. No.                     3.18e+04\n",
            "==============================================================================\n",
            "\n",
            "Warnings:\n",
            "[1] Standard Errors assume that the covariance matrix of the errors is correctly specified.\n",
            "[2] The condition number is large, 3.18e+04. This might indicate that there are\n",
            "strong multicollinearity or other numerical problems.\n"
          ],
          "name": "stdout"
        }
      ]
    },
    {
      "cell_type": "code",
      "metadata": {
        "id": "e4a71kU9STOV"
      },
      "source": [
        "# Great results! We are getiing an R square of over 32 percent, Lets get rid of Measles and see.\r\n",
        "\r\n",
        "imm.remove('Measles')"
      ],
      "execution_count": null,
      "outputs": []
    },
    {
      "cell_type": "code",
      "metadata": {
        "colab": {
          "base_uri": "https://localhost:8080/"
        },
        "id": "A5zIpmhXa46M",
        "outputId": "2fb832b9-b145-440b-9554-f500193d7cf4"
      },
      "source": [
        "imm"
      ],
      "execution_count": null,
      "outputs": [
        {
          "output_type": "execute_result",
          "data": {
            "text/plain": [
              "['Hepatitis B', 'Polio', 'Diphtheria']"
            ]
          },
          "metadata": {
            "tags": []
          },
          "execution_count": 96
        }
      ]
    },
    {
      "cell_type": "code",
      "metadata": {
        "colab": {
          "base_uri": "https://localhost:8080/"
        },
        "id": "_eduTL3lSTX0",
        "outputId": "b2000663-1746-4ff5-9af3-1bc6cab9166c"
      },
      "source": [
        "rt= sm.add_constant(xc[imm])\r\n",
        "md= sm.OLS(exp, rt).fit()\r\n",
        "print(md.summary())"
      ],
      "execution_count": null,
      "outputs": [
        {
          "output_type": "stream",
          "text": [
            "                            OLS Regression Results                            \n",
            "==============================================================================\n",
            "Dep. Variable:        Life_Expectancy   R-squared:                       0.316\n",
            "Model:                            OLS   Adj. R-squared:                  0.305\n",
            "Method:                 Least Squares   F-statistic:                     27.47\n",
            "Date:                Sun, 31 Jan 2021   Prob (F-statistic):           1.20e-14\n",
            "Time:                        07:50:11   Log-Likelihood:                -597.98\n",
            "No. Observations:                 182   AIC:                             1204.\n",
            "Df Residuals:                     178   BIC:                             1217.\n",
            "Df Model:                           3                                         \n",
            "Covariance Type:            nonrobust                                         \n",
            "===============================================================================\n",
            "                  coef    std err          t      P>|t|      [0.025      0.975]\n",
            "-------------------------------------------------------------------------------\n",
            "const          55.5279      1.929     28.787      0.000      51.721      59.334\n",
            "Hepatitis B    -0.0542      0.045     -1.199      0.232      -0.143       0.035\n",
            "Polio           0.1044      0.027      3.930      0.000       0.052       0.157\n",
            "Diphtheria      0.1467      0.053      2.764      0.006       0.042       0.251\n",
            "==============================================================================\n",
            "Omnibus:                        5.748   Durbin-Watson:                   2.042\n",
            "Prob(Omnibus):                  0.056   Jarque-Bera (JB):                5.673\n",
            "Skew:                          -0.432   Prob(JB):                       0.0586\n",
            "Kurtosis:                       3.018   Cond. No.                         593.\n",
            "==============================================================================\n",
            "\n",
            "Warnings:\n",
            "[1] Standard Errors assume that the covariance matrix of the errors is correctly specified.\n"
          ],
          "name": "stdout"
        }
      ]
    },
    {
      "cell_type": "code",
      "metadata": {
        "id": "HG_K4a03QjSA"
      },
      "source": [
        "# Interesting. Same. r sqaure. lets get rid of Hepatitis and see"
      ],
      "execution_count": null,
      "outputs": []
    },
    {
      "cell_type": "code",
      "metadata": {
        "colab": {
          "base_uri": "https://localhost:8080/"
        },
        "id": "S80raEaoS5qy",
        "outputId": "5fe89946-015b-4ae9-92f6-e3f9c2c9645a"
      },
      "source": [
        "#imm.remove('Hepatitis B')\r\n",
        "rt= sm.add_constant(xc[imm])\r\n",
        "md= sm.OLS(exp, rt).fit()\r\n",
        "print(md.summary())"
      ],
      "execution_count": null,
      "outputs": [
        {
          "output_type": "stream",
          "text": [
            "                            OLS Regression Results                            \n",
            "==============================================================================\n",
            "Dep. Variable:        Life_Expectancy   R-squared:                       0.311\n",
            "Model:                            OLS   Adj. R-squared:                  0.303\n",
            "Method:                 Least Squares   F-statistic:                     40.39\n",
            "Date:                Sun, 31 Jan 2021   Prob (F-statistic):           3.34e-15\n",
            "Time:                        07:46:49   Log-Likelihood:                -598.71\n",
            "No. Observations:                 182   AIC:                             1203.\n",
            "Df Residuals:                     179   BIC:                             1213.\n",
            "Df Model:                           2                                         \n",
            "Covariance Type:            nonrobust                                         \n",
            "==============================================================================\n",
            "                 coef    std err          t      P>|t|      [0.025      0.975]\n",
            "------------------------------------------------------------------------------\n",
            "const         55.5229      1.931     28.750      0.000      51.712      59.334\n",
            "Polio          0.1051      0.027      3.948      0.000       0.053       0.158\n",
            "Diphtheria     0.0933      0.029      3.225      0.001       0.036       0.150\n",
            "==============================================================================\n",
            "Omnibus:                        6.117   Durbin-Watson:                   2.041\n",
            "Prob(Omnibus):                  0.047   Jarque-Bera (JB):                6.056\n",
            "Skew:                          -0.447   Prob(JB):                       0.0484\n",
            "Kurtosis:                       3.028   Cond. No.                         487.\n",
            "==============================================================================\n",
            "\n",
            "Warnings:\n",
            "[1] Standard Errors assume that the covariance matrix of the errors is correctly specified.\n"
          ],
          "name": "stdout"
        }
      ]
    },
    {
      "cell_type": "code",
      "metadata": {
        "id": "OkXez8SGS5ul"
      },
      "source": [
        "# SO basically only 2 variables- Polio and Diptheria are enough to get an R square of over 31.5%"
      ],
      "execution_count": null,
      "outputs": []
    },
    {
      "cell_type": "code",
      "metadata": {
        "colab": {
          "base_uri": "https://localhost:8080/"
        },
        "id": "C4uCG_vHS5xp",
        "outputId": "998bce80-3a5e-4565-881a-1b177f734dda"
      },
      "source": [
        "# Unexplained variance:\r\n",
        "\r\n",
        "ss1 = np.sum((df['Life_Expectancy'].mean() - df['Life_Expectancy'])**2)\r\n",
        "print(md.ess)\r\n",
        "print(ss1)"
      ],
      "execution_count": null,
      "outputs": [
        {
          "output_type": "stream",
          "text": [
            "3462.2221383372544\n",
            "11134.818021978022\n"
          ],
          "name": "stdout"
        }
      ]
    },
    {
      "cell_type": "code",
      "metadata": {
        "colab": {
          "base_uri": "https://localhost:8080/"
        },
        "id": "JJLQ60BjWqgj",
        "outputId": "dc771ef3-b886-4ca2-c748-ab3a69f9146a"
      },
      "source": [
        "ss1/md.ssr"
      ],
      "execution_count": null,
      "outputs": [
        {
          "output_type": "execute_result",
          "data": {
            "text/plain": [
              "1.4512452096844146"
            ]
          },
          "metadata": {
            "tags": []
          },
          "execution_count": 90
        }
      ]
    },
    {
      "cell_type": "code",
      "metadata": {
        "colab": {
          "base_uri": "https://localhost:8080/"
        },
        "id": "wiLx5m4pTho0",
        "outputId": "a7d830c9-1577-4680-e52f-a10b8fca35ca"
      },
      "source": [
        "(1 - md.rsquared)*100  # the unexplained varation of the model"
      ],
      "execution_count": null,
      "outputs": [
        {
          "output_type": "execute_result",
          "data": {
            "text/plain": [
              "68.90634286520459"
            ]
          },
          "metadata": {
            "tags": []
          },
          "execution_count": 91
        }
      ]
    },
    {
      "cell_type": "code",
      "metadata": {
        "colab": {
          "base_uri": "https://localhost:8080/",
          "height": 374
        },
        "id": "nfdz0w-nUUc8",
        "outputId": "d6951f58-40e4-4c3b-a533-408afc924e0e"
      },
      "source": [
        "sns.heatmap(df.corr())"
      ],
      "execution_count": null,
      "outputs": [
        {
          "output_type": "execute_result",
          "data": {
            "text/plain": [
              "<matplotlib.axes._subplots.AxesSubplot at 0x7fbacb655e80>"
            ]
          },
          "metadata": {
            "tags": []
          },
          "execution_count": 67
        },
        {
          "output_type": "display_data",
          "data": {
            "image/png": "[encoded data removed]",
            "text/plain": [
              "<Figure size 432x288 with 2 Axes>"
            ]
          },
          "metadata": {
            "tags": [],
            "needs_background": "light"
          }
        }
      ]
    },
    {
      "cell_type": "code",
      "metadata": {
        "colab": {
          "base_uri": "https://localhost:8080/"
        },
        "id": "vAg8yi-CU1IR",
        "outputId": "19aea908-8421-49b7-c289-be55a85bae25"
      },
      "source": [
        "df.columns"
      ],
      "execution_count": null,
      "outputs": [
        {
          "output_type": "execute_result",
          "data": {
            "text/plain": [
              "Index(['Country', 'Year', 'Status', 'Adult_Mortality', 'Infant_Deaths',\n",
              "       'Alcohol', 'Hepatitis B', 'Measles', 'BMI', 'Underfive_Deaths', 'Polio',\n",
              "       'Diphtheria', 'HIV', 'GDP', 'Population', 'Malnourished10_19',\n",
              "       'Malnourished5_9', 'Income_Index', 'Schooling', 'Life_Expectancy'],\n",
              "      dtype='object')"
            ]
          },
          "metadata": {
            "tags": []
          },
          "execution_count": 83
        }
      ]
    },
    {
      "cell_type": "markdown",
      "metadata": {
        "collapsed": true,
        "id": "fmIoR4awFrd5"
      },
      "source": [
        "<table align=\"left\">\n",
        "    <tr>\n",
        "        <td width=\"6%\">\n",
        "            <img src=\"question_icon.png\">\n",
        "        </td>\n",
        "        <td>\n",
        "            <div align=\"left\", style=\"font-size:120%\">\n",
        "                <font color=\"#21618C\">\n",
        "                    <b>7. Build a model to study the impact of malnutrition on life expectancy, using least squares regression. Interpret the coeffients</b>\n",
        "                </font>\n",
        "            </div>\n",
        "        </td>\n",
        "    </tr>\n",
        "</table>"
      ]
    },
    {
      "cell_type": "code",
      "metadata": {
        "id": "OgSB2H1DFrd5",
        "colab": {
          "base_uri": "https://localhost:8080/"
        },
        "outputId": "3cae20de-ce93-4229-9330-d1aecd5a1ccc"
      },
      "source": [
        "mal = ['Malnourished10_19', 'Malnourished5_9']\r\n",
        "rtr1= sm.add_constant(xc[mal])\r\n",
        "md11= sm.OLS(exp, rtr1).fit()\r\n",
        "print(md11.summary())"
      ],
      "execution_count": null,
      "outputs": [
        {
          "output_type": "stream",
          "text": [
            "                            OLS Regression Results                            \n",
            "==============================================================================\n",
            "Dep. Variable:        Life_Expectancy   R-squared:                       0.223\n",
            "Model:                            OLS   Adj. R-squared:                  0.214\n",
            "Method:                 Least Squares   F-statistic:                     25.66\n",
            "Date:                Sun, 31 Jan 2021   Prob (F-statistic):           1.60e-10\n",
            "Time:                        07:51:07   Log-Likelihood:                -609.67\n",
            "No. Observations:                 182   AIC:                             1225.\n",
            "Df Residuals:                     179   BIC:                             1235.\n",
            "Df Model:                           2                                         \n",
            "Covariance Type:            nonrobust                                         \n",
            "=====================================================================================\n",
            "                        coef    std err          t      P>|t|      [0.025      0.975]\n",
            "-------------------------------------------------------------------------------------\n",
            "const                76.0391      0.753    100.941      0.000      74.553      77.526\n",
            "Malnourished10_19    -0.3885      0.550     -0.706      0.481      -1.475       0.698\n",
            "Malnourished5_9      -0.5109      0.539     -0.948      0.345      -1.575       0.553\n",
            "==============================================================================\n",
            "Omnibus:                        7.025   Durbin-Watson:                   1.863\n",
            "Prob(Omnibus):                  0.030   Jarque-Bera (JB):                7.213\n",
            "Skew:                          -0.486   Prob(JB):                       0.0272\n",
            "Kurtosis:                       2.926   Cond. No.                         12.8\n",
            "==============================================================================\n",
            "\n",
            "Warnings:\n",
            "[1] Standard Errors assume that the covariance matrix of the errors is correctly specified.\n"
          ],
          "name": "stdout"
        }
      ]
    },
    {
      "cell_type": "code",
      "metadata": {
        "id": "H_LNfltLunSr"
      },
      "source": [
        "# although the coedd is high- the p value is showing considerable insignificance - even the r square is less. "
      ],
      "execution_count": null,
      "outputs": []
    },
    {
      "cell_type": "code",
      "metadata": {
        "id": "P7Gh9NXHunWD"
      },
      "source": [
        "# Expectency would be:\r\n",
        "\r\n",
        "# Life expectancy (in years) = -76.0 - 0.38(x1) - 0.510(x2)"
      ],
      "execution_count": null,
      "outputs": []
    },
    {
      "cell_type": "code",
      "metadata": {
        "id": "wpD9B3MjunaE"
      },
      "source": [
        ""
      ],
      "execution_count": null,
      "outputs": []
    },
    {
      "cell_type": "markdown",
      "metadata": {
        "id": "mD35QWQHFrd5"
      },
      "source": [
        "<a id=\"gd\"> </a>\n",
        "## 3. Gradient Descent"
      ]
    },
    {
      "cell_type": "markdown",
      "metadata": {
        "collapsed": true,
        "id": "4BTDj6dIFrd6"
      },
      "source": [
        "<table align=\"left\">\n",
        "    <tr>\n",
        "        <td width=\"6%\">\n",
        "            <img src=\"question_icon.png\">\n",
        "        </td>\n",
        "        <td>\n",
        "            <div align=\"left\", style=\"font-size:120%\">\n",
        "                <font color=\"#21618C\">\n",
        "                    <b>8. Build a model to study the influence of adult mortality rate on life expectancy using both the least squares regression and gradient descent approach. Are the fits for both the models different?</b>\n",
        "                </font>\n",
        "            </div>\n",
        "        </td>\n",
        "    </tr>\n",
        "</table>"
      ]
    },
    {
      "cell_type": "code",
      "metadata": {
        "id": "m1wPlzHdFrd6",
        "colab": {
          "base_uri": "https://localhost:8080/"
        },
        "outputId": "7b7e6a98-354c-48d0-9c2d-97c9d9a6c9cd"
      },
      "source": [
        "# Using OLS\r\n",
        "\r\n",
        "rtr1= sm.add_constant(xc['Adult_Mortality'])\r\n",
        "md11= sm.OLS(exp, rtr1).fit()\r\n",
        "print(md11.summary())"
      ],
      "execution_count": null,
      "outputs": [
        {
          "output_type": "stream",
          "text": [
            "                            OLS Regression Results                            \n",
            "==============================================================================\n",
            "Dep. Variable:        Life_Expectancy   R-squared:                       0.599\n",
            "Model:                            OLS   Adj. R-squared:                  0.597\n",
            "Method:                 Least Squares   F-statistic:                     268.9\n",
            "Date:                Sun, 31 Jan 2021   Prob (F-statistic):           1.45e-37\n",
            "Time:                        07:55:09   Log-Likelihood:                -549.44\n",
            "No. Observations:                 182   AIC:                             1103.\n",
            "Df Residuals:                     180   BIC:                             1109.\n",
            "Df Model:                           1                                         \n",
            "Covariance Type:            nonrobust                                         \n",
            "===================================================================================\n",
            "                      coef    std err          t      P>|t|      [0.025      0.975]\n",
            "-----------------------------------------------------------------------------------\n",
            "const              81.8259      0.698    117.229      0.000      80.449      83.203\n",
            "Adult_Mortality    -0.0651      0.004    -16.399      0.000      -0.073      -0.057\n",
            "==============================================================================\n",
            "Omnibus:                       83.720   Durbin-Watson:                   1.975\n",
            "Prob(Omnibus):                  0.000   Jarque-Bera (JB):              309.695\n",
            "Skew:                          -1.839   Prob(JB):                     5.63e-68\n",
            "Kurtosis:                       8.227   Cond. No.                         333.\n",
            "==============================================================================\n",
            "\n",
            "Warnings:\n",
            "[1] Standard Errors assume that the covariance matrix of the errors is correctly specified.\n"
          ],
          "name": "stdout"
        }
      ]
    },
    {
      "cell_type": "code",
      "metadata": {
        "id": "6HYfxLL9uoGN"
      },
      "source": [
        "# Good feature! alone explains 60 percent of the variation in data"
      ],
      "execution_count": null,
      "outputs": []
    },
    {
      "cell_type": "code",
      "metadata": {
        "id": "kwHaRudbuoJL"
      },
      "source": [
        "# Using Gradiant Descent\r\n",
        "\r\n",
        "from scipy.optimize import minimize\r\n",
        "minimize()"
      ],
      "execution_count": null,
      "outputs": []
    },
    {
      "cell_type": "code",
      "metadata": {
        "id": "MV16FYH4pSxv"
      },
      "source": [
        "import pandas as pd\r\n",
        "import numpy as np\r\n",
        "import matplotlib.pyplot as plt\r\n",
        "import seaborn as sns"
      ],
      "execution_count": null,
      "outputs": []
    },
    {
      "cell_type": "code",
      "metadata": {
        "id": "IHHZXfQsqro8"
      },
      "source": [
        ""
      ],
      "execution_count": null,
      "outputs": []
    },
    {
      "cell_type": "code",
      "metadata": {
        "id": "eH_ON-esg_js"
      },
      "source": [
        "def linear_regression(X, y, m_current=0, b_current=0, epochs=1000, learning_rate=0.0001):\r\n",
        "     N = float(len(y))\r\n",
        "     for i in range(epochs):\r\n",
        "          y_current = (m_current * X) + b_current\r\n",
        "          cost = sum([data**2 for data in (y-y_current)]) / N\r\n",
        "          m_gradient = -(2/N) * sum(X * (y - y_current))\r\n",
        "          b_gradient = -(2/N) * sum(y - y_current)\r\n",
        "          m_current = m_current - (learning_rate * m_gradient)\r\n",
        "          b_current = b_current - (learning_rate * b_gradient)\r\n",
        "     return m_current, b_current, cost"
      ],
      "execution_count": null,
      "outputs": []
    },
    {
      "cell_type": "markdown",
      "metadata": {
        "id": "tUVMnzh4xYfP"
      },
      "source": [
        "# Work in progress"
      ]
    },
    {
      "cell_type": "code",
      "metadata": {
        "colab": {
          "base_uri": "https://localhost:8080/",
          "height": 441
        },
        "id": "dTlwH7kDg_qC",
        "outputId": "5c0cde8a-af42-44e3-c849-4281eb0c409d"
      },
      "source": [
        ""
      ],
      "execution_count": null,
      "outputs": [
        {
          "output_type": "error",
          "ename": "OverflowError",
          "evalue": "ignored",
          "traceback": [
            "\u001b[0;31m---------------------------------------------------------------------------\u001b[0m",
            "\u001b[0;31mOverflowError\u001b[0m                             Traceback (most recent call last)",
            "\u001b[0;32m<ipython-input-120-94c540a845e3>\u001b[0m in \u001b[0;36m<module>\u001b[0;34m()\u001b[0m\n\u001b[0;32m----> 1\u001b[0;31m \u001b[0mlinear_regression\u001b[0m\u001b[0;34m(\u001b[0m\u001b[0mX\u001b[0m\u001b[0;34m,\u001b[0m\u001b[0my\u001b[0m\u001b[0;34m)\u001b[0m\u001b[0;34m\u001b[0m\u001b[0;34m\u001b[0m\u001b[0m\n\u001b[0m",
            "\u001b[0;32m<ipython-input-119-8d0b7495275e>\u001b[0m in \u001b[0;36mlinear_regression\u001b[0;34m(X, y, m_current, b_current, epochs, learning_rate)\u001b[0m\n\u001b[1;32m      3\u001b[0m      \u001b[0;32mfor\u001b[0m \u001b[0mi\u001b[0m \u001b[0;32min\u001b[0m \u001b[0mrange\u001b[0m\u001b[0;34m(\u001b[0m\u001b[0mepochs\u001b[0m\u001b[0;34m)\u001b[0m\u001b[0;34m:\u001b[0m\u001b[0;34m\u001b[0m\u001b[0;34m\u001b[0m\u001b[0m\n\u001b[1;32m      4\u001b[0m           \u001b[0my_current\u001b[0m \u001b[0;34m=\u001b[0m \u001b[0;34m(\u001b[0m\u001b[0mm_current\u001b[0m \u001b[0;34m*\u001b[0m \u001b[0mX\u001b[0m\u001b[0;34m)\u001b[0m \u001b[0;34m+\u001b[0m \u001b[0mb_current\u001b[0m\u001b[0;34m\u001b[0m\u001b[0;34m\u001b[0m\u001b[0m\n\u001b[0;32m----> 5\u001b[0;31m           \u001b[0mcost\u001b[0m \u001b[0;34m=\u001b[0m \u001b[0msum\u001b[0m\u001b[0;34m(\u001b[0m\u001b[0;34m[\u001b[0m\u001b[0mdata\u001b[0m\u001b[0;34m**\u001b[0m\u001b[0;36m2\u001b[0m \u001b[0;32mfor\u001b[0m \u001b[0mdata\u001b[0m \u001b[0;32min\u001b[0m \u001b[0;34m(\u001b[0m\u001b[0my\u001b[0m\u001b[0;34m-\u001b[0m\u001b[0my_current\u001b[0m\u001b[0;34m)\u001b[0m\u001b[0;34m]\u001b[0m\u001b[0;34m)\u001b[0m \u001b[0;34m/\u001b[0m \u001b[0mN\u001b[0m\u001b[0;34m\u001b[0m\u001b[0;34m\u001b[0m\u001b[0m\n\u001b[0m\u001b[1;32m      6\u001b[0m           \u001b[0mm_gradient\u001b[0m \u001b[0;34m=\u001b[0m \u001b[0;34m-\u001b[0m\u001b[0;34m(\u001b[0m\u001b[0;36m2\u001b[0m\u001b[0;34m/\u001b[0m\u001b[0mN\u001b[0m\u001b[0;34m)\u001b[0m \u001b[0;34m*\u001b[0m \u001b[0msum\u001b[0m\u001b[0;34m(\u001b[0m\u001b[0mX\u001b[0m \u001b[0;34m*\u001b[0m \u001b[0;34m(\u001b[0m\u001b[0my\u001b[0m \u001b[0;34m-\u001b[0m \u001b[0my_current\u001b[0m\u001b[0;34m)\u001b[0m\u001b[0;34m)\u001b[0m\u001b[0;34m\u001b[0m\u001b[0;34m\u001b[0m\u001b[0m\n\u001b[1;32m      7\u001b[0m           \u001b[0mb_gradient\u001b[0m \u001b[0;34m=\u001b[0m \u001b[0;34m-\u001b[0m\u001b[0;34m(\u001b[0m\u001b[0;36m2\u001b[0m\u001b[0;34m/\u001b[0m\u001b[0mN\u001b[0m\u001b[0;34m)\u001b[0m \u001b[0;34m*\u001b[0m \u001b[0msum\u001b[0m\u001b[0;34m(\u001b[0m\u001b[0my\u001b[0m \u001b[0;34m-\u001b[0m \u001b[0my_current\u001b[0m\u001b[0;34m)\u001b[0m\u001b[0;34m\u001b[0m\u001b[0;34m\u001b[0m\u001b[0m\n",
            "\u001b[0;32m<ipython-input-119-8d0b7495275e>\u001b[0m in \u001b[0;36m<listcomp>\u001b[0;34m(.0)\u001b[0m\n\u001b[1;32m      3\u001b[0m      \u001b[0;32mfor\u001b[0m \u001b[0mi\u001b[0m \u001b[0;32min\u001b[0m \u001b[0mrange\u001b[0m\u001b[0;34m(\u001b[0m\u001b[0mepochs\u001b[0m\u001b[0;34m)\u001b[0m\u001b[0;34m:\u001b[0m\u001b[0;34m\u001b[0m\u001b[0;34m\u001b[0m\u001b[0m\n\u001b[1;32m      4\u001b[0m           \u001b[0my_current\u001b[0m \u001b[0;34m=\u001b[0m \u001b[0;34m(\u001b[0m\u001b[0mm_current\u001b[0m \u001b[0;34m*\u001b[0m \u001b[0mX\u001b[0m\u001b[0;34m)\u001b[0m \u001b[0;34m+\u001b[0m \u001b[0mb_current\u001b[0m\u001b[0;34m\u001b[0m\u001b[0;34m\u001b[0m\u001b[0m\n\u001b[0;32m----> 5\u001b[0;31m           \u001b[0mcost\u001b[0m \u001b[0;34m=\u001b[0m \u001b[0msum\u001b[0m\u001b[0;34m(\u001b[0m\u001b[0;34m[\u001b[0m\u001b[0mdata\u001b[0m\u001b[0;34m**\u001b[0m\u001b[0;36m2\u001b[0m \u001b[0;32mfor\u001b[0m \u001b[0mdata\u001b[0m \u001b[0;32min\u001b[0m \u001b[0;34m(\u001b[0m\u001b[0my\u001b[0m\u001b[0;34m-\u001b[0m\u001b[0my_current\u001b[0m\u001b[0;34m)\u001b[0m\u001b[0;34m]\u001b[0m\u001b[0;34m)\u001b[0m \u001b[0;34m/\u001b[0m \u001b[0mN\u001b[0m\u001b[0;34m\u001b[0m\u001b[0;34m\u001b[0m\u001b[0m\n\u001b[0m\u001b[1;32m      6\u001b[0m           \u001b[0mm_gradient\u001b[0m \u001b[0;34m=\u001b[0m \u001b[0;34m-\u001b[0m\u001b[0;34m(\u001b[0m\u001b[0;36m2\u001b[0m\u001b[0;34m/\u001b[0m\u001b[0mN\u001b[0m\u001b[0;34m)\u001b[0m \u001b[0;34m*\u001b[0m \u001b[0msum\u001b[0m\u001b[0;34m(\u001b[0m\u001b[0mX\u001b[0m \u001b[0;34m*\u001b[0m \u001b[0;34m(\u001b[0m\u001b[0my\u001b[0m \u001b[0;34m-\u001b[0m \u001b[0my_current\u001b[0m\u001b[0;34m)\u001b[0m\u001b[0;34m)\u001b[0m\u001b[0;34m\u001b[0m\u001b[0;34m\u001b[0m\u001b[0m\n\u001b[1;32m      7\u001b[0m           \u001b[0mb_gradient\u001b[0m \u001b[0;34m=\u001b[0m \u001b[0;34m-\u001b[0m\u001b[0;34m(\u001b[0m\u001b[0;36m2\u001b[0m\u001b[0;34m/\u001b[0m\u001b[0mN\u001b[0m\u001b[0;34m)\u001b[0m \u001b[0;34m*\u001b[0m \u001b[0msum\u001b[0m\u001b[0;34m(\u001b[0m\u001b[0my\u001b[0m \u001b[0;34m-\u001b[0m \u001b[0my_current\u001b[0m\u001b[0;34m)\u001b[0m\u001b[0;34m\u001b[0m\u001b[0;34m\u001b[0m\u001b[0m\n",
            "\u001b[0;31mOverflowError\u001b[0m: (34, 'Numerical result out of range')"
          ]
        }
      ]
    },
    {
      "cell_type": "markdown",
      "metadata": {
        "collapsed": true,
        "id": "67pZU-RfFrd7"
      },
      "source": [
        "<table align=\"left\">\n",
        "    <tr>\n",
        "        <td width=\"6%\">\n",
        "            <img src=\"question_icon.png\">\n",
        "        </td>\n",
        "        <td>\n",
        "            <div align=\"left\", style=\"font-size:120%\">\n",
        "                <font color=\"#21618C\">\n",
        "                    <b>9. Build a model to analyze the influence of immunization on life expectancy. Use SGD and plot a horizontal multiple barchart to compare the values of beta coefficients with values obtained by the full model build least squares regression.</b>\n",
        "                </font>\n",
        "            </div>\n",
        "        </td>\n",
        "    </tr>\n",
        "</table>"
      ]
    },
    {
      "cell_type": "code",
      "metadata": {
        "id": "cbcAAVPEFrd7",
        "colab": {
          "base_uri": "https://localhost:8080/"
        },
        "outputId": "a121d0ed-4d98-4447-92a6-2ec75d642db1"
      },
      "source": [
        "from sklearn.linear_model import SGDRegressor\r\n",
        "sgd = SGDRegressor()\r\n",
        "sgd.fit(xc[['Hepatitis B', 'Measles', 'Polio', 'Diphtheria']], exp)"
      ],
      "execution_count": null,
      "outputs": [
        {
          "output_type": "execute_result",
          "data": {
            "text/plain": [
              "SGDRegressor(alpha=0.0001, average=False, early_stopping=False, epsilon=0.1,\n",
              "             eta0=0.01, fit_intercept=True, l1_ratio=0.15,\n",
              "             learning_rate='invscaling', loss='squared_loss', max_iter=1000,\n",
              "             n_iter_no_change=5, penalty='l2', power_t=0.25, random_state=None,\n",
              "             shuffle=True, tol=0.001, validation_fraction=0.1, verbose=0,\n",
              "             warm_start=False)"
            ]
          },
          "metadata": {
            "tags": []
          },
          "execution_count": 121
        }
      ]
    },
    {
      "cell_type": "code",
      "metadata": {
        "id": "xNgGynYzuoz8",
        "colab": {
          "base_uri": "https://localhost:8080/"
        },
        "outputId": "4aa5dad5-40a0-4173-97c9-5bd00302a4a0"
      },
      "source": [
        "sgd.coef_"
      ],
      "execution_count": null,
      "outputs": [
        {
          "output_type": "execute_result",
          "data": {
            "text/plain": [
              "array([ 7.75642831e+11, -1.99270245e+12,  3.55298209e+11,  5.21383580e+11])"
            ]
          },
          "metadata": {
            "tags": []
          },
          "execution_count": 122
        }
      ]
    },
    {
      "cell_type": "code",
      "metadata": {
        "id": "SZNPsN5RupBi",
        "colab": {
          "base_uri": "https://localhost:8080/"
        },
        "outputId": "9860bdf3-42dd-4ae2-b4eb-2c748a58ee1e"
      },
      "source": [
        "xy= sm.add_constant(xc[['Hepatitis B', 'Measles', 'Polio', 'Diphtheria']])\r\n",
        "model = sm.OLS(exp, xy).fit()\r\n",
        "print(model.summary())"
      ],
      "execution_count": null,
      "outputs": [
        {
          "output_type": "stream",
          "text": [
            "                            OLS Regression Results                            \n",
            "==============================================================================\n",
            "Dep. Variable:        Life_Expectancy   R-squared:                       0.322\n",
            "Model:                            OLS   Adj. R-squared:                  0.307\n",
            "Method:                 Least Squares   F-statistic:                     21.00\n",
            "Date:                Sun, 31 Jan 2021   Prob (F-statistic):           3.49e-14\n",
            "Time:                        09:42:06   Log-Likelihood:                -597.26\n",
            "No. Observations:                 182   AIC:                             1205.\n",
            "Df Residuals:                     177   BIC:                             1221.\n",
            "Df Model:                           4                                         \n",
            "Covariance Type:            nonrobust                                         \n",
            "===============================================================================\n",
            "                  coef    std err          t      P>|t|      [0.025      0.975]\n",
            "-------------------------------------------------------------------------------\n",
            "const          55.6563      1.930     28.841      0.000      51.848      59.465\n",
            "Hepatitis B    -0.0524      0.045     -1.160      0.248      -0.142       0.037\n",
            "Measles     -7.326e-05   6.18e-05     -1.185      0.238      -0.000    4.88e-05\n",
            "Polio           0.1034      0.027      3.891      0.000       0.051       0.156\n",
            "Diphtheria      0.1458      0.053      2.749      0.007       0.041       0.250\n",
            "==============================================================================\n",
            "Omnibus:                        6.522   Durbin-Watson:                   2.011\n",
            "Prob(Omnibus):                  0.038   Jarque-Bera (JB):                6.445\n",
            "Skew:                          -0.460   Prob(JB):                       0.0399\n",
            "Kurtosis:                       3.062   Cond. No.                     3.18e+04\n",
            "==============================================================================\n",
            "\n",
            "Warnings:\n",
            "[1] Standard Errors assume that the covariance matrix of the errors is correctly specified.\n",
            "[2] The condition number is large, 3.18e+04. This might indicate that there are\n",
            "strong multicollinearity or other numerical problems.\n"
          ],
          "name": "stdout"
        }
      ]
    },
    {
      "cell_type": "code",
      "metadata": {
        "colab": {
          "base_uri": "https://localhost:8080/",
          "height": 167
        },
        "id": "Vl91AiK90coc",
        "outputId": "19f7e31e-50e9-43e3-cf8c-590473341ff5"
      },
      "source": [
        "a = list(sgd.coef_/1000000000000)\r\n",
        "b= list(model.params[1:])\r\n",
        "rr= pd.DataFrame({'sgd': a, 'Linear':b})\r\n",
        "rr.head()"
      ],
      "execution_count": null,
      "outputs": [
        {
          "output_type": "execute_result",
          "data": {
            "text/html": [
              "<div>\n",
              "<style scoped>\n",
              "    .dataframe tbody tr th:only-of-type {\n",
              "        vertical-align: middle;\n",
              "    }\n",
              "\n",
              "    .dataframe tbody tr th {\n",
              "        vertical-align: top;\n",
              "    }\n",
              "\n",
              "    .dataframe thead th {\n",
              "        text-align: right;\n",
              "    }\n",
              "</style>\n",
              "<table border=\"1\" class=\"dataframe\">\n",
              "  <thead>\n",
              "    <tr style=\"text-align: right;\">\n",
              "      <th></th>\n",
              "      <th>sgd</th>\n",
              "      <th>Linear</th>\n",
              "    </tr>\n",
              "  </thead>\n",
              "  <tbody>\n",
              "    <tr>\n",
              "      <th>0</th>\n",
              "      <td>0.775643</td>\n",
              "      <td>-0.052378</td>\n",
              "    </tr>\n",
              "    <tr>\n",
              "      <th>1</th>\n",
              "      <td>-1.992702</td>\n",
              "      <td>-0.000073</td>\n",
              "    </tr>\n",
              "    <tr>\n",
              "      <th>2</th>\n",
              "      <td>0.355298</td>\n",
              "      <td>0.103351</td>\n",
              "    </tr>\n",
              "    <tr>\n",
              "      <th>3</th>\n",
              "      <td>0.521384</td>\n",
              "      <td>0.145787</td>\n",
              "    </tr>\n",
              "  </tbody>\n",
              "</table>\n",
              "</div>"
            ],
            "text/plain": [
              "        sgd    Linear\n",
              "0  0.775643 -0.052378\n",
              "1 -1.992702 -0.000073\n",
              "2  0.355298  0.103351\n",
              "3  0.521384  0.145787"
            ]
          },
          "metadata": {
            "tags": []
          },
          "execution_count": 127
        }
      ]
    },
    {
      "cell_type": "code",
      "metadata": {
        "colab": {
          "base_uri": "https://localhost:8080/",
          "height": 262
        },
        "id": "f0vWHigR0cr2",
        "outputId": "014855a8-2e66-4631-a5d1-438b9b7ce705"
      },
      "source": [
        "rr.plot(kind='bar')\r\n",
        "plt.show()"
      ],
      "execution_count": null,
      "outputs": [
        {
          "output_type": "display_data",
          "data": {
            "image/png": "[encoded data removed]",
            "text/plain": [
              "<Figure size 432x288 with 1 Axes>"
            ]
          },
          "metadata": {
            "tags": [],
            "needs_background": "light"
          }
        }
      ]
    },
    {
      "cell_type": "code",
      "metadata": {
        "id": "wHjbE-3dupEC"
      },
      "source": [
        "from sklearn.model_selection import train_test_split"
      ],
      "execution_count": null,
      "outputs": []
    },
    {
      "cell_type": "markdown",
      "metadata": {
        "collapsed": true,
        "id": "vrk6YOz1Frd7"
      },
      "source": [
        "<table align=\"left\">\n",
        "    <tr>\n",
        "        <td width=\"6%\">\n",
        "            <img src=\"question_icon.png\">\n",
        "        </td>\n",
        "        <td>\n",
        "            <div align=\"left\", style=\"font-size:120%\">\n",
        "                <font color=\"#21618C\">\n",
        "                    <b>10. Build a full model using least squares regression. Check whether the model overfits the training data or not.\n",
        "</b>\n",
        "                </font>\n",
        "            </div>\n",
        "        </td>\n",
        "    </tr>\n",
        "</table>"
      ]
    },
    {
      "cell_type": "code",
      "metadata": {
        "id": "8z1E8IaWFrd8"
      },
      "source": [
        "xtr, xts, ytr, yts = train_test_split(xc, exp)"
      ],
      "execution_count": null,
      "outputs": []
    },
    {
      "cell_type": "code",
      "metadata": {
        "id": "lqX46Zesuppp",
        "colab": {
          "base_uri": "https://localhost:8080/"
        },
        "outputId": "8e5bb927-5c95-4664-da55-d47b4e23ad91"
      },
      "source": [
        "xy= sm.add_constant(xtr)\r\n",
        "model = sm.OLS(ytr, xy).fit()\r\n",
        "print(model.summary())"
      ],
      "execution_count": null,
      "outputs": [
        {
          "output_type": "stream",
          "text": [
            "                            OLS Regression Results                            \n",
            "==============================================================================\n",
            "Dep. Variable:        Life_Expectancy   R-squared:                       0.895\n",
            "Model:                            OLS   Adj. R-squared:                  0.879\n",
            "Method:                 Least Squares   F-statistic:                     55.49\n",
            "Date:                Sun, 31 Jan 2021   Prob (F-statistic):           1.29e-48\n",
            "Time:                        10:00:46   Log-Likelihood:                -322.74\n",
            "No. Observations:                 136   AIC:                             683.5\n",
            "Df Residuals:                     117   BIC:                             738.8\n",
            "Df Model:                          18                                         \n",
            "Covariance Type:            nonrobust                                         \n",
            "=====================================================================================\n",
            "                        coef    std err          t      P>|t|      [0.025      0.975]\n",
            "-------------------------------------------------------------------------------------\n",
            "const                54.5688      3.052     17.879      0.000      48.524      60.613\n",
            "Adult_Mortality      -0.0266      0.004     -6.661      0.000      -0.035      -0.019\n",
            "Infant_Deaths         0.1021      0.040      2.551      0.012       0.023       0.181\n",
            "Alcohol               0.1579      0.191      0.826      0.410      -0.221       0.536\n",
            "Hepatitis B           0.0498      0.024      2.061      0.042       0.002       0.098\n",
            "Measles           -6.127e-05   6.35e-05     -0.965      0.336      -0.000    6.44e-05\n",
            "BMI                  -0.0070      0.016     -0.446      0.657      -0.038       0.024\n",
            "Underfive_Deaths     -0.0750      0.028     -2.703      0.008      -0.130      -0.020\n",
            "Polio                 0.0133      0.014      0.939      0.350      -0.015       0.041\n",
            "Diphtheria           -0.0235      0.028     -0.831      0.407      -0.080       0.033\n",
            "HIV                  -0.4434      0.255     -1.736      0.085      -0.949       0.062\n",
            "GDP                -9.99e-06    2.7e-05     -0.370      0.712   -6.35e-05    4.35e-05\n",
            "Population         3.011e-09   1.08e-08      0.279      0.781   -1.84e-08    2.44e-08\n",
            "Malnourished10_19    -0.0634      0.241     -0.263      0.793      -0.541       0.415\n",
            "Malnourished5_9      -0.0523      0.238     -0.220      0.827      -0.524       0.419\n",
            "Income_Index         29.9489      5.009      5.980      0.000      20.030      39.868\n",
            "Schooling            -0.0924      0.217     -0.426      0.671      -0.522       0.337\n",
            "Year_2015             0.4342      1.175      0.370      0.712      -1.893       2.761\n",
            "status_Developing    -0.9324      0.800     -1.166      0.246      -2.517       0.652\n",
            "==============================================================================\n",
            "Omnibus:                       12.939   Durbin-Watson:                   2.057\n",
            "Prob(Omnibus):                  0.002   Jarque-Bera (JB):               22.577\n",
            "Skew:                          -0.427   Prob(JB):                     1.25e-05\n",
            "Kurtosis:                       4.805   Cond. No.                     6.55e+08\n",
            "==============================================================================\n",
            "\n",
            "Warnings:\n",
            "[1] Standard Errors assume that the covariance matrix of the errors is correctly specified.\n",
            "[2] The condition number is large, 6.55e+08. This might indicate that there are\n",
            "strong multicollinearity or other numerical problems.\n"
          ],
          "name": "stdout"
        }
      ]
    },
    {
      "cell_type": "code",
      "metadata": {
        "id": "Z4vRG0zkups4",
        "colab": {
          "base_uri": "https://localhost:8080/"
        },
        "outputId": "d36ef8b7-7005-45e6-ba28-2d56f1594030"
      },
      "source": [
        "# testing set\r\n",
        "\r\n",
        "xy= sm.add_constant(xts)\r\n",
        "ypred = model.predict(xy)\r\n",
        "from sklearn.metrics import r2_score\r\n",
        "\r\n",
        "r2_score(yts, ypred)"
      ],
      "execution_count": null,
      "outputs": [
        {
          "output_type": "execute_result",
          "data": {
            "text/plain": [
              "0.8233123758496212"
            ]
          },
          "metadata": {
            "tags": []
          },
          "execution_count": 132
        }
      ]
    },
    {
      "cell_type": "code",
      "metadata": {
        "id": "H27p4-CfupwH"
      },
      "source": [
        "# yes the model is overfitting slight on the traning data"
      ],
      "execution_count": null,
      "outputs": []
    },
    {
      "cell_type": "markdown",
      "metadata": {
        "collapsed": true,
        "id": "37Dms9QTFrd8"
      },
      "source": [
        "<table align=\"left\">\n",
        "    <tr>\n",
        "        <td width=\"6%\">\n",
        "            <img src=\"question_icon.png\">\n",
        "        </td>\n",
        "        <td>\n",
        "            <div align=\"left\", style=\"font-size:120%\">\n",
        "                <font color=\"#21618C\">\n",
        "                    <b>11. Can we use a linear regression model to analyze how all features from the dataset impact life expectancy?</b>\n",
        "                </font>\n",
        "            </div>\n",
        "        </td>\n",
        "    </tr>\n",
        "</table>"
      ]
    },
    {
      "cell_type": "code",
      "metadata": {
        "id": "FBvViLYBFrd9",
        "colab": {
          "base_uri": "https://localhost:8080/"
        },
        "outputId": "965f09ab-c6b0-4fe7-dd52-9643f120fe2f"
      },
      "source": [
        "# Yes. \r\n",
        "\r\n",
        "xy= sm.add_constant(xtr)\r\n",
        "model = sm.OLS(ytr, xy).fit()\r\n",
        "print(model.summary())"
      ],
      "execution_count": null,
      "outputs": [
        {
          "output_type": "stream",
          "text": [
            "                            OLS Regression Results                            \n",
            "==============================================================================\n",
            "Dep. Variable:        Life_Expectancy   R-squared:                       0.895\n",
            "Model:                            OLS   Adj. R-squared:                  0.879\n",
            "Method:                 Least Squares   F-statistic:                     55.49\n",
            "Date:                Sun, 31 Jan 2021   Prob (F-statistic):           1.29e-48\n",
            "Time:                        10:06:08   Log-Likelihood:                -322.74\n",
            "No. Observations:                 136   AIC:                             683.5\n",
            "Df Residuals:                     117   BIC:                             738.8\n",
            "Df Model:                          18                                         \n",
            "Covariance Type:            nonrobust                                         \n",
            "=====================================================================================\n",
            "                        coef    std err          t      P>|t|      [0.025      0.975]\n",
            "-------------------------------------------------------------------------------------\n",
            "const                54.5688      3.052     17.879      0.000      48.524      60.613\n",
            "Adult_Mortality      -0.0266      0.004     -6.661      0.000      -0.035      -0.019\n",
            "Infant_Deaths         0.1021      0.040      2.551      0.012       0.023       0.181\n",
            "Alcohol               0.1579      0.191      0.826      0.410      -0.221       0.536\n",
            "Hepatitis B           0.0498      0.024      2.061      0.042       0.002       0.098\n",
            "Measles           -6.127e-05   6.35e-05     -0.965      0.336      -0.000    6.44e-05\n",
            "BMI                  -0.0070      0.016     -0.446      0.657      -0.038       0.024\n",
            "Underfive_Deaths     -0.0750      0.028     -2.703      0.008      -0.130      -0.020\n",
            "Polio                 0.0133      0.014      0.939      0.350      -0.015       0.041\n",
            "Diphtheria           -0.0235      0.028     -0.831      0.407      -0.080       0.033\n",
            "HIV                  -0.4434      0.255     -1.736      0.085      -0.949       0.062\n",
            "GDP                -9.99e-06    2.7e-05     -0.370      0.712   -6.35e-05    4.35e-05\n",
            "Population         3.011e-09   1.08e-08      0.279      0.781   -1.84e-08    2.44e-08\n",
            "Malnourished10_19    -0.0634      0.241     -0.263      0.793      -0.541       0.415\n",
            "Malnourished5_9      -0.0523      0.238     -0.220      0.827      -0.524       0.419\n",
            "Income_Index         29.9489      5.009      5.980      0.000      20.030      39.868\n",
            "Schooling            -0.0924      0.217     -0.426      0.671      -0.522       0.337\n",
            "Year_2015             0.4342      1.175      0.370      0.712      -1.893       2.761\n",
            "status_Developing    -0.9324      0.800     -1.166      0.246      -2.517       0.652\n",
            "==============================================================================\n",
            "Omnibus:                       12.939   Durbin-Watson:                   2.057\n",
            "Prob(Omnibus):                  0.002   Jarque-Bera (JB):               22.577\n",
            "Skew:                          -0.427   Prob(JB):                     1.25e-05\n",
            "Kurtosis:                       4.805   Cond. No.                     6.55e+08\n",
            "==============================================================================\n",
            "\n",
            "Warnings:\n",
            "[1] Standard Errors assume that the covariance matrix of the errors is correctly specified.\n",
            "[2] The condition number is large, 6.55e+08. This might indicate that there are\n",
            "strong multicollinearity or other numerical problems.\n"
          ],
          "name": "stdout"
        }
      ]
    },
    {
      "cell_type": "code",
      "metadata": {
        "id": "P1NTUbrpuqTQ"
      },
      "source": [
        "# highest contributing features are - Adult_Mortality, Infacnt- deaths, Income_Index, Hepatitis B "
      ],
      "execution_count": null,
      "outputs": []
    },
    {
      "cell_type": "code",
      "metadata": {
        "id": "2TFuYjFNuqZQ"
      },
      "source": [
        "# we can analyze by looking at the coefficeints"
      ],
      "execution_count": null,
      "outputs": []
    },
    {
      "cell_type": "markdown",
      "metadata": {
        "id": "sfH_TDnZFrd9"
      },
      "source": [
        "<a id=\"reg\"> </a>\n",
        "## 4. Regularization"
      ]
    },
    {
      "cell_type": "markdown",
      "metadata": {
        "collapsed": true,
        "id": "U6vQWLZMFrd-"
      },
      "source": [
        "<table align=\"left\">\n",
        "    <tr>\n",
        "        <td width=\"6%\">\n",
        "            <img src=\"question_icon.png\">\n",
        "        </td>\n",
        "        <td>\n",
        "            <div align=\"left\", style=\"font-size:120%\">\n",
        "                <font color=\"#21618C\">\n",
        "                    <b>12. Can we perform regression analysis without eliminating features involved in multicollinearity detected in question 11?</b>\n",
        "                </font>\n",
        "            </div>\n",
        "        </td>\n",
        "    </tr>\n",
        "</table>"
      ]
    },
    {
      "cell_type": "code",
      "metadata": {
        "scrolled": true,
        "id": "26hjWSY5Frd-"
      },
      "source": [
        "# lets check VIF\r\n",
        "from statsmodels.stats.outliers_influence import variance_inflation_factor as vif\r\n",
        "\r\n",
        "gt= pd.DataFrame()\r\n",
        "gt['vars'] = xc.columns\r\n",
        "gt['vif_score'] = [vif(xc.values, i) for i in range(xc.shape[1])]\r\n"
      ],
      "execution_count": null,
      "outputs": []
    },
    {
      "cell_type": "code",
      "metadata": {
        "id": "_54368cZurHi",
        "colab": {
          "base_uri": "https://localhost:8080/",
          "height": 617
        },
        "outputId": "af6d227e-1485-4697-fc84-9f94ff08136a"
      },
      "source": [
        "gt"
      ],
      "execution_count": null,
      "outputs": [
        {
          "output_type": "execute_result",
          "data": {
            "text/html": [
              "<div>\n",
              "<style scoped>\n",
              "    .dataframe tbody tr th:only-of-type {\n",
              "        vertical-align: middle;\n",
              "    }\n",
              "\n",
              "    .dataframe tbody tr th {\n",
              "        vertical-align: top;\n",
              "    }\n",
              "\n",
              "    .dataframe thead th {\n",
              "        text-align: right;\n",
              "    }\n",
              "</style>\n",
              "<table border=\"1\" class=\"dataframe\">\n",
              "  <thead>\n",
              "    <tr style=\"text-align: right;\">\n",
              "      <th></th>\n",
              "      <th>vars</th>\n",
              "      <th>vif_score</th>\n",
              "    </tr>\n",
              "  </thead>\n",
              "  <tbody>\n",
              "    <tr>\n",
              "      <th>0</th>\n",
              "      <td>const</td>\n",
              "      <td>150.981848</td>\n",
              "    </tr>\n",
              "    <tr>\n",
              "      <th>1</th>\n",
              "      <td>Adult_Mortality</td>\n",
              "      <td>2.345130</td>\n",
              "    </tr>\n",
              "    <tr>\n",
              "      <th>2</th>\n",
              "      <td>Infant_Deaths</td>\n",
              "      <td>162.920206</td>\n",
              "    </tr>\n",
              "    <tr>\n",
              "      <th>3</th>\n",
              "      <td>Alcohol</td>\n",
              "      <td>1.105705</td>\n",
              "    </tr>\n",
              "    <tr>\n",
              "      <th>4</th>\n",
              "      <td>Hepatitis B</td>\n",
              "      <td>6.243168</td>\n",
              "    </tr>\n",
              "    <tr>\n",
              "      <th>5</th>\n",
              "      <td>Measles</td>\n",
              "      <td>4.256329</td>\n",
              "    </tr>\n",
              "    <tr>\n",
              "      <th>6</th>\n",
              "      <td>BMI</td>\n",
              "      <td>1.770225</td>\n",
              "    </tr>\n",
              "    <tr>\n",
              "      <th>7</th>\n",
              "      <td>Underfive_Deaths</td>\n",
              "      <td>141.643778</td>\n",
              "    </tr>\n",
              "    <tr>\n",
              "      <th>8</th>\n",
              "      <td>Polio</td>\n",
              "      <td>2.244110</td>\n",
              "    </tr>\n",
              "    <tr>\n",
              "      <th>9</th>\n",
              "      <td>Diphtheria</td>\n",
              "      <td>7.206809</td>\n",
              "    </tr>\n",
              "    <tr>\n",
              "      <th>10</th>\n",
              "      <td>HIV</td>\n",
              "      <td>1.978699</td>\n",
              "    </tr>\n",
              "    <tr>\n",
              "      <th>11</th>\n",
              "      <td>GDP</td>\n",
              "      <td>1.410186</td>\n",
              "    </tr>\n",
              "    <tr>\n",
              "      <th>12</th>\n",
              "      <td>Population</td>\n",
              "      <td>1.443799</td>\n",
              "    </tr>\n",
              "    <tr>\n",
              "      <th>13</th>\n",
              "      <td>Malnourished10_19</td>\n",
              "      <td>21.393502</td>\n",
              "    </tr>\n",
              "    <tr>\n",
              "      <th>14</th>\n",
              "      <td>Malnourished5_9</td>\n",
              "      <td>21.892005</td>\n",
              "    </tr>\n",
              "    <tr>\n",
              "      <th>15</th>\n",
              "      <td>Income_Index</td>\n",
              "      <td>6.540287</td>\n",
              "    </tr>\n",
              "    <tr>\n",
              "      <th>16</th>\n",
              "      <td>Schooling</td>\n",
              "      <td>4.172218</td>\n",
              "    </tr>\n",
              "    <tr>\n",
              "      <th>17</th>\n",
              "      <td>Year_2015</td>\n",
              "      <td>1.316841</td>\n",
              "    </tr>\n",
              "    <tr>\n",
              "      <th>18</th>\n",
              "      <td>status_Developing</td>\n",
              "      <td>1.608646</td>\n",
              "    </tr>\n",
              "  </tbody>\n",
              "</table>\n",
              "</div>"
            ],
            "text/plain": [
              "                 vars   vif_score\n",
              "0               const  150.981848\n",
              "1     Adult_Mortality    2.345130\n",
              "2       Infant_Deaths  162.920206\n",
              "3             Alcohol    1.105705\n",
              "4         Hepatitis B    6.243168\n",
              "5             Measles    4.256329\n",
              "6                 BMI    1.770225\n",
              "7    Underfive_Deaths  141.643778\n",
              "8               Polio    2.244110\n",
              "9          Diphtheria    7.206809\n",
              "10                HIV    1.978699\n",
              "11                GDP    1.410186\n",
              "12         Population    1.443799\n",
              "13  Malnourished10_19   21.393502\n",
              "14    Malnourished5_9   21.892005\n",
              "15       Income_Index    6.540287\n",
              "16          Schooling    4.172218\n",
              "17          Year_2015    1.316841\n",
              "18  status_Developing    1.608646"
            ]
          },
          "metadata": {
            "tags": []
          },
          "execution_count": 135
        }
      ]
    },
    {
      "cell_type": "code",
      "metadata": {
        "id": "I9b6md1jurLZ"
      },
      "source": [
        "# features having high multicollinearity are- Infant_Deaths, Underfive_Deaths, Malnourished10_19, Malnourished5_9"
      ],
      "execution_count": null,
      "outputs": []
    },
    {
      "cell_type": "code",
      "metadata": {
        "id": "MpYxXJTP7Fqb"
      },
      "source": [
        "# none of the above features are contributing that much - coeff wise - so fairly said, model wont be disrupted that much after dropping these features"
      ],
      "execution_count": null,
      "outputs": []
    },
    {
      "cell_type": "markdown",
      "metadata": {
        "collapsed": true,
        "id": "3LtvZ_fnFrd_"
      },
      "source": [
        "<table align=\"left\">\n",
        "    <tr>\n",
        "        <td width=\"6%\">\n",
        "            <img src=\"question_icon.png\">\n",
        "        </td>\n",
        "        <td>\n",
        "            <div align=\"left\", style=\"font-size:120%\">\n",
        "                <font color=\"#21618C\">\n",
        "                    <b>13. Build a model to study the impact of diseases and immunization on life expectancy. Identify the significant variables from the model. Use 'alpha = 1.5' if required.\n",
        "</b>\n",
        "                </font>\n",
        "            </div>\n",
        "        </td>\n",
        "    </tr>\n",
        "</table>"
      ]
    },
    {
      "cell_type": "code",
      "metadata": {
        "colab": {
          "base_uri": "https://localhost:8080/",
          "height": 234
        },
        "id": "uG9LBhRiFDdc",
        "outputId": "b876f9c4-a3da-4922-84b0-fd054aa798bb"
      },
      "source": [
        "xc.head()"
      ],
      "execution_count": null,
      "outputs": [
        {
          "output_type": "execute_result",
          "data": {
            "text/html": [
              "<div>\n",
              "<style scoped>\n",
              "    .dataframe tbody tr th:only-of-type {\n",
              "        vertical-align: middle;\n",
              "    }\n",
              "\n",
              "    .dataframe tbody tr th {\n",
              "        vertical-align: top;\n",
              "    }\n",
              "\n",
              "    .dataframe thead th {\n",
              "        text-align: right;\n",
              "    }\n",
              "</style>\n",
              "<table border=\"1\" class=\"dataframe\">\n",
              "  <thead>\n",
              "    <tr style=\"text-align: right;\">\n",
              "      <th></th>\n",
              "      <th>const</th>\n",
              "      <th>Adult_Mortality</th>\n",
              "      <th>Infant_Deaths</th>\n",
              "      <th>Alcohol</th>\n",
              "      <th>Hepatitis B</th>\n",
              "      <th>Measles</th>\n",
              "      <th>BMI</th>\n",
              "      <th>Underfive_Deaths</th>\n",
              "      <th>Polio</th>\n",
              "      <th>Diphtheria</th>\n",
              "      <th>HIV</th>\n",
              "      <th>GDP</th>\n",
              "      <th>Population</th>\n",
              "      <th>Malnourished10_19</th>\n",
              "      <th>Malnourished5_9</th>\n",
              "      <th>Income_Index</th>\n",
              "      <th>Schooling</th>\n",
              "      <th>Year_2015</th>\n",
              "      <th>status_Developing</th>\n",
              "    </tr>\n",
              "  </thead>\n",
              "  <tbody>\n",
              "    <tr>\n",
              "      <th>0</th>\n",
              "      <td>1.0</td>\n",
              "      <td>263.0</td>\n",
              "      <td>62</td>\n",
              "      <td>0.01</td>\n",
              "      <td>65.0</td>\n",
              "      <td>1154</td>\n",
              "      <td>19.1</td>\n",
              "      <td>83</td>\n",
              "      <td>6</td>\n",
              "      <td>65</td>\n",
              "      <td>0.1</td>\n",
              "      <td>584.259210</td>\n",
              "      <td>33736494.0</td>\n",
              "      <td>17.2</td>\n",
              "      <td>17.3</td>\n",
              "      <td>0.479</td>\n",
              "      <td>10.1</td>\n",
              "      <td>1</td>\n",
              "      <td>1</td>\n",
              "    </tr>\n",
              "    <tr>\n",
              "      <th>1</th>\n",
              "      <td>1.0</td>\n",
              "      <td>74.0</td>\n",
              "      <td>0</td>\n",
              "      <td>4.60</td>\n",
              "      <td>99.0</td>\n",
              "      <td>0</td>\n",
              "      <td>58.0</td>\n",
              "      <td>0</td>\n",
              "      <td>99</td>\n",
              "      <td>99</td>\n",
              "      <td>0.1</td>\n",
              "      <td>3954.227830</td>\n",
              "      <td>28873.0</td>\n",
              "      <td>1.2</td>\n",
              "      <td>1.3</td>\n",
              "      <td>0.762</td>\n",
              "      <td>14.2</td>\n",
              "      <td>1</td>\n",
              "      <td>1</td>\n",
              "    </tr>\n",
              "    <tr>\n",
              "      <th>2</th>\n",
              "      <td>1.0</td>\n",
              "      <td>19.0</td>\n",
              "      <td>21</td>\n",
              "      <td>0.01</td>\n",
              "      <td>95.0</td>\n",
              "      <td>63</td>\n",
              "      <td>59.5</td>\n",
              "      <td>24</td>\n",
              "      <td>95</td>\n",
              "      <td>95</td>\n",
              "      <td>0.1</td>\n",
              "      <td>4132.762920</td>\n",
              "      <td>39871528.0</td>\n",
              "      <td>6.0</td>\n",
              "      <td>5.8</td>\n",
              "      <td>0.743</td>\n",
              "      <td>14.4</td>\n",
              "      <td>1</td>\n",
              "      <td>1</td>\n",
              "    </tr>\n",
              "    <tr>\n",
              "      <th>3</th>\n",
              "      <td>1.0</td>\n",
              "      <td>335.0</td>\n",
              "      <td>66</td>\n",
              "      <td>0.01</td>\n",
              "      <td>64.0</td>\n",
              "      <td>118</td>\n",
              "      <td>23.3</td>\n",
              "      <td>98</td>\n",
              "      <td>7</td>\n",
              "      <td>64</td>\n",
              "      <td>1.9</td>\n",
              "      <td>3695.793748</td>\n",
              "      <td>2785935.0</td>\n",
              "      <td>8.3</td>\n",
              "      <td>8.2</td>\n",
              "      <td>0.531</td>\n",
              "      <td>11.4</td>\n",
              "      <td>1</td>\n",
              "      <td>1</td>\n",
              "    </tr>\n",
              "    <tr>\n",
              "      <th>4</th>\n",
              "      <td>1.0</td>\n",
              "      <td>13.0</td>\n",
              "      <td>0</td>\n",
              "      <td>0.01</td>\n",
              "      <td>99.0</td>\n",
              "      <td>0</td>\n",
              "      <td>47.7</td>\n",
              "      <td>0</td>\n",
              "      <td>86</td>\n",
              "      <td>99</td>\n",
              "      <td>0.2</td>\n",
              "      <td>13566.954100</td>\n",
              "      <td>1977527.0</td>\n",
              "      <td>3.3</td>\n",
              "      <td>3.3</td>\n",
              "      <td>0.784</td>\n",
              "      <td>13.9</td>\n",
              "      <td>1</td>\n",
              "      <td>1</td>\n",
              "    </tr>\n",
              "  </tbody>\n",
              "</table>\n",
              "</div>"
            ],
            "text/plain": [
              "   const  Adult_Mortality  ...  Year_2015  status_Developing\n",
              "0    1.0            263.0  ...          1                  1\n",
              "1    1.0             74.0  ...          1                  1\n",
              "2    1.0             19.0  ...          1                  1\n",
              "3    1.0            335.0  ...          1                  1\n",
              "4    1.0             13.0  ...          1                  1\n",
              "\n",
              "[5 rows x 19 columns]"
            ]
          },
          "metadata": {
            "tags": []
          },
          "execution_count": 146
        }
      ]
    },
    {
      "cell_type": "code",
      "metadata": {
        "id": "tYMrePvODmgW"
      },
      "source": [
        "imm= ['HIV', 'Hepatitis B', 'Measles', 'Polio', 'Diphtheria']"
      ],
      "execution_count": null,
      "outputs": []
    },
    {
      "cell_type": "code",
      "metadata": {
        "id": "ehyOIaOOFreA",
        "colab": {
          "base_uri": "https://localhost:8080/"
        },
        "outputId": "e138ad0c-f95c-4a5e-f287-be96b45604e9"
      },
      "source": [
        "# we can use a K-fold cross val coupled with a Lasso.\r\n",
        "from sklearn.linear_model import Lasso\r\n",
        "from sklearn.model_selection import RepeatedKFold\r\n",
        "from sklearn.model_selection import cross_val_score\r\n",
        "from sklearn.metrics import mean_squared_error\r\n",
        "ar= Lasso(alpha= 1.5, max_iter=10000)\r\n",
        "cv_ = RepeatedKFold(n_splits=5, n_repeats=2, random_state=1)\r\n",
        "scores = cross_val_score(ar, xc[imm], exp, scoring = 'r2', cv=cv_, n_jobs=-1)\r\n",
        "print('RMSE is /n', np.mean(scores))"
      ],
      "execution_count": null,
      "outputs": [
        {
          "output_type": "stream",
          "text": [
            "RMSE is /n 0.3871578143911168\n"
          ],
          "name": "stdout"
        }
      ]
    },
    {
      "cell_type": "code",
      "metadata": {
        "id": "aqijKZP_ur5B"
      },
      "source": [
        "# with lasso we are getting a score of 23% - not that great. \r\n",
        "\r\n",
        "# lets see the significant features."
      ],
      "execution_count": null,
      "outputs": []
    },
    {
      "cell_type": "code",
      "metadata": {
        "id": "J0w2KNwpur73",
        "colab": {
          "base_uri": "https://localhost:8080/",
          "height": 406
        },
        "outputId": "25e575f0-8c71-4fda-9b94-26435a925905"
      },
      "source": [
        "las= Lasso(alpha=0.1, max_iter=100000).fit(xc[imm], exp)\r\n",
        "xc[imm].iloc[:,las.coef_!=0]"
      ],
      "execution_count": null,
      "outputs": [
        {
          "output_type": "execute_result",
          "data": {
            "text/html": [
              "<div>\n",
              "<style scoped>\n",
              "    .dataframe tbody tr th:only-of-type {\n",
              "        vertical-align: middle;\n",
              "    }\n",
              "\n",
              "    .dataframe tbody tr th {\n",
              "        vertical-align: top;\n",
              "    }\n",
              "\n",
              "    .dataframe thead th {\n",
              "        text-align: right;\n",
              "    }\n",
              "</style>\n",
              "<table border=\"1\" class=\"dataframe\">\n",
              "  <thead>\n",
              "    <tr style=\"text-align: right;\">\n",
              "      <th></th>\n",
              "      <th>HIV</th>\n",
              "      <th>Hepatitis B</th>\n",
              "      <th>Measles</th>\n",
              "      <th>Polio</th>\n",
              "      <th>Diphtheria</th>\n",
              "    </tr>\n",
              "  </thead>\n",
              "  <tbody>\n",
              "    <tr>\n",
              "      <th>0</th>\n",
              "      <td>0.1</td>\n",
              "      <td>65.0</td>\n",
              "      <td>1154</td>\n",
              "      <td>6</td>\n",
              "      <td>65</td>\n",
              "    </tr>\n",
              "    <tr>\n",
              "      <th>1</th>\n",
              "      <td>0.1</td>\n",
              "      <td>99.0</td>\n",
              "      <td>0</td>\n",
              "      <td>99</td>\n",
              "      <td>99</td>\n",
              "    </tr>\n",
              "    <tr>\n",
              "      <th>2</th>\n",
              "      <td>0.1</td>\n",
              "      <td>95.0</td>\n",
              "      <td>63</td>\n",
              "      <td>95</td>\n",
              "      <td>95</td>\n",
              "    </tr>\n",
              "    <tr>\n",
              "      <th>3</th>\n",
              "      <td>1.9</td>\n",
              "      <td>64.0</td>\n",
              "      <td>118</td>\n",
              "      <td>7</td>\n",
              "      <td>64</td>\n",
              "    </tr>\n",
              "    <tr>\n",
              "      <th>4</th>\n",
              "      <td>0.2</td>\n",
              "      <td>99.0</td>\n",
              "      <td>0</td>\n",
              "      <td>86</td>\n",
              "      <td>99</td>\n",
              "    </tr>\n",
              "    <tr>\n",
              "      <th>...</th>\n",
              "      <td>...</td>\n",
              "      <td>...</td>\n",
              "      <td>...</td>\n",
              "      <td>...</td>\n",
              "      <td>...</td>\n",
              "    </tr>\n",
              "    <tr>\n",
              "      <th>177</th>\n",
              "      <td>0.1</td>\n",
              "      <td>87.0</td>\n",
              "      <td>0</td>\n",
              "      <td>87</td>\n",
              "      <td>87</td>\n",
              "    </tr>\n",
              "    <tr>\n",
              "      <th>178</th>\n",
              "      <td>0.1</td>\n",
              "      <td>97.0</td>\n",
              "      <td>256</td>\n",
              "      <td>97</td>\n",
              "      <td>97</td>\n",
              "    </tr>\n",
              "    <tr>\n",
              "      <th>179</th>\n",
              "      <td>0.1</td>\n",
              "      <td>69.0</td>\n",
              "      <td>468</td>\n",
              "      <td>63</td>\n",
              "      <td>69</td>\n",
              "    </tr>\n",
              "    <tr>\n",
              "      <th>180</th>\n",
              "      <td>4.1</td>\n",
              "      <td>9.0</td>\n",
              "      <td>9</td>\n",
              "      <td>9</td>\n",
              "      <td>9</td>\n",
              "    </tr>\n",
              "    <tr>\n",
              "      <th>181</th>\n",
              "      <td>6.2</td>\n",
              "      <td>87.0</td>\n",
              "      <td>0</td>\n",
              "      <td>88</td>\n",
              "      <td>87</td>\n",
              "    </tr>\n",
              "  </tbody>\n",
              "</table>\n",
              "<p>182 rows × 5 columns</p>\n",
              "</div>"
            ],
            "text/plain": [
              "     HIV  Hepatitis B  Measles  Polio  Diphtheria\n",
              "0    0.1         65.0     1154      6          65\n",
              "1    0.1         99.0        0     99          99\n",
              "2    0.1         95.0       63     95          95\n",
              "3    1.9         64.0      118      7          64\n",
              "4    0.2         99.0        0     86          99\n",
              "..   ...          ...      ...    ...         ...\n",
              "177  0.1         87.0        0     87          87\n",
              "178  0.1         97.0      256     97          97\n",
              "179  0.1         69.0      468     63          69\n",
              "180  4.1          9.0        9      9           9\n",
              "181  6.2         87.0        0     88          87\n",
              "\n",
              "[182 rows x 5 columns]"
            ]
          },
          "metadata": {
            "tags": []
          },
          "execution_count": 149
        }
      ]
    },
    {
      "cell_type": "code",
      "metadata": {
        "colab": {
          "base_uri": "https://localhost:8080/"
        },
        "id": "eytunps8GNhn",
        "outputId": "a2e56504-f0a6-4e41-eeaf-ead41a5ea1c3"
      },
      "source": [
        "las.coef_"
      ],
      "execution_count": null,
      "outputs": [
        {
          "output_type": "execute_result",
          "data": {
            "text/plain": [
              "array([-2.59503551e+00, -3.57548932e-02, -8.59473853e-05,  7.66260357e-02,\n",
              "        8.43644730e-02])"
            ]
          },
          "metadata": {
            "tags": []
          },
          "execution_count": 150
        }
      ]
    },
    {
      "cell_type": "code",
      "metadata": {
        "id": "93SpUHScGU3h"
      },
      "source": [
        "# So most important features taken by lasso are: HIV, Hepatitis B and Polio"
      ],
      "execution_count": null,
      "outputs": []
    },
    {
      "cell_type": "markdown",
      "metadata": {
        "collapsed": true,
        "id": "VWO7vwRwFreA"
      },
      "source": [
        "<table align=\"left\">\n",
        "    <tr>\n",
        "        <td width=\"6%\">\n",
        "            <img src=\"question_icon.png\">\n",
        "        </td>\n",
        "        <td>\n",
        "            <div align=\"left\", style=\"font-size:120%\">\n",
        "                <font color=\"#21618C\">\n",
        "                    <b>14. Build a model to study the impact of malnutrition and diseases on life expectancy. Identify the insignificant variables from the model. Use 'alpha = 1' if required.</b>\n",
        "                </font>\n",
        "            </div>\n",
        "        </td>\n",
        "    </tr>\n",
        "</table>"
      ]
    },
    {
      "cell_type": "code",
      "metadata": {
        "id": "5EVb2cErFreA"
      },
      "source": [
        "  rrt= ['HIV', 'Hepatitis B', 'Measles', 'Polio', 'Diphtheria', 'Malnourished10_19',\t'Malnourished5_9']\r\n",
        "  las= Lasso(alpha=0.1, max_iter=100000).fit(xc[rrt], exp)"
      ],
      "execution_count": null,
      "outputs": []
    },
    {
      "cell_type": "code",
      "metadata": {
        "id": "AUIGoYwYuso-"
      },
      "source": [
        "\r\n",
        "ww = {i:k for i,k in zip(rrt, las.coef_)}"
      ],
      "execution_count": null,
      "outputs": []
    },
    {
      "cell_type": "code",
      "metadata": {
        "id": "ksp82F2Kuswj",
        "colab": {
          "base_uri": "https://localhost:8080/"
        },
        "outputId": "9b1bc77d-5968-44cd-bb64-49df4c938f8a"
      },
      "source": [
        "sorted(ww, key=ww.get)"
      ],
      "execution_count": null,
      "outputs": [
        {
          "output_type": "execute_result",
          "data": {
            "text/plain": [
              "['HIV',\n",
              " 'Malnourished5_9',\n",
              " 'Malnourished10_19',\n",
              " 'Hepatitis B',\n",
              " 'Measles',\n",
              " 'Polio',\n",
              " 'Diphtheria']"
            ]
          },
          "metadata": {
            "tags": []
          },
          "execution_count": 155
        }
      ]
    },
    {
      "cell_type": "code",
      "metadata": {
        "id": "SpHp6h_ousy4"
      },
      "source": [
        "# The last few columns are insignificant - we can look that up with p values tho"
      ],
      "execution_count": null,
      "outputs": []
    },
    {
      "cell_type": "markdown",
      "metadata": {
        "collapsed": true,
        "id": "nKKc9dbOFreB"
      },
      "source": [
        "<table align=\"left\">\n",
        "    <tr>\n",
        "        <td width=\"6%\">\n",
        "            <img src=\"question_icon.png\">\n",
        "        </td>\n",
        "        <td>\n",
        "            <div align=\"left\", style=\"font-size:120%\">\n",
        "                <font color=\"#21618C\">\n",
        "                    <b>15. Build a full model using the elastic net regression. Use 'alpha = 0.1' and 'l1_ratio=0.001'. Also, compute the RMSE for train and test sets.\n",
        " </b>\n",
        "                </font>\n",
        "            </div>\n",
        "        </td>\n",
        "    </tr>\n",
        "</table>"
      ]
    },
    {
      "cell_type": "code",
      "metadata": {
        "id": "CIdvzPP5IDIg"
      },
      "source": [
        ""
      ],
      "execution_count": null,
      "outputs": []
    },
    {
      "cell_type": "code",
      "metadata": {
        "scrolled": true,
        "id": "sNpqM3JUFreB"
      },
      "source": [
        "from sklearn.linear_model import ElasticNet\r\n",
        "el= ElasticNet(alpha= 0.1, l1_ratio=0.001, max_iter=10000).fit(xtr, ytr)"
      ],
      "execution_count": null,
      "outputs": []
    },
    {
      "cell_type": "code",
      "metadata": {
        "id": "A0pAAtELutyu",
        "colab": {
          "base_uri": "https://localhost:8080/"
        },
        "outputId": "08d3a51f-54bb-4328-9df0-adfae5508418"
      },
      "source": [
        "ypr = el.predict(xts)\r\n",
        "y_train_pr = el.predict(xtr)\r\n",
        "print(np.sqrt(mean_squared_error(ytr,y_train_pr)), np.sqrt(mean_squared_error(yts,ypr)))"
      ],
      "execution_count": null,
      "outputs": [
        {
          "output_type": "stream",
          "text": [
            "2.9571378088048985 4.4847130759524205\n"
          ],
          "name": "stdout"
        }
      ]
    },
    {
      "cell_type": "code",
      "metadata": {
        "id": "WEJ2WPprut1u"
      },
      "source": [
        "# training set = 2.95"
      ],
      "execution_count": null,
      "outputs": []
    },
    {
      "cell_type": "code",
      "metadata": {
        "id": "25ERJ0hkut8I"
      },
      "source": [
        "# testing set = 4.48"
      ],
      "execution_count": null,
      "outputs": []
    },
    {
      "cell_type": "code",
      "metadata": {
        "id": "6_OWm9flut_W"
      },
      "source": [
        ""
      ],
      "execution_count": null,
      "outputs": []
    },
    {
      "cell_type": "markdown",
      "metadata": {
        "collapsed": true,
        "id": "gQXwaOLeFreB"
      },
      "source": [
        "<table align=\"left\">\n",
        "    <tr>\n",
        "        <td width=\"6%\">\n",
        "            <img src=\"question_icon.png\">\n",
        "        </td>\n",
        "        <td>\n",
        "            <div align=\"left\", style=\"font-size:120%\">\n",
        "                <font color=\"#21618C\">\n",
        "                    <b>16. Build a full model. Identify the features that are significantly influencing the life expectancy. Use 'alpha = 0.5' if required. </b>\n",
        "                </font>\n",
        "            </div>\n",
        "        </td>\n",
        "    </tr>\n",
        "</table>"
      ]
    },
    {
      "cell_type": "code",
      "metadata": {
        "scrolled": true,
        "id": "6XsBLnwPFreC"
      },
      "source": [
        "las2= Lasso(alpha=0.5, max_iter=100000).fit(xtr, ytr)"
      ],
      "execution_count": null,
      "outputs": []
    },
    {
      "cell_type": "code",
      "metadata": {
        "id": "07O9sBHOuuhv"
      },
      "source": [
        "# features"
      ],
      "execution_count": null,
      "outputs": []
    },
    {
      "cell_type": "code",
      "metadata": {
        "id": "KCtC6d7zuukt"
      },
      "source": [
        "ww2 = {i:k for i,k in zip(xtr.columns, las2.coef_)}"
      ],
      "execution_count": null,
      "outputs": []
    },
    {
      "cell_type": "code",
      "metadata": {
        "colab": {
          "base_uri": "https://localhost:8080/"
        },
        "id": "KbV8tBxZLdWL",
        "outputId": "3e49a9ce-79be-4a04-e4d0-0ea26dac1cbe"
      },
      "source": [
        "ww2"
      ],
      "execution_count": null,
      "outputs": [
        {
          "output_type": "execute_result",
          "data": {
            "text/plain": [
              "{'Adult_Mortality': -0.03872756010642552,\n",
              " 'Alcohol': 0.0,\n",
              " 'BMI': 0.020724904690072394,\n",
              " 'Diphtheria': 0.0122737636202585,\n",
              " 'GDP': 2.6386313441413518e-05,\n",
              " 'HIV': -0.02340826008613188,\n",
              " 'Hepatitis B': 0.02493115420252038,\n",
              " 'Income_Index': 0.0,\n",
              " 'Infant_Deaths': 0.11056194737435633,\n",
              " 'Malnourished10_19': -0.17468285392180516,\n",
              " 'Malnourished5_9': -0.0,\n",
              " 'Measles': -6.813020370916965e-05,\n",
              " 'Polio': 0.03160505904107566,\n",
              " 'Population': 4.3398734382228155e-09,\n",
              " 'Schooling': 0.9066473006731093,\n",
              " 'Underfive_Deaths': -0.07981067220542704,\n",
              " 'Year_2015': -0.0,\n",
              " 'const': 0.0,\n",
              " 'status_Developing': -0.0}"
            ]
          },
          "metadata": {
            "tags": []
          },
          "execution_count": 166
        }
      ]
    },
    {
      "cell_type": "code",
      "metadata": {
        "id": "61IPwg_suurI",
        "colab": {
          "base_uri": "https://localhost:8080/"
        },
        "outputId": "9b18c4be-4a22-4504-bbd2-d18e85065dce"
      },
      "source": [
        "sorted(ww2, key=ww2.get, reverse=True)"
      ],
      "execution_count": null,
      "outputs": [
        {
          "output_type": "execute_result",
          "data": {
            "text/plain": [
              "['Schooling',\n",
              " 'Infant_Deaths',\n",
              " 'Polio',\n",
              " 'Hepatitis B',\n",
              " 'BMI',\n",
              " 'Diphtheria',\n",
              " 'GDP',\n",
              " 'Population',\n",
              " 'const',\n",
              " 'Alcohol',\n",
              " 'Malnourished5_9',\n",
              " 'Income_Index',\n",
              " 'Year_2015',\n",
              " 'status_Developing',\n",
              " 'Measles',\n",
              " 'HIV',\n",
              " 'Adult_Mortality',\n",
              " 'Underfive_Deaths',\n",
              " 'Malnourished10_19']"
            ]
          },
          "metadata": {
            "tags": []
          },
          "execution_count": 167
        }
      ]
    },
    {
      "cell_type": "code",
      "metadata": {
        "id": "W7ZP4SoKLY1u"
      },
      "source": [
        "# influencing features are: Schooling, Infant_Deaths, Polio, Hepatitis B"
      ],
      "execution_count": null,
      "outputs": []
    },
    {
      "cell_type": "markdown",
      "metadata": {
        "id": "8ZyqeeCOFreC"
      },
      "source": [
        "<a id=\"gs\"> </a>\n",
        "## 5. Grid Search "
      ]
    },
    {
      "cell_type": "markdown",
      "metadata": {
        "collapsed": true,
        "id": "nabN86xWFreC"
      },
      "source": [
        "<table align=\"left\">\n",
        "    <tr>\n",
        "        <td width=\"6%\">\n",
        "            <img src=\"question_icon.png\">\n",
        "        </td>\n",
        "        <td>\n",
        "            <div align=\"left\", style=\"font-size:120%\">\n",
        "                <font color=\"#21618C\">\n",
        "                    <b>17. If ridge regression is used to build a full model. Which value is the best alpha from the list of values?<br><br>Consider the alpha values: [7,8,9,10,11]</b>\n",
        "                </font>\n",
        "            </div>\n",
        "        </td>\n",
        "    </tr>\n",
        "</table>"
      ]
    },
    {
      "cell_type": "code",
      "metadata": {
        "scrolled": true,
        "id": "0MBI1nQLFreD",
        "colab": {
          "base_uri": "https://localhost:8080/"
        },
        "outputId": "ef202fdc-11ec-42a6-d660-80efe04780fc"
      },
      "source": [
        "from sklearn.linear_model import Ridge\r\n",
        "\r\n",
        "rr= {'alpha': [7,8,9,10,11]}\r\n",
        "\r\n",
        "from sklearn.model_selection import KFold, GridSearchCV\r\n",
        "ar = Ridge(max_iter=100000)\r\n",
        "gs= GridSearchCV(ar, param_grid= rr, scoring= 'r2', cv=3)\r\n",
        "gs.fit(xtr, ytr)"
      ],
      "execution_count": null,
      "outputs": [
        {
          "output_type": "stream",
          "text": [
            "/usr/local/lib/python3.6/dist-packages/sklearn/linear_model/_ridge.py:148: LinAlgWarning: Ill-conditioned matrix (rcond=9.08317e-17): result may not be accurate.\n",
            "  overwrite_a=True).T\n",
            "/usr/local/lib/python3.6/dist-packages/sklearn/linear_model/_ridge.py:148: LinAlgWarning: Ill-conditioned matrix (rcond=6.91981e-17): result may not be accurate.\n",
            "  overwrite_a=True).T\n",
            "/usr/local/lib/python3.6/dist-packages/sklearn/linear_model/_ridge.py:148: LinAlgWarning: Ill-conditioned matrix (rcond=1.03808e-16): result may not be accurate.\n",
            "  overwrite_a=True).T\n",
            "/usr/local/lib/python3.6/dist-packages/sklearn/linear_model/_ridge.py:148: LinAlgWarning: Ill-conditioned matrix (rcond=7.90836e-17): result may not be accurate.\n",
            "  overwrite_a=True).T\n",
            "/usr/local/lib/python3.6/dist-packages/sklearn/linear_model/_ridge.py:148: LinAlgWarning: Ill-conditioned matrix (rcond=8.8969e-17): result may not be accurate.\n",
            "  overwrite_a=True).T\n",
            "/usr/local/lib/python3.6/dist-packages/sklearn/linear_model/_ridge.py:148: LinAlgWarning: Ill-conditioned matrix (rcond=9.88544e-17): result may not be accurate.\n",
            "  overwrite_a=True).T\n",
            "/usr/local/lib/python3.6/dist-packages/sklearn/linear_model/_ridge.py:148: LinAlgWarning: Ill-conditioned matrix (rcond=1.0874e-16): result may not be accurate.\n",
            "  overwrite_a=True).T\n",
            "/usr/local/lib/python3.6/dist-packages/sklearn/linear_model/_ridge.py:148: LinAlgWarning: Ill-conditioned matrix (rcond=9.83763e-17): result may not be accurate.\n",
            "  overwrite_a=True).T\n"
          ],
          "name": "stderr"
        },
        {
          "output_type": "execute_result",
          "data": {
            "text/plain": [
              "GridSearchCV(cv=3, error_score=nan,\n",
              "             estimator=Ridge(alpha=1.0, copy_X=True, fit_intercept=True,\n",
              "                             max_iter=100000, normalize=False,\n",
              "                             random_state=None, solver='auto', tol=0.001),\n",
              "             iid='deprecated', n_jobs=None,\n",
              "             param_grid={'alpha': [7, 8, 9, 10, 11]}, pre_dispatch='2*n_jobs',\n",
              "             refit=True, return_train_score=False, scoring='r2', verbose=0)"
            ]
          },
          "metadata": {
            "tags": []
          },
          "execution_count": 169
        }
      ]
    },
    {
      "cell_type": "code",
      "metadata": {
        "id": "mvU4Dyyauve_",
        "colab": {
          "base_uri": "https://localhost:8080/"
        },
        "outputId": "d3b71431-fd70-47dd-80b5-f7f25ca75937"
      },
      "source": [
        "gs.best_params_"
      ],
      "execution_count": null,
      "outputs": [
        {
          "output_type": "execute_result",
          "data": {
            "text/plain": [
              "{'alpha': 11}"
            ]
          },
          "metadata": {
            "tags": []
          },
          "execution_count": 170
        }
      ]
    },
    {
      "cell_type": "code",
      "metadata": {
        "id": "YmYuPwDguvh-"
      },
      "source": [
        "# alpha was found the best value = 11"
      ],
      "execution_count": null,
      "outputs": []
    },
    {
      "cell_type": "code",
      "metadata": {
        "id": "V3WFOzxWuvoz"
      },
      "source": [
        ""
      ],
      "execution_count": null,
      "outputs": []
    },
    {
      "cell_type": "markdown",
      "metadata": {
        "collapsed": true,
        "id": "EYDksPRDFreD"
      },
      "source": [
        "<table align=\"left\">\n",
        "    <tr>\n",
        "        <td width=\"6%\">\n",
        "            <img src=\"question_icon.png\">\n",
        "        </td>\n",
        "        <td>\n",
        "            <div align=\"left\", style=\"font-size:120%\">\n",
        "                <font color=\"#21618C\">\n",
        "                    <b>18. If lasso regression is used to build a full model. Which value is the best alpha from the list of values?<br><br>Consider the alpha values: [7,8,9,10,11]</b>\n",
        "                </font>\n",
        "            </div>\n",
        "        </td>\n",
        "    </tr>\n",
        "</table>"
      ]
    },
    {
      "cell_type": "code",
      "metadata": {
        "id": "KXL8eqF9FreD",
        "colab": {
          "base_uri": "https://localhost:8080/"
        },
        "outputId": "109e562a-d800-47ee-9c23-0f0e32642f12"
      },
      "source": [
        "from sklearn.linear_model import Lasso\r\n",
        "\r\n",
        "rr= {'alpha': [7,8,9,10,11]}\r\n",
        "\r\n",
        "from sklearn.model_selection import KFold, GridSearchCV\r\n",
        "ar = Lasso(max_iter=100000)\r\n",
        "gs= GridSearchCV(ar, param_grid= rr, scoring= 'r2', cv=3)\r\n",
        "gs.fit(xtr, ytr)"
      ],
      "execution_count": null,
      "outputs": [
        {
          "output_type": "execute_result",
          "data": {
            "text/plain": [
              "GridSearchCV(cv=3, error_score=nan,\n",
              "             estimator=Lasso(alpha=1.0, copy_X=True, fit_intercept=True,\n",
              "                             max_iter=100000, normalize=False, positive=False,\n",
              "                             precompute=False, random_state=None,\n",
              "                             selection='cyclic', tol=0.0001, warm_start=False),\n",
              "             iid='deprecated', n_jobs=None,\n",
              "             param_grid={'alpha': [7, 8, 9, 10, 11]}, pre_dispatch='2*n_jobs',\n",
              "             refit=True, return_train_score=False, scoring='r2', verbose=0)"
            ]
          },
          "metadata": {
            "tags": []
          },
          "execution_count": 171
        }
      ]
    },
    {
      "cell_type": "code",
      "metadata": {
        "id": "iWTKHN0VuwSQ",
        "colab": {
          "base_uri": "https://localhost:8080/"
        },
        "outputId": "744ae38a-d15c-481d-d6b2-9f2757912b97"
      },
      "source": [
        "gs.best_params_"
      ],
      "execution_count": null,
      "outputs": [
        {
          "output_type": "execute_result",
          "data": {
            "text/plain": [
              "{'alpha': 11}"
            ]
          },
          "metadata": {
            "tags": []
          },
          "execution_count": 172
        }
      ]
    },
    {
      "cell_type": "code",
      "metadata": {
        "id": "ZEeT8ZEDuwVN"
      },
      "source": [
        "# alpha was found the best value = 11"
      ],
      "execution_count": null,
      "outputs": []
    },
    {
      "cell_type": "code",
      "metadata": {
        "id": "yCM-092luwot"
      },
      "source": [
        ""
      ],
      "execution_count": null,
      "outputs": []
    },
    {
      "cell_type": "markdown",
      "metadata": {
        "collapsed": true,
        "id": "LOim7BePFreE"
      },
      "source": [
        "<table align=\"left\">\n",
        "    <tr>\n",
        "        <td width=\"6%\">\n",
        "            <img src=\"question_icon.png\">\n",
        "        </td>\n",
        "        <td>\n",
        "            <div align=\"left\", style=\"font-size:120%\">\n",
        "                <font color=\"#21618C\">\n",
        "                    <b>19. Perform regression analysis to study the impact of malnutrition and diseases on life expectancy. Determine the optimal value of alpha and mixing parameter if elastic net regression is used to build the model. Consider the following list of values:<br><br> alpha : [0.1,0.5,1,1.5,2,2.5,3,3.5,4]<br> l1_ratio : [0.5,0.55,0.6,0.65,0.7,0.75,0.8,0.85,0.9] </b>\n",
        "                </font>\n",
        "            </div>\n",
        "        </td>\n",
        "    </tr>\n",
        "</table>"
      ]
    },
    {
      "cell_type": "code",
      "metadata": {
        "id": "i9GmSIvUFreE",
        "colab": {
          "base_uri": "https://localhost:8080/"
        },
        "outputId": "a92e7804-133c-4662-8bb3-2f19e970c388"
      },
      "source": [
        "al = [0.1,0.5,1,1.5,2,2.5,3,3.5,4]\r\n",
        "rr= {'l1_ratio': [0.5,0.55,0.6,0.65,0.7,0.75,0.8,0.85,0.9]}\r\n",
        "\r\n",
        "\r\n",
        "for i in al:\r\n",
        "  ar = ElasticNet(alpha=i, max_iter=100000)\r\n",
        "  gs= GridSearchCV(ar, param_grid= rr, scoring= 'r2', cv=3)\r\n",
        "  gs.fit(xtr, ytr)\r\n",
        "  yu= gs.predict(xts)\r\n",
        "  print(np.sqrt(mean_squared_error(yts, yu)))"
      ],
      "execution_count": null,
      "outputs": [
        {
          "output_type": "stream",
          "text": [
            "4.573074674605815\n",
            "4.5235959350982435\n",
            "4.395363551353943\n",
            "4.269444765555342\n",
            "4.210281695564108\n",
            "4.189551576799217\n",
            "4.19968139690739\n",
            "4.235971126198242\n",
            "4.29377285524309\n"
          ],
          "name": "stdout"
        }
      ]
    },
    {
      "cell_type": "code",
      "metadata": {
        "id": "uNQLxkcYuxNn",
        "colab": {
          "base_uri": "https://localhost:8080/"
        },
        "outputId": "024c95d3-ce2b-48b3-f0d0-14316bd6b22a"
      },
      "source": [
        "gs.best_params_"
      ],
      "execution_count": null,
      "outputs": [
        {
          "output_type": "execute_result",
          "data": {
            "text/plain": [
              "{'l1_ratio': 0.5}"
            ]
          },
          "metadata": {
            "tags": []
          },
          "execution_count": 175
        }
      ]
    },
    {
      "cell_type": "code",
      "metadata": {
        "id": "coBz91O0uxQO"
      },
      "source": [
        "# or we can run a loop\r\n",
        "\r\n",
        "rty = [0.5,0.55,0.6,0.65,0.7,0.75,0.8,0.85,0.9]"
      ],
      "execution_count": null,
      "outputs": []
    },
    {
      "cell_type": "code",
      "metadata": {
        "colab": {
          "base_uri": "https://localhost:8080/"
        },
        "id": "9C6zTObCO7nl",
        "outputId": "472b8752-90dc-4d00-ae98-a37b4d0c1bed"
      },
      "source": [
        "# only testing on test set.\r\n",
        "\r\n",
        "\r\n",
        "for i in al:\r\n",
        "  for j in rty:\r\n",
        "    ar = ElasticNet(alpha=i, l1_ratio=j, max_iter=100000).fit(xtr, ytr)\r\n",
        "    rtu= ar.predict(xts)\r\n",
        "    print('for alpha = {} and L1 ratio= {}, test score is {}'.format(i, j, mean_squared_error(yts, rtu)))"
      ],
      "execution_count": null,
      "outputs": [
        {
          "output_type": "stream",
          "text": [
            "for alpha = 0.1 and L1 ratio= 0.5, test score is 20.4252750991415\n",
            "for alpha = 0.1 and L1 ratio= 0.55, test score is 20.48132021895801\n",
            "for alpha = 0.1 and L1 ratio= 0.6, test score is 20.5481776472229\n",
            "for alpha = 0.1 and L1 ratio= 0.65, test score is 20.629982902596225\n",
            "for alpha = 0.1 and L1 ratio= 0.7, test score is 20.73341816930991\n",
            "for alpha = 0.1 and L1 ratio= 0.75, test score is 20.844220452233113\n",
            "for alpha = 0.1 and L1 ratio= 0.8, test score is 20.86542996379818\n",
            "for alpha = 0.1 and L1 ratio= 0.85, test score is 20.888278571640218\n",
            "for alpha = 0.1 and L1 ratio= 0.9, test score is 20.913011979521077\n",
            "for alpha = 0.5 and L1 ratio= 0.5, test score is 19.951863808135084\n",
            "for alpha = 0.5 and L1 ratio= 0.55, test score is 20.003270089600925\n",
            "for alpha = 0.5 and L1 ratio= 0.6, test score is 20.058121919095303\n",
            "for alpha = 0.5 and L1 ratio= 0.65, test score is 20.116662800539338\n",
            "for alpha = 0.5 and L1 ratio= 0.7, test score is 20.17916394460929\n",
            "for alpha = 0.5 and L1 ratio= 0.75, test score is 20.245928699597595\n",
            "for alpha = 0.5 and L1 ratio= 0.8, test score is 20.310639649587067\n",
            "for alpha = 0.5 and L1 ratio= 0.85, test score is 20.379745893651297\n",
            "for alpha = 0.5 and L1 ratio= 0.9, test score is 20.462920184037355\n",
            "for alpha = 1 and L1 ratio= 0.5, test score is 19.081551103647655\n",
            "for alpha = 1 and L1 ratio= 0.55, test score is 19.166240375431016\n",
            "for alpha = 1 and L1 ratio= 0.6, test score is 19.201912360574603\n",
            "for alpha = 1 and L1 ratio= 0.65, test score is 19.237433827253728\n",
            "for alpha = 1 and L1 ratio= 0.7, test score is 19.276509486272857\n",
            "for alpha = 1 and L1 ratio= 0.75, test score is 19.319220748570746\n",
            "for alpha = 1 and L1 ratio= 0.8, test score is 19.36565208788742\n",
            "for alpha = 1 and L1 ratio= 0.85, test score is 19.415891216063912\n",
            "for alpha = 1 and L1 ratio= 0.9, test score is 19.470029297339565\n",
            "for alpha = 1.5 and L1 ratio= 0.5, test score is 18.22815860612791\n",
            "for alpha = 1.5 and L1 ratio= 0.55, test score is 18.29480017150467\n",
            "for alpha = 1.5 and L1 ratio= 0.6, test score is 18.3586641390389\n",
            "for alpha = 1.5 and L1 ratio= 0.65, test score is 18.428756715898963\n",
            "for alpha = 1.5 and L1 ratio= 0.7, test score is 18.506555518124163\n",
            "for alpha = 1.5 and L1 ratio= 0.75, test score is 18.592286470934923\n",
            "for alpha = 1.5 and L1 ratio= 0.8, test score is 18.686185446501828\n",
            "for alpha = 1.5 and L1 ratio= 0.85, test score is 18.78849880614901\n",
            "for alpha = 1.5 and L1 ratio= 0.9, test score is 18.899484250323347\n",
            "for alpha = 2 and L1 ratio= 0.5, test score is 17.72647195600218\n",
            "for alpha = 2 and L1 ratio= 0.55, test score is 17.836982957561762\n",
            "for alpha = 2 and L1 ratio= 0.6, test score is 17.95133031227129\n",
            "for alpha = 2 and L1 ratio= 0.65, test score is 18.07920604348618\n",
            "for alpha = 2 and L1 ratio= 0.7, test score is 18.221092225534534\n",
            "for alpha = 2 and L1 ratio= 0.75, test score is 18.377494048597192\n",
            "for alpha = 2 and L1 ratio= 0.8, test score is 18.54894223529766\n",
            "for alpha = 2 and L1 ratio= 0.85, test score is 18.73599411038368\n",
            "for alpha = 2 and L1 ratio= 0.9, test score is 18.939235357119856\n",
            "for alpha = 2.5 and L1 ratio= 0.5, test score is 17.552342414660803\n",
            "for alpha = 2.5 and L1 ratio= 0.55, test score is 17.72332656439462\n",
            "for alpha = 2.5 and L1 ratio= 0.6, test score is 17.914637656955566\n",
            "for alpha = 2.5 and L1 ratio= 0.65, test score is 18.128183434092577\n",
            "for alpha = 2.5 and L1 ratio= 0.7, test score is 18.3649353094965\n",
            "for alpha = 2.5 and L1 ratio= 0.75, test score is 18.625922510008728\n",
            "for alpha = 2.5 and L1 ratio= 0.8, test score is 18.912236465287943\n",
            "for alpha = 2.5 and L1 ratio= 0.85, test score is 19.225035319985693\n",
            "for alpha = 2.5 and L1 ratio= 0.9, test score is 19.568031785764546\n",
            "for alpha = 3 and L1 ratio= 0.5, test score is 17.637323835530005\n",
            "for alpha = 3 and L1 ratio= 0.55, test score is 17.90024379012295\n",
            "for alpha = 3 and L1 ratio= 0.6, test score is 18.19570567124433\n",
            "for alpha = 3 and L1 ratio= 0.65, test score is 18.52540317524272\n",
            "for alpha = 3 and L1 ratio= 0.7, test score is 18.89115260861571\n",
            "for alpha = 3 and L1 ratio= 0.75, test score is 19.297795624167023\n",
            "for alpha = 3 and L1 ratio= 0.8, test score is 19.742181938043554\n",
            "for alpha = 3 and L1 ratio= 0.85, test score is 20.121253515075797\n",
            "for alpha = 3 and L1 ratio= 0.9, test score is 20.14446300351303\n",
            "for alpha = 3.5 and L1 ratio= 0.5, test score is 17.943451381985202\n",
            "for alpha = 3.5 and L1 ratio= 0.55, test score is 18.323747274515757\n",
            "for alpha = 3.5 and L1 ratio= 0.6, test score is 18.751213652839585\n",
            "for alpha = 3.5 and L1 ratio= 0.65, test score is 19.232071811720214\n",
            "for alpha = 3.5 and L1 ratio= 0.7, test score is 19.763528578223365\n",
            "for alpha = 3.5 and L1 ratio= 0.75, test score is 20.114521644676493\n",
            "for alpha = 3.5 and L1 ratio= 0.8, test score is 20.132702326680615\n",
            "for alpha = 3.5 and L1 ratio= 0.85, test score is 20.16211506648343\n",
            "for alpha = 3.5 and L1 ratio= 0.9, test score is 20.205279601782557\n",
            "for alpha = 4 and L1 ratio= 0.5, test score is 18.4364853324224\n",
            "for alpha = 4 and L1 ratio= 0.55, test score is 18.958135031783378\n",
            "for alpha = 4 and L1 ratio= 0.6, test score is 19.549396753045897\n",
            "for alpha = 4 and L1 ratio= 0.65, test score is 20.074016128028337\n",
            "for alpha = 4 and L1 ratio= 0.7, test score is 20.159425424845388\n",
            "for alpha = 4 and L1 ratio= 0.75, test score is 20.213911231349734\n",
            "for alpha = 4 and L1 ratio= 0.8, test score is 20.286904037681623\n",
            "for alpha = 4 and L1 ratio= 0.85, test score is 20.38261948187797\n",
            "for alpha = 4 and L1 ratio= 0.9, test score is 20.506378740735492\n"
          ],
          "name": "stdout"
        }
      ]
    },
    {
      "cell_type": "code",
      "metadata": {
        "id": "c26sYUUmO7q_"
      },
      "source": [
        ""
      ],
      "execution_count": null,
      "outputs": []
    },
    {
      "cell_type": "code",
      "metadata": {
        "id": "_6p0Z5WdO7zA"
      },
      "source": [
        "# best hyper parameters are\r\n",
        "\r\n",
        "\r\n",
        "# alpha = 0.1 and L1 ratio= 0.9, test score is 20.913011979521077"
      ],
      "execution_count": null,
      "outputs": []
    },
    {
      "cell_type": "code",
      "metadata": {
        "id": "QWCYhHm9uxS0"
      },
      "source": [
        ""
      ],
      "execution_count": null,
      "outputs": []
    },
    {
      "cell_type": "markdown",
      "metadata": {
        "collapsed": true,
        "id": "3ud4TvANFreE"
      },
      "source": [
        "<table align=\"left\">\n",
        "    <tr>\n",
        "        <td width=\"6%\">\n",
        "            <img src=\"question_icon.png\">\n",
        "        </td>\n",
        "        <td>\n",
        "            <div align=\"left\", style=\"font-size:120%\">\n",
        "                <font color=\"#21618C\">\n",
        "                    <b>20. Build a full model. Select the optimal value for elastic net mixing parameter if the alpha value is 0.8<br><br>Consider the values: l1_ratio : [0.001, 0.005, 0.01, 0.05, 0.1, 0.5, 1]</b>\n",
        "                </font>\n",
        "            </div>\n",
        "        </td>\n",
        "    </tr>\n",
        "</table>"
      ]
    },
    {
      "cell_type": "code",
      "metadata": {
        "scrolled": true,
        "id": "Rvp0T-ERFreF"
      },
      "source": [
        "rr= {'l1_ratio': [0.001, 0.005, 0.01, 0.05, 0.1, 0.5, 1]}"
      ],
      "execution_count": null,
      "outputs": []
    },
    {
      "cell_type": "code",
      "metadata": {
        "id": "-lJen4oUux3B",
        "colab": {
          "base_uri": "https://localhost:8080/"
        },
        "outputId": "fb1ef1ea-2050-4028-a28a-64f3f56b06ef"
      },
      "source": [
        "ar = ElasticNet(alpha=0.8, max_iter=100000)\r\n",
        "gs= GridSearchCV(ar, param_grid= rr, scoring= 'r2', cv=3)\r\n",
        "gs.fit(xtr, ytr)"
      ],
      "execution_count": null,
      "outputs": [
        {
          "output_type": "execute_result",
          "data": {
            "text/plain": [
              "GridSearchCV(cv=3, error_score=nan,\n",
              "             estimator=ElasticNet(alpha=0.8, copy_X=True, fit_intercept=True,\n",
              "                                  l1_ratio=0.5, max_iter=100000,\n",
              "                                  normalize=False, positive=False,\n",
              "                                  precompute=False, random_state=None,\n",
              "                                  selection='cyclic', tol=0.0001,\n",
              "                                  warm_start=False),\n",
              "             iid='deprecated', n_jobs=None,\n",
              "             param_grid={'l1_ratio': [0.001, 0.005, 0.01, 0.05, 0.1, 0.5, 1]},\n",
              "             pre_dispatch='2*n_jobs', refit=True, return_train_score=False,\n",
              "             scoring='r2', verbose=0)"
            ]
          },
          "metadata": {
            "tags": []
          },
          "execution_count": 177
        }
      ]
    },
    {
      "cell_type": "code",
      "metadata": {
        "id": "k3HzZtdSux5_",
        "colab": {
          "base_uri": "https://localhost:8080/"
        },
        "outputId": "ed4c8442-3f00-48d1-e351-fa121f94ade2"
      },
      "source": [
        "gs.best_params_"
      ],
      "execution_count": null,
      "outputs": [
        {
          "output_type": "execute_result",
          "data": {
            "text/plain": [
              "{'l1_ratio': 1}"
            ]
          },
          "metadata": {
            "tags": []
          },
          "execution_count": 178
        }
      ]
    },
    {
      "cell_type": "code",
      "metadata": {
        "id": "OkZ4fwx-ux9X"
      },
      "source": [
        "ar = ElasticNet(alpha=0.1, l1_ratio=1, max_iter=100000).fit(xtr, ytr)"
      ],
      "execution_count": null,
      "outputs": []
    },
    {
      "cell_type": "code",
      "metadata": {
        "id": "1PFFAD9fPpQT"
      },
      "source": [
        "y1= ar.predict(xtr)\r\n",
        "y2 = ar.predict(xts)"
      ],
      "execution_count": null,
      "outputs": []
    },
    {
      "cell_type": "code",
      "metadata": {
        "id": "Ul5lPmk2PpfT"
      },
      "source": [
        ""
      ],
      "execution_count": null,
      "outputs": []
    },
    {
      "cell_type": "code",
      "metadata": {
        "colab": {
          "base_uri": "https://localhost:8080/"
        },
        "id": "zGfN57nsPbB-",
        "outputId": "71169ec0-2430-4c76-e770-253c23b93a26"
      },
      "source": [
        "#training score\r\n",
        "print(r2_score(ytr, y1))"
      ],
      "execution_count": null,
      "outputs": [
        {
          "output_type": "stream",
          "text": [
            "0.8613617395994658\n"
          ],
          "name": "stdout"
        }
      ]
    },
    {
      "cell_type": "code",
      "metadata": {
        "colab": {
          "base_uri": "https://localhost:8080/"
        },
        "id": "JYzrvcdWPbEl",
        "outputId": "be88ace5-09b1-47d3-9780-9a45f0813bad"
      },
      "source": [
        "# test data\r\n",
        "\r\n",
        "print(r2_score(yts, y2))"
      ],
      "execution_count": null,
      "outputs": [
        {
          "output_type": "stream",
          "text": [
            "0.5718096510336483\n"
          ],
          "name": "stdout"
        }
      ]
    },
    {
      "cell_type": "code",
      "metadata": {
        "id": "riWlljODPbH2"
      },
      "source": [
        ""
      ],
      "execution_count": null,
      "outputs": []
    }
  ]
}