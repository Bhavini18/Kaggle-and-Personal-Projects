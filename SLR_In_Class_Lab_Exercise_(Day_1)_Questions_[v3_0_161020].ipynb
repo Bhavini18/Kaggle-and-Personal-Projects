{
  "nbformat": 4,
  "nbformat_minor": 0,
  "metadata": {
    "kernelspec": {
      "display_name": "Python 3",
      "language": "python",
      "name": "python3"
    },
    "language_info": {
      "codemirror_mode": {
        "name": "ipython",
        "version": 3
      },
      "file_extension": ".py",
      "mimetype": "text/x-python",
      "name": "python",
      "nbconvert_exporter": "python",
      "pygments_lexer": "ipython3",
      "version": "3.8.3"
    },
    "colab": {
      "name": "SLR - In-Class - Lab Exercise (Day 1) - Questions  [v3.0 - 161020].ipynb",
      "provenance": [],
      "collapsed_sections": []
    }
  },
  "cells": [
    {
      "cell_type": "markdown",
      "metadata": {
        "id": "htm8MBH9Cpx4"
      },
      "source": [
        "<table align=\"center\" width=100%>\n",
        "    <tr>\n",
        "        <td width=\"15%\">\n",
        "            <img src=\"in_class.png\">\n",
        "        </td>\n",
        "        <td>\n",
        "            <div align=\"center\">\n",
        "                <font color=\"#21618C\" size=8px>\n",
        "                    <b> Inclass - Lab <br>(Day 1)\n",
        "                    </b>\n",
        "                </font>\n",
        "            </div>\n",
        "        </td>\n",
        "    </tr>\n",
        "</table>"
      ]
    },
    {
      "cell_type": "markdown",
      "metadata": {
        "id": "ywwSGe8OCpyI"
      },
      "source": [
        "### About the data set 1 (Life Expectancy data)\n",
        "\n",
        "The dataset contains information about several health and economic factors that contribute to average life expectancy for different countries. <br> Attribute information: \n",
        "\n",
        "**Country:** Name of the country\n",
        "\n",
        "**Status:** Whether the country is Developed or Developing\n",
        "\n",
        "**Adult_Mortality:** Mortality rate for age group 15-60 out of every 1000 individuals of the population\n",
        "\n",
        "**Infant_Deaths:** Number of infant deaths per 1000 population\n",
        "\n",
        "**Hepatitis:** Hepatitis B (HepB) immunization coverage for 1 year olds (Percentage)\n",
        "\n",
        "**Measles:** Number of reported cases for measles per 1000 from population\n",
        "\n",
        "**BMI:** Average Body Mass Index for entire population\n",
        "\n",
        "**Underfive_Deaths:** Number of deaths under 5 years of age per 1000 population\n",
        "\n",
        "**Polio:** Polio (Pol3) immunization coverage for 1 year olds (Percentage)\n",
        "\n",
        "**Diphtheria:** Diphtheria tetanus toxoid and pertussis (DTP3) immunization coverage for 1 year olds (Percentage)\n",
        "\n",
        "**HIV:** Deaths per 1000 live births due to HIV/AIDS (0-4 years)\n",
        "\n",
        "**GDP:** Gross Domestic Product per capita (in USD)\n",
        "\n",
        "**Population:** Population of the country\n",
        "\n",
        "**Malnourished10_19:** Prevalence of malnutrition among children and adolescents for Age 10 to 19 (Percentage)\n",
        "\n",
        "**Malnourished5_9:** Prevalence of malnutrition among children for Age 5 to 9 (Percentage)\n",
        "\n",
        "**Income_Index:** Human Development Index (HDI) in terms of national income per capita (index ranging from 0 to 1)\n",
        "\n",
        "**Schooling:** Number of years of Schooling\n",
        "\n",
        "**Life_Expectancy:** Life Expectancy in age for the country\n",
        "\n",
        "\n",
        "\n"
      ]
    },
    {
      "cell_type": "markdown",
      "metadata": {
        "id": "q8haSnO0CpyK"
      },
      "source": [
        "## Table of Content\n",
        "\n",
        "1. **[Bivariate Regression](#Bivariate)**\n",
        "2. **[Multiple Linear Regression (MLR)](#MLR)**\n",
        "3. **[Inferences about slope](#ins)**\n",
        "4. **[Model Evaluation](#ML_eval)**\n",
        "5. **[Assumptions of Linear Regression](#assum)**\n",
        "6. **[Model Performance](#ml_perf)**"
      ]
    },
    {
      "cell_type": "markdown",
      "metadata": {
        "id": "YYXlxebxCpyL"
      },
      "source": [
        "**Import the required libraries**"
      ]
    },
    {
      "cell_type": "code",
      "metadata": {
        "id": "1mytCn7cCpyM"
      },
      "source": [
        "# type your code here\r\n",
        "\r\n",
        "\r\n",
        "import pandas as pd\r\n",
        "import numpy as np\r\n",
        "import matplotlib.pyplot as plt\r\n",
        "import seaborn as sns\r\n",
        "import warnings\r\n",
        "warnings.filterwarnings('ignore')\r\n",
        "import scipy.stats as stats\r\n"
      ],
      "execution_count": null,
      "outputs": []
    },
    {
      "cell_type": "markdown",
      "metadata": {
        "id": "Y4KthsxZCpyN"
      },
      "source": [
        "#### Load the first dataset and check the first five observations\n",
        "\n",
        "Load the csv file and set the first column as index"
      ]
    },
    {
      "cell_type": "code",
      "metadata": {
        "colab": {
          "base_uri": "https://localhost:8080/",
          "height": 224
        },
        "id": "7epxAGhtCpyO",
        "outputId": "65dc9e53-df7d-4b67-e212-5bbad864a126"
      },
      "source": [
        "# load the csv file\n",
        "df= pd.read_csv('/content/Life_Expectancy.csv')\n",
        "df.head()\n",
        "# type your code here"
      ],
      "execution_count": null,
      "outputs": [
        {
          "output_type": "execute_result",
          "data": {
            "text/html": [
              "<div>\n",
              "<style scoped>\n",
              "    .dataframe tbody tr th:only-of-type {\n",
              "        vertical-align: middle;\n",
              "    }\n",
              "\n",
              "    .dataframe tbody tr th {\n",
              "        vertical-align: top;\n",
              "    }\n",
              "\n",
              "    .dataframe thead th {\n",
              "        text-align: right;\n",
              "    }\n",
              "</style>\n",
              "<table border=\"1\" class=\"dataframe\">\n",
              "  <thead>\n",
              "    <tr style=\"text-align: right;\">\n",
              "      <th></th>\n",
              "      <th>Country</th>\n",
              "      <th>Status</th>\n",
              "      <th>Adult_Mortality</th>\n",
              "      <th>Infant_Deaths</th>\n",
              "      <th>Hepatitis</th>\n",
              "      <th>Measles</th>\n",
              "      <th>BMI</th>\n",
              "      <th>Underfive_Deaths</th>\n",
              "      <th>Polio</th>\n",
              "      <th>Diphtheria</th>\n",
              "      <th>HIV</th>\n",
              "      <th>GDP</th>\n",
              "      <th>Population</th>\n",
              "      <th>Malnourished10_19</th>\n",
              "      <th>Malnourished5_9</th>\n",
              "      <th>Income_Index</th>\n",
              "      <th>Schooling</th>\n",
              "      <th>Expected</th>\n",
              "    </tr>\n",
              "  </thead>\n",
              "  <tbody>\n",
              "    <tr>\n",
              "      <th>0</th>\n",
              "      <td>Afghanistan</td>\n",
              "      <td>Developing</td>\n",
              "      <td>263</td>\n",
              "      <td>62</td>\n",
              "      <td>65</td>\n",
              "      <td>1154</td>\n",
              "      <td>19.1</td>\n",
              "      <td>83</td>\n",
              "      <td>6</td>\n",
              "      <td>65</td>\n",
              "      <td>0.1</td>\n",
              "      <td>584.259210</td>\n",
              "      <td>33736494</td>\n",
              "      <td>17.2</td>\n",
              "      <td>17.3</td>\n",
              "      <td>0.479</td>\n",
              "      <td>10.1</td>\n",
              "      <td>65.0</td>\n",
              "    </tr>\n",
              "    <tr>\n",
              "      <th>1</th>\n",
              "      <td>Albania</td>\n",
              "      <td>Developing</td>\n",
              "      <td>8</td>\n",
              "      <td>0</td>\n",
              "      <td>98</td>\n",
              "      <td>0</td>\n",
              "      <td>57.2</td>\n",
              "      <td>1</td>\n",
              "      <td>98</td>\n",
              "      <td>98</td>\n",
              "      <td>0.1</td>\n",
              "      <td>4575.763787</td>\n",
              "      <td>288914</td>\n",
              "      <td>1.2</td>\n",
              "      <td>1.3</td>\n",
              "      <td>0.761</td>\n",
              "      <td>14.2</td>\n",
              "      <td>77.5</td>\n",
              "    </tr>\n",
              "    <tr>\n",
              "      <th>2</th>\n",
              "      <td>Algeria</td>\n",
              "      <td>Developing</td>\n",
              "      <td>19</td>\n",
              "      <td>21</td>\n",
              "      <td>95</td>\n",
              "      <td>63</td>\n",
              "      <td>59.5</td>\n",
              "      <td>24</td>\n",
              "      <td>95</td>\n",
              "      <td>95</td>\n",
              "      <td>0.1</td>\n",
              "      <td>4132.762920</td>\n",
              "      <td>39871528</td>\n",
              "      <td>6.0</td>\n",
              "      <td>5.8</td>\n",
              "      <td>0.743</td>\n",
              "      <td>14.4</td>\n",
              "      <td>75.6</td>\n",
              "    </tr>\n",
              "    <tr>\n",
              "      <th>3</th>\n",
              "      <td>Angola</td>\n",
              "      <td>Developing</td>\n",
              "      <td>335</td>\n",
              "      <td>66</td>\n",
              "      <td>64</td>\n",
              "      <td>118</td>\n",
              "      <td>23.3</td>\n",
              "      <td>98</td>\n",
              "      <td>7</td>\n",
              "      <td>64</td>\n",
              "      <td>1.9</td>\n",
              "      <td>3695.793748</td>\n",
              "      <td>2785935</td>\n",
              "      <td>8.3</td>\n",
              "      <td>8.2</td>\n",
              "      <td>0.531</td>\n",
              "      <td>11.4</td>\n",
              "      <td>52.4</td>\n",
              "    </tr>\n",
              "    <tr>\n",
              "      <th>4</th>\n",
              "      <td>Argentina</td>\n",
              "      <td>Developing</td>\n",
              "      <td>116</td>\n",
              "      <td>8</td>\n",
              "      <td>94</td>\n",
              "      <td>0</td>\n",
              "      <td>62.8</td>\n",
              "      <td>9</td>\n",
              "      <td>93</td>\n",
              "      <td>94</td>\n",
              "      <td>0.1</td>\n",
              "      <td>13467.123600</td>\n",
              "      <td>43417765</td>\n",
              "      <td>1.0</td>\n",
              "      <td>0.9</td>\n",
              "      <td>0.826</td>\n",
              "      <td>17.3</td>\n",
              "      <td>76.3</td>\n",
              "    </tr>\n",
              "  </tbody>\n",
              "</table>\n",
              "</div>"
            ],
            "text/plain": [
              "       Country      Status  Adult_Mortality  ...  Income_Index  Schooling  Expected\n",
              "0  Afghanistan  Developing              263  ...         0.479       10.1      65.0\n",
              "1      Albania  Developing                8  ...         0.761       14.2      77.5\n",
              "2      Algeria  Developing               19  ...         0.743       14.4      75.6\n",
              "3       Angola  Developing              335  ...         0.531       11.4      52.4\n",
              "4    Argentina  Developing              116  ...         0.826       17.3      76.3\n",
              "\n",
              "[5 rows x 18 columns]"
            ]
          },
          "metadata": {
            "tags": []
          },
          "execution_count": 2
        }
      ]
    },
    {
      "cell_type": "code",
      "metadata": {
        "colab": {
          "base_uri": "https://localhost:8080/"
        },
        "id": "CgCZEbFGmk6c",
        "outputId": "d67bf7e6-325b-4f8f-c3ea-af8dc740c67f"
      },
      "source": [
        "cols=list(df.columns)\r\n",
        "df.columns=[col.strip() for col in cols]\r\n",
        "df=df.set_index('Country')\r\n",
        "df.info()\r\n",
        "\r\n"
      ],
      "execution_count": null,
      "outputs": [
        {
          "output_type": "stream",
          "text": [
            "<class 'pandas.core.frame.DataFrame'>\n",
            "Index: 124 entries, Afghanistan to Zimbabwe\n",
            "Data columns (total 17 columns):\n",
            " #   Column             Non-Null Count  Dtype  \n",
            "---  ------             --------------  -----  \n",
            " 0   Status             124 non-null    object \n",
            " 1   Adult_Mortality    124 non-null    int64  \n",
            " 2   Infant_Deaths      124 non-null    int64  \n",
            " 3   Hepatitis          124 non-null    int64  \n",
            " 4   Measles            124 non-null    int64  \n",
            " 5   BMI                124 non-null    float64\n",
            " 6   Underfive_Deaths   124 non-null    int64  \n",
            " 7   Polio              124 non-null    int64  \n",
            " 8   Diphtheria         124 non-null    int64  \n",
            " 9   HIV                124 non-null    float64\n",
            " 10  GDP                124 non-null    float64\n",
            " 11  Population         124 non-null    int64  \n",
            " 12  Malnourished10_19  124 non-null    float64\n",
            " 13  Malnourished5_9    124 non-null    float64\n",
            " 14  Income_Index       124 non-null    float64\n",
            " 15  Schooling          124 non-null    float64\n",
            " 16  Expected           124 non-null    float64\n",
            "dtypes: float64(8), int64(8), object(1)\n",
            "memory usage: 17.4+ KB\n"
          ],
          "name": "stdout"
        }
      ]
    },
    {
      "cell_type": "code",
      "metadata": {
        "id": "F8UGcAwTrXE0"
      },
      "source": [
        "df=pd.get_dummies(df,columns=['Status'], drop_first=True)"
      ],
      "execution_count": null,
      "outputs": []
    },
    {
      "cell_type": "markdown",
      "metadata": {
        "id": "OtoNY26-CpyP"
      },
      "source": [
        "### Let's begin with some hands-on practice exercises"
      ]
    },
    {
      "cell_type": "markdown",
      "metadata": {
        "id": "Bm6N9vqQCpyQ"
      },
      "source": [
        "<a id=\"Bivariate\"> </a>\n",
        "## 1. Bivariate Regression"
      ]
    },
    {
      "cell_type": "markdown",
      "metadata": {
        "id": "2u-3ONs3CpyQ"
      },
      "source": [
        "## We shall use the life expectancy dataset"
      ]
    },
    {
      "cell_type": "markdown",
      "metadata": {
        "collapsed": true,
        "id": "IlSDd9wPCpyR"
      },
      "source": [
        "<table align=\"left\">\n",
        "    <tr>\n",
        "        <td width=\"6%\">\n",
        "            <img src=\"question_icon.png\">\n",
        "        </td>\n",
        "        <td>\n",
        "            <div align=\"left\", style=\"font-size:120%\">\n",
        "                <font color=\"#21618C\">\n",
        "                    <b>1. How do we analyze the impact of adult mortality rate on average life expectancy of a country?</b>\n",
        "                </font>\n",
        "            </div>\n",
        "        </td>\n",
        "    </tr>\n",
        "</table>"
      ]
    },
    {
      "cell_type": "code",
      "metadata": {
        "id": "NvBCSKDRCpyS",
        "colab": {
          "base_uri": "https://localhost:8080/",
          "height": 279
        },
        "outputId": "4bae0ebc-eaaa-4d3f-a049-769777656853"
      },
      "source": [
        "# type your code here------------------0\r\n",
        "sns.set_style('whitegrid')\r\n",
        "plt.scatter('Adult_Mortality' ,'Expected', data=df)\r\n",
        "plt.xlabel('Adult Mortality')\r\n",
        "plt.ylabel('avg life expectancy')\r\n",
        "plt.show()\r\n"
      ],
      "execution_count": null,
      "outputs": [
        {
          "output_type": "display_data",
          "data": {
            "image/png": "[encoded data removed]",
            "text/plain": [
              "<Figure size 432x288 with 1 Axes>"
            ]
          },
          "metadata": {
            "tags": []
          }
        }
      ]
    },
    {
      "cell_type": "markdown",
      "metadata": {
        "id": "jx55EMt6nl88"
      },
      "source": [
        "the scatter plot shows that there is a broad trend of decreasing life expectancy with higher adult mortality"
      ]
    },
    {
      "cell_type": "markdown",
      "metadata": {
        "collapsed": true,
        "id": "FGzToVefCpyT"
      },
      "source": [
        "<table align=\"left\">\n",
        "    <tr>\n",
        "        <td width=\"6%\">\n",
        "            <img src=\"question_icon.png\">\n",
        "        </td>\n",
        "        <td>\n",
        "            <div align=\"left\", style=\"font-size:120%\">\n",
        "                <font color=\"#21618C\">\n",
        "                    <b>2. A regression model is built to check the impact of Human Development Index (Income) on the life expectancy of a nation. What is the expected error value?</b>\n",
        "                </font>\n",
        "            </div>\n",
        "        </td>\n",
        "    </tr>\n",
        "</table>"
      ]
    },
    {
      "cell_type": "code",
      "metadata": {
        "id": "Y5VuVKQ0CpyU"
      },
      "source": [
        "# type your code here\r\n",
        "y=df['Expected']\r\n",
        "x=df['Income_Index']\r\n"
      ],
      "execution_count": null,
      "outputs": []
    },
    {
      "cell_type": "code",
      "metadata": {
        "id": "2VRz4yUun_0r"
      },
      "source": [
        "import statsmodels.api as sm\r\n",
        "xc=sm.add_constant(x)\r\n",
        "model=sm.OLS(y,xc).fit()"
      ],
      "execution_count": null,
      "outputs": []
    },
    {
      "cell_type": "code",
      "metadata": {
        "colab": {
          "base_uri": "https://localhost:8080/",
          "height": 444
        },
        "id": "x8KYZNZuoOUL",
        "outputId": "e618d1b4-ed74-4509-93b9-e950cb965ce5"
      },
      "source": [
        "model.summary()"
      ],
      "execution_count": null,
      "outputs": [
        {
          "output_type": "execute_result",
          "data": {
            "text/html": [
              "<table class=\"simpletable\">\n",
              "<caption>OLS Regression Results</caption>\n",
              "<tr>\n",
              "  <th>Dep. Variable:</th>        <td>Expected</td>     <th>  R-squared:         </th> <td>   0.711</td>\n",
              "</tr>\n",
              "<tr>\n",
              "  <th>Model:</th>                   <td>OLS</td>       <th>  Adj. R-squared:    </th> <td>   0.709</td>\n",
              "</tr>\n",
              "<tr>\n",
              "  <th>Method:</th>             <td>Least Squares</td>  <th>  F-statistic:       </th> <td>   300.0</td>\n",
              "</tr>\n",
              "<tr>\n",
              "  <th>Date:</th>             <td>Thu, 28 Jan 2021</td> <th>  Prob (F-statistic):</th> <td>1.13e-34</td>\n",
              "</tr>\n",
              "<tr>\n",
              "  <th>Time:</th>                 <td>10:54:09</td>     <th>  Log-Likelihood:    </th> <td> -363.40</td>\n",
              "</tr>\n",
              "<tr>\n",
              "  <th>No. Observations:</th>      <td>   124</td>      <th>  AIC:               </th> <td>   730.8</td>\n",
              "</tr>\n",
              "<tr>\n",
              "  <th>Df Residuals:</th>          <td>   122</td>      <th>  BIC:               </th> <td>   736.4</td>\n",
              "</tr>\n",
              "<tr>\n",
              "  <th>Df Model:</th>              <td>     1</td>      <th>                     </th>     <td> </td>   \n",
              "</tr>\n",
              "<tr>\n",
              "  <th>Covariance Type:</th>      <td>nonrobust</td>    <th>                     </th>     <td> </td>   \n",
              "</tr>\n",
              "</table>\n",
              "<table class=\"simpletable\">\n",
              "<tr>\n",
              "        <td></td>          <th>coef</th>     <th>std err</th>      <th>t</th>      <th>P>|t|</th>  <th>[0.025</th>    <th>0.975]</th>  \n",
              "</tr>\n",
              "<tr>\n",
              "  <th>const</th>        <td>   41.9191</td> <td>    1.741</td> <td>   24.081</td> <td> 0.000</td> <td>   38.473</td> <td>   45.365</td>\n",
              "</tr>\n",
              "<tr>\n",
              "  <th>Income_Index</th> <td>   42.4243</td> <td>    2.449</td> <td>   17.322</td> <td> 0.000</td> <td>   37.576</td> <td>   47.273</td>\n",
              "</tr>\n",
              "</table>\n",
              "<table class=\"simpletable\">\n",
              "<tr>\n",
              "  <th>Omnibus:</th>       <td>11.870</td> <th>  Durbin-Watson:     </th> <td>   1.355</td>\n",
              "</tr>\n",
              "<tr>\n",
              "  <th>Prob(Omnibus):</th> <td> 0.003</td> <th>  Jarque-Bera (JB):  </th> <td>  26.475</td>\n",
              "</tr>\n",
              "<tr>\n",
              "  <th>Skew:</th>          <td> 0.280</td> <th>  Prob(JB):          </th> <td>1.78e-06</td>\n",
              "</tr>\n",
              "<tr>\n",
              "  <th>Kurtosis:</th>      <td> 5.193</td> <th>  Cond. No.          </th> <td>    8.87</td>\n",
              "</tr>\n",
              "</table><br/><br/>Warnings:<br/>[1] Standard Errors assume that the covariance matrix of the errors is correctly specified."
            ],
            "text/plain": [
              "<class 'statsmodels.iolib.summary.Summary'>\n",
              "\"\"\"\n",
              "                            OLS Regression Results                            \n",
              "==============================================================================\n",
              "Dep. Variable:               Expected   R-squared:                       0.711\n",
              "Model:                            OLS   Adj. R-squared:                  0.709\n",
              "Method:                 Least Squares   F-statistic:                     300.0\n",
              "Date:                Thu, 28 Jan 2021   Prob (F-statistic):           1.13e-34\n",
              "Time:                        10:54:09   Log-Likelihood:                -363.40\n",
              "No. Observations:                 124   AIC:                             730.8\n",
              "Df Residuals:                     122   BIC:                             736.4\n",
              "Df Model:                           1                                         \n",
              "Covariance Type:            nonrobust                                         \n",
              "================================================================================\n",
              "                   coef    std err          t      P>|t|      [0.025      0.975]\n",
              "--------------------------------------------------------------------------------\n",
              "const           41.9191      1.741     24.081      0.000      38.473      45.365\n",
              "Income_Index    42.4243      2.449     17.322      0.000      37.576      47.273\n",
              "==============================================================================\n",
              "Omnibus:                       11.870   Durbin-Watson:                   1.355\n",
              "Prob(Omnibus):                  0.003   Jarque-Bera (JB):               26.475\n",
              "Skew:                           0.280   Prob(JB):                     1.78e-06\n",
              "Kurtosis:                       5.193   Cond. No.                         8.87\n",
              "==============================================================================\n",
              "\n",
              "Warnings:\n",
              "[1] Standard Errors assume that the covariance matrix of the errors is correctly specified.\n",
              "\"\"\""
            ]
          },
          "metadata": {
            "tags": []
          },
          "execution_count": 11
        }
      ]
    },
    {
      "cell_type": "code",
      "metadata": {
        "colab": {
          "base_uri": "https://localhost:8080/"
        },
        "id": "TmaUeNwIoQmH",
        "outputId": "2e33b839-45b8-42e9-f64b-cb6614924cea"
      },
      "source": [
        "residuals=model.resid\r\n",
        "print('Expected error value', residuals.mean())"
      ],
      "execution_count": null,
      "outputs": [
        {
          "output_type": "stream",
          "text": [
            "Expected error value 2.5957730588655274e-14\n"
          ],
          "name": "stdout"
        }
      ]
    },
    {
      "cell_type": "markdown",
      "metadata": {
        "id": "U_nLYfxCCpyU"
      },
      "source": [
        "<a id=\"MLR\"> </a>\n",
        "## 2. Multiple Linear Regression(MLR)"
      ]
    },
    {
      "cell_type": "markdown",
      "metadata": {
        "collapsed": true,
        "id": "bt0j6YRbCpyV"
      },
      "source": [
        "<table align=\"left\">\n",
        "    <tr>\n",
        "        <td width=\"6%\">\n",
        "            <img src=\"question_icon.png\">\n",
        "        </td>\n",
        "        <td>\n",
        "            <div align=\"left\", style=\"font-size:120%\">\n",
        "                <font color=\"#21618C\">\n",
        "                    <b>3. Analyze the impact of immunization on life expectancy. </b>\n",
        "                </font>\n",
        "            </div>\n",
        "        </td>\n",
        "    </tr>\n",
        "</table>"
      ]
    },
    {
      "cell_type": "code",
      "metadata": {
        "id": "2MXZaxVcCpyV"
      },
      "source": [
        "# type your code here\r\n",
        "\r\n",
        "y=df['Expected']\r\n",
        "x=df[['Polio','Hepatitis','Diphtheria']]\r\n"
      ],
      "execution_count": null,
      "outputs": []
    },
    {
      "cell_type": "code",
      "metadata": {
        "colab": {
          "base_uri": "https://localhost:8080/",
          "height": 486
        },
        "id": "lVb0X8SwpnMs",
        "outputId": "39e8c3c7-f113-4302-8523-617997e857df"
      },
      "source": [
        "xc=sm.add_constant(x)\r\n",
        "model=sm.OLS(y,xc).fit()\r\n",
        "model.summary()"
      ],
      "execution_count": null,
      "outputs": [
        {
          "output_type": "execute_result",
          "data": {
            "text/html": [
              "<table class=\"simpletable\">\n",
              "<caption>OLS Regression Results</caption>\n",
              "<tr>\n",
              "  <th>Dep. Variable:</th>        <td>Expected</td>     <th>  R-squared:         </th> <td>   0.138</td>\n",
              "</tr>\n",
              "<tr>\n",
              "  <th>Model:</th>                   <td>OLS</td>       <th>  Adj. R-squared:    </th> <td>   0.116</td>\n",
              "</tr>\n",
              "<tr>\n",
              "  <th>Method:</th>             <td>Least Squares</td>  <th>  F-statistic:       </th> <td>   6.395</td>\n",
              "</tr>\n",
              "<tr>\n",
              "  <th>Date:</th>             <td>Thu, 28 Jan 2021</td> <th>  Prob (F-statistic):</th> <td>0.000468</td>\n",
              "</tr>\n",
              "<tr>\n",
              "  <th>Time:</th>                 <td>11:01:58</td>     <th>  Log-Likelihood:    </th> <td> -431.15</td>\n",
              "</tr>\n",
              "<tr>\n",
              "  <th>No. Observations:</th>      <td>   124</td>      <th>  AIC:               </th> <td>   870.3</td>\n",
              "</tr>\n",
              "<tr>\n",
              "  <th>Df Residuals:</th>          <td>   120</td>      <th>  BIC:               </th> <td>   881.6</td>\n",
              "</tr>\n",
              "<tr>\n",
              "  <th>Df Model:</th>              <td>     3</td>      <th>                     </th>     <td> </td>   \n",
              "</tr>\n",
              "<tr>\n",
              "  <th>Covariance Type:</th>      <td>nonrobust</td>    <th>                     </th>     <td> </td>   \n",
              "</tr>\n",
              "</table>\n",
              "<table class=\"simpletable\">\n",
              "<tr>\n",
              "       <td></td>         <th>coef</th>     <th>std err</th>      <th>t</th>      <th>P>|t|</th>  <th>[0.025</th>    <th>0.975]</th>  \n",
              "</tr>\n",
              "<tr>\n",
              "  <th>const</th>      <td>   57.9881</td> <td>    3.524</td> <td>   16.453</td> <td> 0.000</td> <td>   51.010</td> <td>   64.966</td>\n",
              "</tr>\n",
              "<tr>\n",
              "  <th>Polio</th>      <td>    0.0910</td> <td>    0.043</td> <td>    2.099</td> <td> 0.038</td> <td>    0.005</td> <td>    0.177</td>\n",
              "</tr>\n",
              "<tr>\n",
              "  <th>Hepatitis</th>  <td>   -0.1037</td> <td>    0.068</td> <td>   -1.528</td> <td> 0.129</td> <td>   -0.238</td> <td>    0.031</td>\n",
              "</tr>\n",
              "<tr>\n",
              "  <th>Diphtheria</th> <td>    0.1613</td> <td>    0.082</td> <td>    1.969</td> <td> 0.051</td> <td>   -0.001</td> <td>    0.323</td>\n",
              "</tr>\n",
              "</table>\n",
              "<table class=\"simpletable\">\n",
              "<tr>\n",
              "  <th>Omnibus:</th>       <td> 4.513</td> <th>  Durbin-Watson:     </th> <td>   1.000</td>\n",
              "</tr>\n",
              "<tr>\n",
              "  <th>Prob(Omnibus):</th> <td> 0.105</td> <th>  Jarque-Bera (JB):  </th> <td>   4.279</td>\n",
              "</tr>\n",
              "<tr>\n",
              "  <th>Skew:</th>          <td>-0.396</td> <th>  Prob(JB):          </th> <td>   0.118</td>\n",
              "</tr>\n",
              "<tr>\n",
              "  <th>Kurtosis:</th>      <td> 2.550</td> <th>  Cond. No.          </th> <td>    755.</td>\n",
              "</tr>\n",
              "</table><br/><br/>Warnings:<br/>[1] Standard Errors assume that the covariance matrix of the errors is correctly specified."
            ],
            "text/plain": [
              "<class 'statsmodels.iolib.summary.Summary'>\n",
              "\"\"\"\n",
              "                            OLS Regression Results                            \n",
              "==============================================================================\n",
              "Dep. Variable:               Expected   R-squared:                       0.138\n",
              "Model:                            OLS   Adj. R-squared:                  0.116\n",
              "Method:                 Least Squares   F-statistic:                     6.395\n",
              "Date:                Thu, 28 Jan 2021   Prob (F-statistic):           0.000468\n",
              "Time:                        11:01:58   Log-Likelihood:                -431.15\n",
              "No. Observations:                 124   AIC:                             870.3\n",
              "Df Residuals:                     120   BIC:                             881.6\n",
              "Df Model:                           3                                         \n",
              "Covariance Type:            nonrobust                                         \n",
              "==============================================================================\n",
              "                 coef    std err          t      P>|t|      [0.025      0.975]\n",
              "------------------------------------------------------------------------------\n",
              "const         57.9881      3.524     16.453      0.000      51.010      64.966\n",
              "Polio          0.0910      0.043      2.099      0.038       0.005       0.177\n",
              "Hepatitis     -0.1037      0.068     -1.528      0.129      -0.238       0.031\n",
              "Diphtheria     0.1613      0.082      1.969      0.051      -0.001       0.323\n",
              "==============================================================================\n",
              "Omnibus:                        4.513   Durbin-Watson:                   1.000\n",
              "Prob(Omnibus):                  0.105   Jarque-Bera (JB):                4.279\n",
              "Skew:                          -0.396   Prob(JB):                        0.118\n",
              "Kurtosis:                       2.550   Cond. No.                         755.\n",
              "==============================================================================\n",
              "\n",
              "Warnings:\n",
              "[1] Standard Errors assume that the covariance matrix of the errors is correctly specified.\n",
              "\"\"\""
            ]
          },
          "metadata": {
            "tags": []
          },
          "execution_count": 18
        }
      ]
    },
    {
      "cell_type": "markdown",
      "metadata": {
        "id": "s4SVIJ46qD1o"
      },
      "source": [
        "The model results show that level of immunization of polio and diphtheria impact the life expectancy positively.\r\n",
        "However hepatitis immunization level is not impacting life expectancy."
      ]
    },
    {
      "cell_type": "markdown",
      "metadata": {
        "collapsed": true,
        "id": "7s4SBz3YCpyW"
      },
      "source": [
        "<table align=\"left\">\n",
        "    <tr>\n",
        "        <td width=\"6%\">\n",
        "            <img src=\"question_icon.png\">\n",
        "        </td>\n",
        "        <td>\n",
        "            <div align=\"left\", style=\"font-size:120%\">\n",
        "                <font color=\"#21618C\">\n",
        "                    <b>4. If the information that whether the country is a developed or a developing country is included, does it alter the impact of immunzation on life expectancy ?</b>\n",
        "                </font>\n",
        "            </div>\n",
        "        </td>\n",
        "    </tr>\n",
        "</table>"
      ]
    },
    {
      "cell_type": "code",
      "metadata": {
        "id": "gyB679xQCpyX",
        "colab": {
          "base_uri": "https://localhost:8080/",
          "height": 465
        },
        "outputId": "8ba60cec-ba65-4829-e9d9-7a148b981a2f"
      },
      "source": [
        "# type your code here\r\n",
        "\r\n",
        "y=df['Expected']\r\n",
        "x=df[['Polio','Status_Developing']]\r\n",
        "\r\n",
        "xc=sm.add_constant(x)\r\n",
        "model=sm.OLS(y,xc).fit()\r\n",
        "model.summary()"
      ],
      "execution_count": null,
      "outputs": [
        {
          "output_type": "execute_result",
          "data": {
            "text/html": [
              "<table class=\"simpletable\">\n",
              "<caption>OLS Regression Results</caption>\n",
              "<tr>\n",
              "  <th>Dep. Variable:</th>        <td>Expected</td>     <th>  R-squared:         </th> <td>   0.316</td>\n",
              "</tr>\n",
              "<tr>\n",
              "  <th>Model:</th>                   <td>OLS</td>       <th>  Adj. R-squared:    </th> <td>   0.304</td>\n",
              "</tr>\n",
              "<tr>\n",
              "  <th>Method:</th>             <td>Least Squares</td>  <th>  F-statistic:       </th> <td>   27.90</td>\n",
              "</tr>\n",
              "<tr>\n",
              "  <th>Date:</th>             <td>Thu, 28 Jan 2021</td> <th>  Prob (F-statistic):</th> <td>1.09e-10</td>\n",
              "</tr>\n",
              "<tr>\n",
              "  <th>Time:</th>                 <td>11:09:04</td>     <th>  Log-Likelihood:    </th> <td> -416.83</td>\n",
              "</tr>\n",
              "<tr>\n",
              "  <th>No. Observations:</th>      <td>   124</td>      <th>  AIC:               </th> <td>   839.7</td>\n",
              "</tr>\n",
              "<tr>\n",
              "  <th>Df Residuals:</th>          <td>   121</td>      <th>  BIC:               </th> <td>   848.1</td>\n",
              "</tr>\n",
              "<tr>\n",
              "  <th>Df Model:</th>              <td>     2</td>      <th>                     </th>     <td> </td>   \n",
              "</tr>\n",
              "<tr>\n",
              "  <th>Covariance Type:</th>      <td>nonrobust</td>    <th>                     </th>     <td> </td>   \n",
              "</tr>\n",
              "</table>\n",
              "<table class=\"simpletable\">\n",
              "<tr>\n",
              "          <td></td>             <th>coef</th>     <th>std err</th>      <th>t</th>      <th>P>|t|</th>  <th>[0.025</th>    <th>0.975]</th>  \n",
              "</tr>\n",
              "<tr>\n",
              "  <th>const</th>             <td>   71.6009</td> <td>    3.256</td> <td>   21.988</td> <td> 0.000</td> <td>   65.154</td> <td>   78.048</td>\n",
              "</tr>\n",
              "<tr>\n",
              "  <th>Polio</th>             <td>    0.1008</td> <td>    0.030</td> <td>    3.382</td> <td> 0.001</td> <td>    0.042</td> <td>    0.160</td>\n",
              "</tr>\n",
              "<tr>\n",
              "  <th>Status_Developing</th> <td>  -10.7587</td> <td>    1.784</td> <td>   -6.030</td> <td> 0.000</td> <td>  -14.291</td> <td>   -7.227</td>\n",
              "</tr>\n",
              "</table>\n",
              "<table class=\"simpletable\">\n",
              "<tr>\n",
              "  <th>Omnibus:</th>       <td> 3.123</td> <th>  Durbin-Watson:     </th> <td>   1.235</td>\n",
              "</tr>\n",
              "<tr>\n",
              "  <th>Prob(Omnibus):</th> <td> 0.210</td> <th>  Jarque-Bera (JB):  </th> <td>   2.859</td>\n",
              "</tr>\n",
              "<tr>\n",
              "  <th>Skew:</th>          <td>-0.372</td> <th>  Prob(JB):          </th> <td>   0.239</td>\n",
              "</tr>\n",
              "<tr>\n",
              "  <th>Kurtosis:</th>      <td> 3.024</td> <th>  Cond. No.          </th> <td>    487.</td>\n",
              "</tr>\n",
              "</table><br/><br/>Warnings:<br/>[1] Standard Errors assume that the covariance matrix of the errors is correctly specified."
            ],
            "text/plain": [
              "<class 'statsmodels.iolib.summary.Summary'>\n",
              "\"\"\"\n",
              "                            OLS Regression Results                            \n",
              "==============================================================================\n",
              "Dep. Variable:               Expected   R-squared:                       0.316\n",
              "Model:                            OLS   Adj. R-squared:                  0.304\n",
              "Method:                 Least Squares   F-statistic:                     27.90\n",
              "Date:                Thu, 28 Jan 2021   Prob (F-statistic):           1.09e-10\n",
              "Time:                        11:09:04   Log-Likelihood:                -416.83\n",
              "No. Observations:                 124   AIC:                             839.7\n",
              "Df Residuals:                     121   BIC:                             848.1\n",
              "Df Model:                           2                                         \n",
              "Covariance Type:            nonrobust                                         \n",
              "=====================================================================================\n",
              "                        coef    std err          t      P>|t|      [0.025      0.975]\n",
              "-------------------------------------------------------------------------------------\n",
              "const                71.6009      3.256     21.988      0.000      65.154      78.048\n",
              "Polio                 0.1008      0.030      3.382      0.001       0.042       0.160\n",
              "Status_Developing   -10.7587      1.784     -6.030      0.000     -14.291      -7.227\n",
              "==============================================================================\n",
              "Omnibus:                        3.123   Durbin-Watson:                   1.235\n",
              "Prob(Omnibus):                  0.210   Jarque-Bera (JB):                2.859\n",
              "Skew:                          -0.372   Prob(JB):                        0.239\n",
              "Kurtosis:                       3.024   Cond. No.                         487.\n",
              "==============================================================================\n",
              "\n",
              "Warnings:\n",
              "[1] Standard Errors assume that the covariance matrix of the errors is correctly specified.\n",
              "\"\"\""
            ]
          },
          "metadata": {
            "tags": []
          },
          "execution_count": 26
        }
      ]
    },
    {
      "cell_type": "markdown",
      "metadata": {
        "id": "TGCCUQY4r3jV"
      },
      "source": [
        "When the information on developing is added we notice only Polio is significant. Hence this information does impact life expectancy. Moreover the model performance has improved as noticed in the improvement of r-squared.\r\n",
        "\r\n",
        "\r\n",
        "Status developing -  On an average life expectancy of developing country is less by 10.75, comapared to develpoed country.\r\n",
        "Polio -  As Coverage of polio immunization increased by 1% life expectancy increased by 0.10.\r\n"
      ]
    },
    {
      "cell_type": "markdown",
      "metadata": {
        "id": "cENKDAgACpyX"
      },
      "source": [
        "<a id=\"ins\"> </a>\n",
        "## 3. Inferences about slope"
      ]
    },
    {
      "cell_type": "markdown",
      "metadata": {
        "collapsed": true,
        "id": "LsHvdPa9CpyY"
      },
      "source": [
        "<table align=\"left\">\n",
        "    <tr>\n",
        "        <td width=\"6%\">\n",
        "            <img src=\"question_icon.png\">\n",
        "        </td>\n",
        "        <td>\n",
        "            <div align=\"left\", style=\"font-size:120%\">\n",
        "                <font color=\"#21618C\">\n",
        "                    <b>5. Find the significant variables in the full model when all the variables are considered for prediction of life expectancy.</b>\n",
        "                </font>\n",
        "            </div>\n",
        "        </td>\n",
        "    </tr>\n",
        "</table>"
      ]
    },
    {
      "cell_type": "code",
      "metadata": {
        "id": "ocy1hu0tCpyY"
      },
      "source": [
        "# type your code here\r\n",
        "\r\n",
        "y= df['Expected']\r\n",
        "x=df.drop('Expected', axis=1)\r\n"
      ],
      "execution_count": null,
      "outputs": []
    },
    {
      "cell_type": "code",
      "metadata": {
        "colab": {
          "base_uri": "https://localhost:8080/",
          "height": 793
        },
        "id": "VUMQud9kt104",
        "outputId": "be40ae5d-04c8-4aac-91a7-5f37c94a7d85"
      },
      "source": [
        "\r\n",
        "xc=sm.add_constant(x)\r\n",
        "model=sm.OLS(y,xc).fit()\r\n",
        "model.summary()"
      ],
      "execution_count": null,
      "outputs": [
        {
          "output_type": "execute_result",
          "data": {
            "text/html": [
              "<table class=\"simpletable\">\n",
              "<caption>OLS Regression Results</caption>\n",
              "<tr>\n",
              "  <th>Dep. Variable:</th>        <td>Expected</td>     <th>  R-squared:         </th> <td>   0.848</td>\n",
              "</tr>\n",
              "<tr>\n",
              "  <th>Model:</th>                   <td>OLS</td>       <th>  Adj. R-squared:    </th> <td>   0.826</td>\n",
              "</tr>\n",
              "<tr>\n",
              "  <th>Method:</th>             <td>Least Squares</td>  <th>  F-statistic:       </th> <td>   37.43</td>\n",
              "</tr>\n",
              "<tr>\n",
              "  <th>Date:</th>             <td>Thu, 28 Jan 2021</td> <th>  Prob (F-statistic):</th> <td>1.94e-36</td>\n",
              "</tr>\n",
              "<tr>\n",
              "  <th>Time:</th>                 <td>11:18:49</td>     <th>  Log-Likelihood:    </th> <td> -323.38</td>\n",
              "</tr>\n",
              "<tr>\n",
              "  <th>No. Observations:</th>      <td>   124</td>      <th>  AIC:               </th> <td>   680.8</td>\n",
              "</tr>\n",
              "<tr>\n",
              "  <th>Df Residuals:</th>          <td>   107</td>      <th>  BIC:               </th> <td>   728.7</td>\n",
              "</tr>\n",
              "<tr>\n",
              "  <th>Df Model:</th>              <td>    16</td>      <th>                     </th>     <td> </td>   \n",
              "</tr>\n",
              "<tr>\n",
              "  <th>Covariance Type:</th>      <td>nonrobust</td>    <th>                     </th>     <td> </td>   \n",
              "</tr>\n",
              "</table>\n",
              "<table class=\"simpletable\">\n",
              "<tr>\n",
              "          <td></td>             <th>coef</th>     <th>std err</th>      <th>t</th>      <th>P>|t|</th>  <th>[0.025</th>    <th>0.975]</th>  \n",
              "</tr>\n",
              "<tr>\n",
              "  <th>const</th>             <td>   60.0678</td> <td>    3.747</td> <td>   16.030</td> <td> 0.000</td> <td>   52.639</td> <td>   67.496</td>\n",
              "</tr>\n",
              "<tr>\n",
              "  <th>Adult_Mortality</th>   <td>   -0.0231</td> <td>    0.004</td> <td>   -5.685</td> <td> 0.000</td> <td>   -0.031</td> <td>   -0.015</td>\n",
              "</tr>\n",
              "<tr>\n",
              "  <th>Infant_Deaths</th>     <td>    0.0556</td> <td>    0.037</td> <td>    1.507</td> <td> 0.135</td> <td>   -0.018</td> <td>    0.129</td>\n",
              "</tr>\n",
              "<tr>\n",
              "  <th>Hepatitis</th>         <td>    0.0656</td> <td>    0.032</td> <td>    2.056</td> <td> 0.042</td> <td>    0.002</td> <td>    0.129</td>\n",
              "</tr>\n",
              "<tr>\n",
              "  <th>Measles</th>           <td> -5.93e-05</td> <td> 6.09e-05</td> <td>   -0.974</td> <td> 0.332</td> <td>   -0.000</td> <td> 6.14e-05</td>\n",
              "</tr>\n",
              "<tr>\n",
              "  <th>BMI</th>               <td>   -0.0266</td> <td>    0.023</td> <td>   -1.179</td> <td> 0.241</td> <td>   -0.071</td> <td>    0.018</td>\n",
              "</tr>\n",
              "<tr>\n",
              "  <th>Underfive_Deaths</th>  <td>   -0.0389</td> <td>    0.027</td> <td>   -1.439</td> <td> 0.153</td> <td>   -0.093</td> <td>    0.015</td>\n",
              "</tr>\n",
              "<tr>\n",
              "  <th>Polio</th>             <td>   -0.0091</td> <td>    0.022</td> <td>   -0.417</td> <td> 0.677</td> <td>   -0.053</td> <td>    0.034</td>\n",
              "</tr>\n",
              "<tr>\n",
              "  <th>Diphtheria</th>        <td>   -0.0345</td> <td>    0.040</td> <td>   -0.868</td> <td> 0.387</td> <td>   -0.113</td> <td>    0.044</td>\n",
              "</tr>\n",
              "<tr>\n",
              "  <th>HIV</th>               <td>   -1.0385</td> <td>    0.268</td> <td>   -3.881</td> <td> 0.000</td> <td>   -1.569</td> <td>   -0.508</td>\n",
              "</tr>\n",
              "<tr>\n",
              "  <th>GDP</th>               <td> 5.021e-05</td> <td> 3.48e-05</td> <td>    1.445</td> <td> 0.151</td> <td>-1.87e-05</td> <td>    0.000</td>\n",
              "</tr>\n",
              "<tr>\n",
              "  <th>Population</th>        <td>-1.845e-08</td> <td>  8.6e-09</td> <td>   -2.146</td> <td> 0.034</td> <td>-3.55e-08</td> <td>-1.41e-09</td>\n",
              "</tr>\n",
              "<tr>\n",
              "  <th>Malnourished10_19</th> <td>   -0.4850</td> <td>    0.300</td> <td>   -1.616</td> <td> 0.109</td> <td>   -1.080</td> <td>    0.110</td>\n",
              "</tr>\n",
              "<tr>\n",
              "  <th>Malnourished5_9</th>   <td>    0.2983</td> <td>    0.283</td> <td>    1.053</td> <td> 0.294</td> <td>   -0.263</td> <td>    0.860</td>\n",
              "</tr>\n",
              "<tr>\n",
              "  <th>Income_Index</th>      <td>   18.6518</td> <td>    6.313</td> <td>    2.955</td> <td> 0.004</td> <td>    6.138</td> <td>   31.166</td>\n",
              "</tr>\n",
              "<tr>\n",
              "  <th>Schooling</th>         <td>    0.3599</td> <td>    0.346</td> <td>    1.040</td> <td> 0.301</td> <td>   -0.326</td> <td>    1.046</td>\n",
              "</tr>\n",
              "<tr>\n",
              "  <th>Status_Developing</th> <td>   -2.0360</td> <td>    1.168</td> <td>   -1.743</td> <td> 0.084</td> <td>   -4.352</td> <td>    0.280</td>\n",
              "</tr>\n",
              "</table>\n",
              "<table class=\"simpletable\">\n",
              "<tr>\n",
              "  <th>Omnibus:</th>       <td> 6.529</td> <th>  Durbin-Watson:     </th> <td>   1.754</td>\n",
              "</tr>\n",
              "<tr>\n",
              "  <th>Prob(Omnibus):</th> <td> 0.038</td> <th>  Jarque-Bera (JB):  </th> <td>  10.518</td>\n",
              "</tr>\n",
              "<tr>\n",
              "  <th>Skew:</th>          <td> 0.122</td> <th>  Prob(JB):          </th> <td> 0.00520</td>\n",
              "</tr>\n",
              "<tr>\n",
              "  <th>Kurtosis:</th>      <td> 4.406</td> <th>  Cond. No.          </th> <td>9.15e+08</td>\n",
              "</tr>\n",
              "</table><br/><br/>Warnings:<br/>[1] Standard Errors assume that the covariance matrix of the errors is correctly specified.<br/>[2] The condition number is large, 9.15e+08. This might indicate that there are<br/>strong multicollinearity or other numerical problems."
            ],
            "text/plain": [
              "<class 'statsmodels.iolib.summary.Summary'>\n",
              "\"\"\"\n",
              "                            OLS Regression Results                            \n",
              "==============================================================================\n",
              "Dep. Variable:               Expected   R-squared:                       0.848\n",
              "Model:                            OLS   Adj. R-squared:                  0.826\n",
              "Method:                 Least Squares   F-statistic:                     37.43\n",
              "Date:                Thu, 28 Jan 2021   Prob (F-statistic):           1.94e-36\n",
              "Time:                        11:18:49   Log-Likelihood:                -323.38\n",
              "No. Observations:                 124   AIC:                             680.8\n",
              "Df Residuals:                     107   BIC:                             728.7\n",
              "Df Model:                          16                                         \n",
              "Covariance Type:            nonrobust                                         \n",
              "=====================================================================================\n",
              "                        coef    std err          t      P>|t|      [0.025      0.975]\n",
              "-------------------------------------------------------------------------------------\n",
              "const                60.0678      3.747     16.030      0.000      52.639      67.496\n",
              "Adult_Mortality      -0.0231      0.004     -5.685      0.000      -0.031      -0.015\n",
              "Infant_Deaths         0.0556      0.037      1.507      0.135      -0.018       0.129\n",
              "Hepatitis             0.0656      0.032      2.056      0.042       0.002       0.129\n",
              "Measles            -5.93e-05   6.09e-05     -0.974      0.332      -0.000    6.14e-05\n",
              "BMI                  -0.0266      0.023     -1.179      0.241      -0.071       0.018\n",
              "Underfive_Deaths     -0.0389      0.027     -1.439      0.153      -0.093       0.015\n",
              "Polio                -0.0091      0.022     -0.417      0.677      -0.053       0.034\n",
              "Diphtheria           -0.0345      0.040     -0.868      0.387      -0.113       0.044\n",
              "HIV                  -1.0385      0.268     -3.881      0.000      -1.569      -0.508\n",
              "GDP                5.021e-05   3.48e-05      1.445      0.151   -1.87e-05       0.000\n",
              "Population        -1.845e-08    8.6e-09     -2.146      0.034   -3.55e-08   -1.41e-09\n",
              "Malnourished10_19    -0.4850      0.300     -1.616      0.109      -1.080       0.110\n",
              "Malnourished5_9       0.2983      0.283      1.053      0.294      -0.263       0.860\n",
              "Income_Index         18.6518      6.313      2.955      0.004       6.138      31.166\n",
              "Schooling             0.3599      0.346      1.040      0.301      -0.326       1.046\n",
              "Status_Developing    -2.0360      1.168     -1.743      0.084      -4.352       0.280\n",
              "==============================================================================\n",
              "Omnibus:                        6.529   Durbin-Watson:                   1.754\n",
              "Prob(Omnibus):                  0.038   Jarque-Bera (JB):               10.518\n",
              "Skew:                           0.122   Prob(JB):                      0.00520\n",
              "Kurtosis:                       4.406   Cond. No.                     9.15e+08\n",
              "==============================================================================\n",
              "\n",
              "Warnings:\n",
              "[1] Standard Errors assume that the covariance matrix of the errors is correctly specified.\n",
              "[2] The condition number is large, 9.15e+08. This might indicate that there are\n",
              "strong multicollinearity or other numerical problems.\n",
              "\"\"\""
            ]
          },
          "metadata": {
            "tags": []
          },
          "execution_count": 28
        }
      ]
    },
    {
      "cell_type": "markdown",
      "metadata": {
        "id": "3oToE_WPt8iA"
      },
      "source": [
        ""
      ]
    },
    {
      "cell_type": "markdown",
      "metadata": {
        "collapsed": true,
        "id": "dpQW2JRoCpyZ"
      },
      "source": [
        "<table align=\"left\">\n",
        "    <tr>\n",
        "        <td width=\"6%\">\n",
        "            <img src=\"question_icon.png\">\n",
        "        </td>\n",
        "        <td>\n",
        "            <div align=\"left\", style=\"font-size:120%\">\n",
        "                <font color=\"#21618C\">\n",
        "                    <b>6. If economic indices are used to predict the life expectancy, calculate the total variation for the observed values of life expectancy.</b>\n",
        "                </font>\n",
        "            </div>\n",
        "        </td>\n",
        "    </tr>\n",
        "</table>"
      ]
    },
    {
      "cell_type": "code",
      "metadata": {
        "id": "dQOQc2dECpyZ",
        "colab": {
          "base_uri": "https://localhost:8080/",
          "height": 499
        },
        "outputId": "e1af497b-316f-4e51-abfb-b316bbec72c9"
      },
      "source": [
        "# type your code here\r\n",
        "\r\n",
        "\r\n",
        "y=df['Expected']\r\n",
        "x=df[['GDP','Income_Index']]\r\n",
        "\r\n",
        "xc=sm.add_constant(x)\r\n",
        "model=sm.OLS(y,xc).fit()\r\n",
        "model.summary()"
      ],
      "execution_count": null,
      "outputs": [
        {
          "output_type": "execute_result",
          "data": {
            "text/html": [
              "<table class=\"simpletable\">\n",
              "<caption>OLS Regression Results</caption>\n",
              "<tr>\n",
              "  <th>Dep. Variable:</th>        <td>Expected</td>     <th>  R-squared:         </th> <td>   0.713</td>\n",
              "</tr>\n",
              "<tr>\n",
              "  <th>Model:</th>                   <td>OLS</td>       <th>  Adj. R-squared:    </th> <td>   0.709</td>\n",
              "</tr>\n",
              "<tr>\n",
              "  <th>Method:</th>             <td>Least Squares</td>  <th>  F-statistic:       </th> <td>   150.6</td>\n",
              "</tr>\n",
              "<tr>\n",
              "  <th>Date:</th>             <td>Thu, 28 Jan 2021</td> <th>  Prob (F-statistic):</th> <td>1.44e-33</td>\n",
              "</tr>\n",
              "<tr>\n",
              "  <th>Time:</th>                 <td>11:30:45</td>     <th>  Log-Likelihood:    </th> <td> -362.85</td>\n",
              "</tr>\n",
              "<tr>\n",
              "  <th>No. Observations:</th>      <td>   124</td>      <th>  AIC:               </th> <td>   731.7</td>\n",
              "</tr>\n",
              "<tr>\n",
              "  <th>Df Residuals:</th>          <td>   121</td>      <th>  BIC:               </th> <td>   740.2</td>\n",
              "</tr>\n",
              "<tr>\n",
              "  <th>Df Model:</th>              <td>     2</td>      <th>                     </th>     <td> </td>   \n",
              "</tr>\n",
              "<tr>\n",
              "  <th>Covariance Type:</th>      <td>nonrobust</td>    <th>                     </th>     <td> </td>   \n",
              "</tr>\n",
              "</table>\n",
              "<table class=\"simpletable\">\n",
              "<tr>\n",
              "        <td></td>          <th>coef</th>     <th>std err</th>      <th>t</th>      <th>P>|t|</th>  <th>[0.025</th>    <th>0.975]</th>  \n",
              "</tr>\n",
              "<tr>\n",
              "  <th>const</th>        <td>   42.6132</td> <td>    1.865</td> <td>   22.848</td> <td> 0.000</td> <td>   38.921</td> <td>   46.306</td>\n",
              "</tr>\n",
              "<tr>\n",
              "  <th>GDP</th>          <td> 4.515e-05</td> <td> 4.36e-05</td> <td>    1.034</td> <td> 0.303</td> <td>-4.13e-05</td> <td>    0.000</td>\n",
              "</tr>\n",
              "<tr>\n",
              "  <th>Income_Index</th> <td>   40.9705</td> <td>    2.823</td> <td>   14.512</td> <td> 0.000</td> <td>   35.381</td> <td>   46.560</td>\n",
              "</tr>\n",
              "</table>\n",
              "<table class=\"simpletable\">\n",
              "<tr>\n",
              "  <th>Omnibus:</th>       <td> 9.157</td> <th>  Durbin-Watson:     </th> <td>   1.349</td>\n",
              "</tr>\n",
              "<tr>\n",
              "  <th>Prob(Omnibus):</th> <td> 0.010</td> <th>  Jarque-Bera (JB):  </th> <td>  16.954</td>\n",
              "</tr>\n",
              "<tr>\n",
              "  <th>Skew:</th>          <td> 0.232</td> <th>  Prob(JB):          </th> <td>0.000208</td>\n",
              "</tr>\n",
              "<tr>\n",
              "  <th>Kurtosis:</th>      <td> 4.751</td> <th>  Cond. No.          </th> <td>1.05e+05</td>\n",
              "</tr>\n",
              "</table><br/><br/>Warnings:<br/>[1] Standard Errors assume that the covariance matrix of the errors is correctly specified.<br/>[2] The condition number is large, 1.05e+05. This might indicate that there are<br/>strong multicollinearity or other numerical problems."
            ],
            "text/plain": [
              "<class 'statsmodels.iolib.summary.Summary'>\n",
              "\"\"\"\n",
              "                            OLS Regression Results                            \n",
              "==============================================================================\n",
              "Dep. Variable:               Expected   R-squared:                       0.713\n",
              "Model:                            OLS   Adj. R-squared:                  0.709\n",
              "Method:                 Least Squares   F-statistic:                     150.6\n",
              "Date:                Thu, 28 Jan 2021   Prob (F-statistic):           1.44e-33\n",
              "Time:                        11:30:45   Log-Likelihood:                -362.85\n",
              "No. Observations:                 124   AIC:                             731.7\n",
              "Df Residuals:                     121   BIC:                             740.2\n",
              "Df Model:                           2                                         \n",
              "Covariance Type:            nonrobust                                         \n",
              "================================================================================\n",
              "                   coef    std err          t      P>|t|      [0.025      0.975]\n",
              "--------------------------------------------------------------------------------\n",
              "const           42.6132      1.865     22.848      0.000      38.921      46.306\n",
              "GDP           4.515e-05   4.36e-05      1.034      0.303   -4.13e-05       0.000\n",
              "Income_Index    40.9705      2.823     14.512      0.000      35.381      46.560\n",
              "==============================================================================\n",
              "Omnibus:                        9.157   Durbin-Watson:                   1.349\n",
              "Prob(Omnibus):                  0.010   Jarque-Bera (JB):               16.954\n",
              "Skew:                           0.232   Prob(JB):                     0.000208\n",
              "Kurtosis:                       4.751   Cond. No.                     1.05e+05\n",
              "==============================================================================\n",
              "\n",
              "Warnings:\n",
              "[1] Standard Errors assume that the covariance matrix of the errors is correctly specified.\n",
              "[2] The condition number is large, 1.05e+05. This might indicate that there are\n",
              "strong multicollinearity or other numerical problems.\n",
              "\"\"\""
            ]
          },
          "metadata": {
            "tags": []
          },
          "execution_count": 29
        }
      ]
    },
    {
      "cell_type": "code",
      "metadata": {
        "colab": {
          "base_uri": "https://localhost:8080/",
          "height": 444
        },
        "id": "Gg7ft-jkwvJC",
        "outputId": "c8066f5d-b88a-4e14-9c66-03f236db702b"
      },
      "source": [
        "\r\n",
        "y=df['Expected']\r\n",
        "x=df[['Income_Index']]\r\n",
        "\r\n",
        "xc=sm.add_constant(x)\r\n",
        "model=sm.OLS(y,xc).fit()\r\n",
        "model.summary()"
      ],
      "execution_count": null,
      "outputs": [
        {
          "output_type": "execute_result",
          "data": {
            "text/html": [
              "<table class=\"simpletable\">\n",
              "<caption>OLS Regression Results</caption>\n",
              "<tr>\n",
              "  <th>Dep. Variable:</th>        <td>Expected</td>     <th>  R-squared:         </th> <td>   0.711</td>\n",
              "</tr>\n",
              "<tr>\n",
              "  <th>Model:</th>                   <td>OLS</td>       <th>  Adj. R-squared:    </th> <td>   0.709</td>\n",
              "</tr>\n",
              "<tr>\n",
              "  <th>Method:</th>             <td>Least Squares</td>  <th>  F-statistic:       </th> <td>   300.0</td>\n",
              "</tr>\n",
              "<tr>\n",
              "  <th>Date:</th>             <td>Thu, 28 Jan 2021</td> <th>  Prob (F-statistic):</th> <td>1.13e-34</td>\n",
              "</tr>\n",
              "<tr>\n",
              "  <th>Time:</th>                 <td>11:31:27</td>     <th>  Log-Likelihood:    </th> <td> -363.40</td>\n",
              "</tr>\n",
              "<tr>\n",
              "  <th>No. Observations:</th>      <td>   124</td>      <th>  AIC:               </th> <td>   730.8</td>\n",
              "</tr>\n",
              "<tr>\n",
              "  <th>Df Residuals:</th>          <td>   122</td>      <th>  BIC:               </th> <td>   736.4</td>\n",
              "</tr>\n",
              "<tr>\n",
              "  <th>Df Model:</th>              <td>     1</td>      <th>                     </th>     <td> </td>   \n",
              "</tr>\n",
              "<tr>\n",
              "  <th>Covariance Type:</th>      <td>nonrobust</td>    <th>                     </th>     <td> </td>   \n",
              "</tr>\n",
              "</table>\n",
              "<table class=\"simpletable\">\n",
              "<tr>\n",
              "        <td></td>          <th>coef</th>     <th>std err</th>      <th>t</th>      <th>P>|t|</th>  <th>[0.025</th>    <th>0.975]</th>  \n",
              "</tr>\n",
              "<tr>\n",
              "  <th>const</th>        <td>   41.9191</td> <td>    1.741</td> <td>   24.081</td> <td> 0.000</td> <td>   38.473</td> <td>   45.365</td>\n",
              "</tr>\n",
              "<tr>\n",
              "  <th>Income_Index</th> <td>   42.4243</td> <td>    2.449</td> <td>   17.322</td> <td> 0.000</td> <td>   37.576</td> <td>   47.273</td>\n",
              "</tr>\n",
              "</table>\n",
              "<table class=\"simpletable\">\n",
              "<tr>\n",
              "  <th>Omnibus:</th>       <td>11.870</td> <th>  Durbin-Watson:     </th> <td>   1.355</td>\n",
              "</tr>\n",
              "<tr>\n",
              "  <th>Prob(Omnibus):</th> <td> 0.003</td> <th>  Jarque-Bera (JB):  </th> <td>  26.475</td>\n",
              "</tr>\n",
              "<tr>\n",
              "  <th>Skew:</th>          <td> 0.280</td> <th>  Prob(JB):          </th> <td>1.78e-06</td>\n",
              "</tr>\n",
              "<tr>\n",
              "  <th>Kurtosis:</th>      <td> 5.193</td> <th>  Cond. No.          </th> <td>    8.87</td>\n",
              "</tr>\n",
              "</table><br/><br/>Warnings:<br/>[1] Standard Errors assume that the covariance matrix of the errors is correctly specified."
            ],
            "text/plain": [
              "<class 'statsmodels.iolib.summary.Summary'>\n",
              "\"\"\"\n",
              "                            OLS Regression Results                            \n",
              "==============================================================================\n",
              "Dep. Variable:               Expected   R-squared:                       0.711\n",
              "Model:                            OLS   Adj. R-squared:                  0.709\n",
              "Method:                 Least Squares   F-statistic:                     300.0\n",
              "Date:                Thu, 28 Jan 2021   Prob (F-statistic):           1.13e-34\n",
              "Time:                        11:31:27   Log-Likelihood:                -363.40\n",
              "No. Observations:                 124   AIC:                             730.8\n",
              "Df Residuals:                     122   BIC:                             736.4\n",
              "Df Model:                           1                                         \n",
              "Covariance Type:            nonrobust                                         \n",
              "================================================================================\n",
              "                   coef    std err          t      P>|t|      [0.025      0.975]\n",
              "--------------------------------------------------------------------------------\n",
              "const           41.9191      1.741     24.081      0.000      38.473      45.365\n",
              "Income_Index    42.4243      2.449     17.322      0.000      37.576      47.273\n",
              "==============================================================================\n",
              "Omnibus:                       11.870   Durbin-Watson:                   1.355\n",
              "Prob(Omnibus):                  0.003   Jarque-Bera (JB):               26.475\n",
              "Skew:                           0.280   Prob(JB):                     1.78e-06\n",
              "Kurtosis:                       5.193   Cond. No.                         8.87\n",
              "==============================================================================\n",
              "\n",
              "Warnings:\n",
              "[1] Standard Errors assume that the covariance matrix of the errors is correctly specified.\n",
              "\"\"\""
            ]
          },
          "metadata": {
            "tags": []
          },
          "execution_count": 30
        }
      ]
    },
    {
      "cell_type": "code",
      "metadata": {
        "colab": {
          "base_uri": "https://localhost:8080/"
        },
        "id": "RMn7ZeEfw0VN",
        "outputId": "68f88f08-860a-4d5a-876a-3688d1c8459b"
      },
      "source": [
        "y_pred=model.predict(xc)\r\n",
        "variance = ((y-y_pred)**2).mean()\r\n",
        "\r\n",
        "print('Variance of errors between y and y_pred', variance)"
      ],
      "execution_count": null,
      "outputs": [
        {
          "output_type": "stream",
          "text": [
            "Variance of errors between y and y_pred 20.561167769791123\n"
          ],
          "name": "stdout"
        }
      ]
    },
    {
      "cell_type": "markdown",
      "metadata": {
        "collapsed": true,
        "id": "z4SLTYrqCpya"
      },
      "source": [
        "<table align=\"left\">\n",
        "    <tr>\n",
        "        <td width=\"6%\">\n",
        "            <img src=\"question_icon.png\">\n",
        "        </td>\n",
        "        <td>\n",
        "            <div align=\"left\", style=\"font-size:120%\">\n",
        "                <font color=\"#21618C\">\n",
        "                    <b>7. Determine the lower bound and upper bound for estimated value of life expectancy per unit change in HDI (for income)</b>\n",
        "                </font>\n",
        "            </div>\n",
        "        </td>\n",
        "    </tr>\n",
        "</table>"
      ]
    },
    {
      "cell_type": "code",
      "metadata": {
        "id": "Xqkn25pdCpyb",
        "colab": {
          "base_uri": "https://localhost:8080/",
          "height": 444
        },
        "outputId": "dc9e46b2-7d85-4d1c-f0d4-af464f1fc9be"
      },
      "source": [
        "# type your code here\r\n",
        "\r\n",
        "\r\n",
        "y=df['Expected']\r\n",
        "x=df[['Income_Index']]\r\n",
        "\r\n",
        "xc=sm.add_constant(x)\r\n",
        "model=sm.OLS(y,xc).fit()\r\n",
        "model.summary()"
      ],
      "execution_count": null,
      "outputs": [
        {
          "output_type": "execute_result",
          "data": {
            "text/html": [
              "<table class=\"simpletable\">\n",
              "<caption>OLS Regression Results</caption>\n",
              "<tr>\n",
              "  <th>Dep. Variable:</th>        <td>Expected</td>     <th>  R-squared:         </th> <td>   0.711</td>\n",
              "</tr>\n",
              "<tr>\n",
              "  <th>Model:</th>                   <td>OLS</td>       <th>  Adj. R-squared:    </th> <td>   0.709</td>\n",
              "</tr>\n",
              "<tr>\n",
              "  <th>Method:</th>             <td>Least Squares</td>  <th>  F-statistic:       </th> <td>   300.0</td>\n",
              "</tr>\n",
              "<tr>\n",
              "  <th>Date:</th>             <td>Thu, 28 Jan 2021</td> <th>  Prob (F-statistic):</th> <td>1.13e-34</td>\n",
              "</tr>\n",
              "<tr>\n",
              "  <th>Time:</th>                 <td>11:36:58</td>     <th>  Log-Likelihood:    </th> <td> -363.40</td>\n",
              "</tr>\n",
              "<tr>\n",
              "  <th>No. Observations:</th>      <td>   124</td>      <th>  AIC:               </th> <td>   730.8</td>\n",
              "</tr>\n",
              "<tr>\n",
              "  <th>Df Residuals:</th>          <td>   122</td>      <th>  BIC:               </th> <td>   736.4</td>\n",
              "</tr>\n",
              "<tr>\n",
              "  <th>Df Model:</th>              <td>     1</td>      <th>                     </th>     <td> </td>   \n",
              "</tr>\n",
              "<tr>\n",
              "  <th>Covariance Type:</th>      <td>nonrobust</td>    <th>                     </th>     <td> </td>   \n",
              "</tr>\n",
              "</table>\n",
              "<table class=\"simpletable\">\n",
              "<tr>\n",
              "        <td></td>          <th>coef</th>     <th>std err</th>      <th>t</th>      <th>P>|t|</th>  <th>[0.025</th>    <th>0.975]</th>  \n",
              "</tr>\n",
              "<tr>\n",
              "  <th>const</th>        <td>   41.9191</td> <td>    1.741</td> <td>   24.081</td> <td> 0.000</td> <td>   38.473</td> <td>   45.365</td>\n",
              "</tr>\n",
              "<tr>\n",
              "  <th>Income_Index</th> <td>   42.4243</td> <td>    2.449</td> <td>   17.322</td> <td> 0.000</td> <td>   37.576</td> <td>   47.273</td>\n",
              "</tr>\n",
              "</table>\n",
              "<table class=\"simpletable\">\n",
              "<tr>\n",
              "  <th>Omnibus:</th>       <td>11.870</td> <th>  Durbin-Watson:     </th> <td>   1.355</td>\n",
              "</tr>\n",
              "<tr>\n",
              "  <th>Prob(Omnibus):</th> <td> 0.003</td> <th>  Jarque-Bera (JB):  </th> <td>  26.475</td>\n",
              "</tr>\n",
              "<tr>\n",
              "  <th>Skew:</th>          <td> 0.280</td> <th>  Prob(JB):          </th> <td>1.78e-06</td>\n",
              "</tr>\n",
              "<tr>\n",
              "  <th>Kurtosis:</th>      <td> 5.193</td> <th>  Cond. No.          </th> <td>    8.87</td>\n",
              "</tr>\n",
              "</table><br/><br/>Warnings:<br/>[1] Standard Errors assume that the covariance matrix of the errors is correctly specified."
            ],
            "text/plain": [
              "<class 'statsmodels.iolib.summary.Summary'>\n",
              "\"\"\"\n",
              "                            OLS Regression Results                            \n",
              "==============================================================================\n",
              "Dep. Variable:               Expected   R-squared:                       0.711\n",
              "Model:                            OLS   Adj. R-squared:                  0.709\n",
              "Method:                 Least Squares   F-statistic:                     300.0\n",
              "Date:                Thu, 28 Jan 2021   Prob (F-statistic):           1.13e-34\n",
              "Time:                        11:36:58   Log-Likelihood:                -363.40\n",
              "No. Observations:                 124   AIC:                             730.8\n",
              "Df Residuals:                     122   BIC:                             736.4\n",
              "Df Model:                           1                                         \n",
              "Covariance Type:            nonrobust                                         \n",
              "================================================================================\n",
              "                   coef    std err          t      P>|t|      [0.025      0.975]\n",
              "--------------------------------------------------------------------------------\n",
              "const           41.9191      1.741     24.081      0.000      38.473      45.365\n",
              "Income_Index    42.4243      2.449     17.322      0.000      37.576      47.273\n",
              "==============================================================================\n",
              "Omnibus:                       11.870   Durbin-Watson:                   1.355\n",
              "Prob(Omnibus):                  0.003   Jarque-Bera (JB):               26.475\n",
              "Skew:                           0.280   Prob(JB):                     1.78e-06\n",
              "Kurtosis:                       5.193   Cond. No.                         8.87\n",
              "==============================================================================\n",
              "\n",
              "Warnings:\n",
              "[1] Standard Errors assume that the covariance matrix of the errors is correctly specified.\n",
              "\"\"\""
            ]
          },
          "metadata": {
            "tags": []
          },
          "execution_count": 34
        }
      ]
    },
    {
      "cell_type": "code",
      "metadata": {
        "id": "tc5qxorTzCIy"
      },
      "source": [
        "#Lower bound and Upper Bound are 37.576 and 47.273"
      ],
      "execution_count": null,
      "outputs": []
    },
    {
      "cell_type": "code",
      "metadata": {
        "colab": {
          "base_uri": "https://localhost:8080/",
          "height": 111
        },
        "id": "2r6sL7Smyo3m",
        "outputId": "0379b81a-8d3a-4833-f252-1df4198d9277"
      },
      "source": [
        "model.conf_int()"
      ],
      "execution_count": null,
      "outputs": [
        {
          "output_type": "execute_result",
          "data": {
            "text/html": [
              "<div>\n",
              "<style scoped>\n",
              "    .dataframe tbody tr th:only-of-type {\n",
              "        vertical-align: middle;\n",
              "    }\n",
              "\n",
              "    .dataframe tbody tr th {\n",
              "        vertical-align: top;\n",
              "    }\n",
              "\n",
              "    .dataframe thead th {\n",
              "        text-align: right;\n",
              "    }\n",
              "</style>\n",
              "<table border=\"1\" class=\"dataframe\">\n",
              "  <thead>\n",
              "    <tr style=\"text-align: right;\">\n",
              "      <th></th>\n",
              "      <th>0</th>\n",
              "      <th>1</th>\n",
              "    </tr>\n",
              "  </thead>\n",
              "  <tbody>\n",
              "    <tr>\n",
              "      <th>const</th>\n",
              "      <td>38.473158</td>\n",
              "      <td>45.365105</td>\n",
              "    </tr>\n",
              "    <tr>\n",
              "      <th>Income_Index</th>\n",
              "      <td>37.575806</td>\n",
              "      <td>47.272760</td>\n",
              "    </tr>\n",
              "  </tbody>\n",
              "</table>\n",
              "</div>"
            ],
            "text/plain": [
              "                      0          1\n",
              "const         38.473158  45.365105\n",
              "Income_Index  37.575806  47.272760"
            ]
          },
          "metadata": {
            "tags": []
          },
          "execution_count": 35
        }
      ]
    },
    {
      "cell_type": "markdown",
      "metadata": {
        "id": "t8WO0m24Cpyc"
      },
      "source": [
        "<a id=\"ML_eval\"> </a>\n",
        "## 4. Model Evaluation"
      ]
    },
    {
      "cell_type": "markdown",
      "metadata": {
        "collapsed": true,
        "id": "aV_C5XAiCpyc"
      },
      "source": [
        "<table align=\"left\">\n",
        "    <tr>\n",
        "        <td width=\"6%\">\n",
        "            <img src=\"question_icon.png\">\n",
        "        </td>\n",
        "        <td>\n",
        "            <div align=\"left\", style=\"font-size:120%\">\n",
        "                <font color=\"#21618C\">\n",
        "                    <b>8. A model is built to analyze the impact of mortality on Life expectancy. Would the addition of information about population of the country lead to a better prediction?</b>\n",
        "                </font>\n",
        "            </div>\n",
        "        </td>\n",
        "    </tr>\n",
        "</table>"
      ]
    },
    {
      "cell_type": "code",
      "metadata": {
        "id": "kc9JHM_sCpyc",
        "colab": {
          "base_uri": "https://localhost:8080/",
          "height": 444
        },
        "outputId": "9e01ace6-3f20-4237-aac9-47f6d84606ce"
      },
      "source": [
        "# type your code here\r\n",
        "\r\n",
        "y=df['Expected']\r\n",
        "x=df[['Adult_Mortality']]\r\n",
        "\r\n",
        "xc=sm.add_constant(x)\r\n",
        "model=sm.OLS(y,xc).fit()\r\n",
        "model.summary()"
      ],
      "execution_count": null,
      "outputs": [
        {
          "output_type": "execute_result",
          "data": {
            "text/html": [
              "<table class=\"simpletable\">\n",
              "<caption>OLS Regression Results</caption>\n",
              "<tr>\n",
              "  <th>Dep. Variable:</th>        <td>Expected</td>     <th>  R-squared:         </th> <td>   0.505</td>\n",
              "</tr>\n",
              "<tr>\n",
              "  <th>Model:</th>                   <td>OLS</td>       <th>  Adj. R-squared:    </th> <td>   0.501</td>\n",
              "</tr>\n",
              "<tr>\n",
              "  <th>Method:</th>             <td>Least Squares</td>  <th>  F-statistic:       </th> <td>   124.6</td>\n",
              "</tr>\n",
              "<tr>\n",
              "  <th>Date:</th>             <td>Thu, 28 Jan 2021</td> <th>  Prob (F-statistic):</th> <td>2.27e-20</td>\n",
              "</tr>\n",
              "<tr>\n",
              "  <th>Time:</th>                 <td>11:44:49</td>     <th>  Log-Likelihood:    </th> <td> -396.71</td>\n",
              "</tr>\n",
              "<tr>\n",
              "  <th>No. Observations:</th>      <td>   124</td>      <th>  AIC:               </th> <td>   797.4</td>\n",
              "</tr>\n",
              "<tr>\n",
              "  <th>Df Residuals:</th>          <td>   122</td>      <th>  BIC:               </th> <td>   803.1</td>\n",
              "</tr>\n",
              "<tr>\n",
              "  <th>Df Model:</th>              <td>     1</td>      <th>                     </th>     <td> </td>   \n",
              "</tr>\n",
              "<tr>\n",
              "  <th>Covariance Type:</th>      <td>nonrobust</td>    <th>                     </th>     <td> </td>   \n",
              "</tr>\n",
              "</table>\n",
              "<table class=\"simpletable\">\n",
              "<tr>\n",
              "         <td></td>            <th>coef</th>     <th>std err</th>      <th>t</th>      <th>P>|t|</th>  <th>[0.025</th>    <th>0.975]</th>  \n",
              "</tr>\n",
              "<tr>\n",
              "  <th>const</th>           <td>   80.7106</td> <td>    1.005</td> <td>   80.272</td> <td> 0.000</td> <td>   78.720</td> <td>   82.701</td>\n",
              "</tr>\n",
              "<tr>\n",
              "  <th>Adult_Mortality</th> <td>   -0.0591</td> <td>    0.005</td> <td>  -11.164</td> <td> 0.000</td> <td>   -0.070</td> <td>   -0.049</td>\n",
              "</tr>\n",
              "</table>\n",
              "<table class=\"simpletable\">\n",
              "<tr>\n",
              "  <th>Omnibus:</th>       <td>57.611</td> <th>  Durbin-Watson:     </th> <td>   1.624</td>\n",
              "</tr>\n",
              "<tr>\n",
              "  <th>Prob(Omnibus):</th> <td> 0.000</td> <th>  Jarque-Bera (JB):  </th> <td> 160.621</td>\n",
              "</tr>\n",
              "<tr>\n",
              "  <th>Skew:</th>          <td>-1.821</td> <th>  Prob(JB):          </th> <td>1.32e-35</td>\n",
              "</tr>\n",
              "<tr>\n",
              "  <th>Kurtosis:</th>      <td> 7.222</td> <th>  Cond. No.          </th> <td>    355.</td>\n",
              "</tr>\n",
              "</table><br/><br/>Warnings:<br/>[1] Standard Errors assume that the covariance matrix of the errors is correctly specified."
            ],
            "text/plain": [
              "<class 'statsmodels.iolib.summary.Summary'>\n",
              "\"\"\"\n",
              "                            OLS Regression Results                            \n",
              "==============================================================================\n",
              "Dep. Variable:               Expected   R-squared:                       0.505\n",
              "Model:                            OLS   Adj. R-squared:                  0.501\n",
              "Method:                 Least Squares   F-statistic:                     124.6\n",
              "Date:                Thu, 28 Jan 2021   Prob (F-statistic):           2.27e-20\n",
              "Time:                        11:44:49   Log-Likelihood:                -396.71\n",
              "No. Observations:                 124   AIC:                             797.4\n",
              "Df Residuals:                     122   BIC:                             803.1\n",
              "Df Model:                           1                                         \n",
              "Covariance Type:            nonrobust                                         \n",
              "===================================================================================\n",
              "                      coef    std err          t      P>|t|      [0.025      0.975]\n",
              "-----------------------------------------------------------------------------------\n",
              "const              80.7106      1.005     80.272      0.000      78.720      82.701\n",
              "Adult_Mortality    -0.0591      0.005    -11.164      0.000      -0.070      -0.049\n",
              "==============================================================================\n",
              "Omnibus:                       57.611   Durbin-Watson:                   1.624\n",
              "Prob(Omnibus):                  0.000   Jarque-Bera (JB):              160.621\n",
              "Skew:                          -1.821   Prob(JB):                     1.32e-35\n",
              "Kurtosis:                       7.222   Cond. No.                         355.\n",
              "==============================================================================\n",
              "\n",
              "Warnings:\n",
              "[1] Standard Errors assume that the covariance matrix of the errors is correctly specified.\n",
              "\"\"\""
            ]
          },
          "metadata": {
            "tags": []
          },
          "execution_count": 36
        }
      ]
    },
    {
      "cell_type": "code",
      "metadata": {
        "colab": {
          "base_uri": "https://localhost:8080/",
          "height": 499
        },
        "id": "vT8ACXc2z3yy",
        "outputId": "04826b00-0d5b-4750-8bcc-6125b34536f5"
      },
      "source": [
        "y=df['Expected']\r\n",
        "x=df[['Adult_Mortality','Population']]\r\n",
        "\r\n",
        "xc=sm.add_constant(x)\r\n",
        "model=sm.OLS(y,xc).fit()\r\n",
        "model.summary()\r\n",
        "\r\n",
        "\r\n",
        "# NO the addition of population would not have any better prediction as the variable population tend out to be insignificant\r\n"
      ],
      "execution_count": null,
      "outputs": [
        {
          "output_type": "execute_result",
          "data": {
            "text/html": [
              "<table class=\"simpletable\">\n",
              "<caption>OLS Regression Results</caption>\n",
              "<tr>\n",
              "  <th>Dep. Variable:</th>        <td>Expected</td>     <th>  R-squared:         </th> <td>   0.507</td>\n",
              "</tr>\n",
              "<tr>\n",
              "  <th>Model:</th>                   <td>OLS</td>       <th>  Adj. R-squared:    </th> <td>   0.498</td>\n",
              "</tr>\n",
              "<tr>\n",
              "  <th>Method:</th>             <td>Least Squares</td>  <th>  F-statistic:       </th> <td>   62.12</td>\n",
              "</tr>\n",
              "<tr>\n",
              "  <th>Date:</th>             <td>Thu, 28 Jan 2021</td> <th>  Prob (F-statistic):</th> <td>2.74e-19</td>\n",
              "</tr>\n",
              "<tr>\n",
              "  <th>Time:</th>                 <td>11:45:34</td>     <th>  Log-Likelihood:    </th> <td> -396.54</td>\n",
              "</tr>\n",
              "<tr>\n",
              "  <th>No. Observations:</th>      <td>   124</td>      <th>  AIC:               </th> <td>   799.1</td>\n",
              "</tr>\n",
              "<tr>\n",
              "  <th>Df Residuals:</th>          <td>   121</td>      <th>  BIC:               </th> <td>   807.6</td>\n",
              "</tr>\n",
              "<tr>\n",
              "  <th>Df Model:</th>              <td>     2</td>      <th>                     </th>     <td> </td>   \n",
              "</tr>\n",
              "<tr>\n",
              "  <th>Covariance Type:</th>      <td>nonrobust</td>    <th>                     </th>     <td> </td>   \n",
              "</tr>\n",
              "</table>\n",
              "<table class=\"simpletable\">\n",
              "<tr>\n",
              "         <td></td>            <th>coef</th>     <th>std err</th>      <th>t</th>      <th>P>|t|</th>  <th>[0.025</th>    <th>0.975]</th>  \n",
              "</tr>\n",
              "<tr>\n",
              "  <th>const</th>           <td>   80.6129</td> <td>    1.023</td> <td>   78.783</td> <td> 0.000</td> <td>   78.587</td> <td>   82.639</td>\n",
              "</tr>\n",
              "<tr>\n",
              "  <th>Adult_Mortality</th> <td>   -0.0594</td> <td>    0.005</td> <td>  -11.133</td> <td> 0.000</td> <td>   -0.070</td> <td>   -0.049</td>\n",
              "</tr>\n",
              "<tr>\n",
              "  <th>Population</th>      <td> 7.436e-09</td> <td> 1.33e-08</td> <td>    0.561</td> <td> 0.576</td> <td>-1.88e-08</td> <td> 3.37e-08</td>\n",
              "</tr>\n",
              "</table>\n",
              "<table class=\"simpletable\">\n",
              "<tr>\n",
              "  <th>Omnibus:</th>       <td>57.763</td> <th>  Durbin-Watson:     </th> <td>   1.634</td>\n",
              "</tr>\n",
              "<tr>\n",
              "  <th>Prob(Omnibus):</th> <td> 0.000</td> <th>  Jarque-Bera (JB):  </th> <td> 161.344</td>\n",
              "</tr>\n",
              "<tr>\n",
              "  <th>Skew:</th>          <td>-1.826</td> <th>  Prob(JB):          </th> <td>9.22e-36</td>\n",
              "</tr>\n",
              "<tr>\n",
              "  <th>Kurtosis:</th>      <td> 7.231</td> <th>  Cond. No.          </th> <td>8.61e+07</td>\n",
              "</tr>\n",
              "</table><br/><br/>Warnings:<br/>[1] Standard Errors assume that the covariance matrix of the errors is correctly specified.<br/>[2] The condition number is large, 8.61e+07. This might indicate that there are<br/>strong multicollinearity or other numerical problems."
            ],
            "text/plain": [
              "<class 'statsmodels.iolib.summary.Summary'>\n",
              "\"\"\"\n",
              "                            OLS Regression Results                            \n",
              "==============================================================================\n",
              "Dep. Variable:               Expected   R-squared:                       0.507\n",
              "Model:                            OLS   Adj. R-squared:                  0.498\n",
              "Method:                 Least Squares   F-statistic:                     62.12\n",
              "Date:                Thu, 28 Jan 2021   Prob (F-statistic):           2.74e-19\n",
              "Time:                        11:45:34   Log-Likelihood:                -396.54\n",
              "No. Observations:                 124   AIC:                             799.1\n",
              "Df Residuals:                     121   BIC:                             807.6\n",
              "Df Model:                           2                                         \n",
              "Covariance Type:            nonrobust                                         \n",
              "===================================================================================\n",
              "                      coef    std err          t      P>|t|      [0.025      0.975]\n",
              "-----------------------------------------------------------------------------------\n",
              "const              80.6129      1.023     78.783      0.000      78.587      82.639\n",
              "Adult_Mortality    -0.0594      0.005    -11.133      0.000      -0.070      -0.049\n",
              "Population       7.436e-09   1.33e-08      0.561      0.576   -1.88e-08    3.37e-08\n",
              "==============================================================================\n",
              "Omnibus:                       57.763   Durbin-Watson:                   1.634\n",
              "Prob(Omnibus):                  0.000   Jarque-Bera (JB):              161.344\n",
              "Skew:                          -1.826   Prob(JB):                     9.22e-36\n",
              "Kurtosis:                       7.231   Cond. No.                     8.61e+07\n",
              "==============================================================================\n",
              "\n",
              "Warnings:\n",
              "[1] Standard Errors assume that the covariance matrix of the errors is correctly specified.\n",
              "[2] The condition number is large, 8.61e+07. This might indicate that there are\n",
              "strong multicollinearity or other numerical problems.\n",
              "\"\"\""
            ]
          },
          "metadata": {
            "tags": []
          },
          "execution_count": 37
        }
      ]
    },
    {
      "cell_type": "markdown",
      "metadata": {
        "collapsed": true,
        "id": "6voQu1a4Cpyd"
      },
      "source": [
        "<table align=\"left\">\n",
        "    <tr>\n",
        "        <td width=\"6%\">\n",
        "            <img src=\"question_icon.png\">\n",
        "        </td>\n",
        "        <td>\n",
        "            <div align=\"left\", style=\"font-size:120%\">\n",
        "                <font color=\"#21618C\">\n",
        "                    <b>9. Fit a full model and test the significance of the overall model. <br></b>\n",
        "                </font>\n",
        "            </div>\n",
        "        </td>\n",
        "    </tr>\n",
        "</table>"
      ]
    },
    {
      "cell_type": "code",
      "metadata": {
        "id": "zQfXXvPh08pE"
      },
      "source": [
        "cols=['const','Adult_Mortality', 'Hepatitis', 'HIV', 'Population', 'Income_Index','Status_Developing']"
      ],
      "execution_count": null,
      "outputs": []
    },
    {
      "cell_type": "code",
      "metadata": {
        "scrolled": true,
        "id": "g_QA3b0UCpyd",
        "colab": {
          "base_uri": "https://localhost:8080/",
          "height": 583
        },
        "outputId": "9585c851-4bbe-4770-f74a-91608cdc19c2"
      },
      "source": [
        "# type your code here\r\n",
        "\r\n",
        "#backward elimination\r\n",
        "\r\n",
        "y= df['Expected']\r\n",
        "x=df.drop('Expected', axis=1)\r\n",
        "\r\n",
        "xc=sm.add_constant(x)\r\n",
        "\r\n",
        "xc=xc[cols]\r\n",
        "model=sm.OLS(y,xc).fit()\r\n",
        "model.summary()"
      ],
      "execution_count": null,
      "outputs": [
        {
          "output_type": "execute_result",
          "data": {
            "text/html": [
              "<table class=\"simpletable\">\n",
              "<caption>OLS Regression Results</caption>\n",
              "<tr>\n",
              "  <th>Dep. Variable:</th>        <td>Expected</td>     <th>  R-squared:         </th> <td>   0.834</td>\n",
              "</tr>\n",
              "<tr>\n",
              "  <th>Model:</th>                   <td>OLS</td>       <th>  Adj. R-squared:    </th> <td>   0.825</td>\n",
              "</tr>\n",
              "<tr>\n",
              "  <th>Method:</th>             <td>Least Squares</td>  <th>  F-statistic:       </th> <td>   97.84</td>\n",
              "</tr>\n",
              "<tr>\n",
              "  <th>Date:</th>             <td>Thu, 28 Jan 2021</td> <th>  Prob (F-statistic):</th> <td>3.20e-43</td>\n",
              "</tr>\n",
              "<tr>\n",
              "  <th>Time:</th>                 <td>11:57:08</td>     <th>  Log-Likelihood:    </th> <td> -329.08</td>\n",
              "</tr>\n",
              "<tr>\n",
              "  <th>No. Observations:</th>      <td>   124</td>      <th>  AIC:               </th> <td>   672.2</td>\n",
              "</tr>\n",
              "<tr>\n",
              "  <th>Df Residuals:</th>          <td>   117</td>      <th>  BIC:               </th> <td>   691.9</td>\n",
              "</tr>\n",
              "<tr>\n",
              "  <th>Df Model:</th>              <td>     6</td>      <th>                     </th>     <td> </td>   \n",
              "</tr>\n",
              "<tr>\n",
              "  <th>Covariance Type:</th>      <td>nonrobust</td>    <th>                     </th>     <td> </td>   \n",
              "</tr>\n",
              "</table>\n",
              "<table class=\"simpletable\">\n",
              "<tr>\n",
              "          <td></td>             <th>coef</th>     <th>std err</th>      <th>t</th>      <th>P>|t|</th>  <th>[0.025</th>    <th>0.975]</th>  \n",
              "</tr>\n",
              "<tr>\n",
              "  <th>const</th>             <td>   58.9027</td> <td>    3.005</td> <td>   19.603</td> <td> 0.000</td> <td>   52.952</td> <td>   64.853</td>\n",
              "</tr>\n",
              "<tr>\n",
              "  <th>Adult_Mortality</th>   <td>   -0.0235</td> <td>    0.004</td> <td>   -5.950</td> <td> 0.000</td> <td>   -0.031</td> <td>   -0.016</td>\n",
              "</tr>\n",
              "<tr>\n",
              "  <th>Hepatitis</th>         <td>    0.0353</td> <td>    0.016</td> <td>    2.237</td> <td> 0.027</td> <td>    0.004</td> <td>    0.067</td>\n",
              "</tr>\n",
              "<tr>\n",
              "  <th>HIV</th>               <td>   -1.0942</td> <td>    0.252</td> <td>   -4.342</td> <td> 0.000</td> <td>   -1.593</td> <td>   -0.595</td>\n",
              "</tr>\n",
              "<tr>\n",
              "  <th>Population</th>        <td>-1.698e-08</td> <td>  8.1e-09</td> <td>   -2.096</td> <td> 0.038</td> <td> -3.3e-08</td> <td>-9.36e-10</td>\n",
              "</tr>\n",
              "<tr>\n",
              "  <th>Income_Index</th>      <td>   24.0067</td> <td>    3.117</td> <td>    7.701</td> <td> 0.000</td> <td>   17.833</td> <td>   30.181</td>\n",
              "</tr>\n",
              "<tr>\n",
              "  <th>Status_Developing</th> <td>   -2.6723</td> <td>    1.077</td> <td>   -2.481</td> <td> 0.015</td> <td>   -4.806</td> <td>   -0.539</td>\n",
              "</tr>\n",
              "</table>\n",
              "<table class=\"simpletable\">\n",
              "<tr>\n",
              "  <th>Omnibus:</th>       <td>10.733</td> <th>  Durbin-Watson:     </th> <td>   1.751</td>\n",
              "</tr>\n",
              "<tr>\n",
              "  <th>Prob(Omnibus):</th> <td> 0.005</td> <th>  Jarque-Bera (JB):  </th> <td>  21.171</td>\n",
              "</tr>\n",
              "<tr>\n",
              "  <th>Skew:</th>          <td> 0.288</td> <th>  Prob(JB):          </th> <td>2.53e-05</td>\n",
              "</tr>\n",
              "<tr>\n",
              "  <th>Kurtosis:</th>      <td> 4.941</td> <th>  Cond. No.          </th> <td>6.00e+08</td>\n",
              "</tr>\n",
              "</table><br/><br/>Warnings:<br/>[1] Standard Errors assume that the covariance matrix of the errors is correctly specified.<br/>[2] The condition number is large,  6e+08. This might indicate that there are<br/>strong multicollinearity or other numerical problems."
            ],
            "text/plain": [
              "<class 'statsmodels.iolib.summary.Summary'>\n",
              "\"\"\"\n",
              "                            OLS Regression Results                            \n",
              "==============================================================================\n",
              "Dep. Variable:               Expected   R-squared:                       0.834\n",
              "Model:                            OLS   Adj. R-squared:                  0.825\n",
              "Method:                 Least Squares   F-statistic:                     97.84\n",
              "Date:                Thu, 28 Jan 2021   Prob (F-statistic):           3.20e-43\n",
              "Time:                        11:57:08   Log-Likelihood:                -329.08\n",
              "No. Observations:                 124   AIC:                             672.2\n",
              "Df Residuals:                     117   BIC:                             691.9\n",
              "Df Model:                           6                                         \n",
              "Covariance Type:            nonrobust                                         \n",
              "=====================================================================================\n",
              "                        coef    std err          t      P>|t|      [0.025      0.975]\n",
              "-------------------------------------------------------------------------------------\n",
              "const                58.9027      3.005     19.603      0.000      52.952      64.853\n",
              "Adult_Mortality      -0.0235      0.004     -5.950      0.000      -0.031      -0.016\n",
              "Hepatitis             0.0353      0.016      2.237      0.027       0.004       0.067\n",
              "HIV                  -1.0942      0.252     -4.342      0.000      -1.593      -0.595\n",
              "Population        -1.698e-08    8.1e-09     -2.096      0.038    -3.3e-08   -9.36e-10\n",
              "Income_Index         24.0067      3.117      7.701      0.000      17.833      30.181\n",
              "Status_Developing    -2.6723      1.077     -2.481      0.015      -4.806      -0.539\n",
              "==============================================================================\n",
              "Omnibus:                       10.733   Durbin-Watson:                   1.751\n",
              "Prob(Omnibus):                  0.005   Jarque-Bera (JB):               21.171\n",
              "Skew:                           0.288   Prob(JB):                     2.53e-05\n",
              "Kurtosis:                       4.941   Cond. No.                     6.00e+08\n",
              "==============================================================================\n",
              "\n",
              "Warnings:\n",
              "[1] Standard Errors assume that the covariance matrix of the errors is correctly specified.\n",
              "[2] The condition number is large,  6e+08. This might indicate that there are\n",
              "strong multicollinearity or other numerical problems.\n",
              "\"\"\""
            ]
          },
          "metadata": {
            "tags": []
          },
          "execution_count": 41
        }
      ]
    },
    {
      "cell_type": "markdown",
      "metadata": {
        "id": "ve3BDfBqCpyd"
      },
      "source": [
        "<a id=\"assum\"> </a>\n",
        "## 5. Assumptions of Linear Regression"
      ]
    },
    {
      "cell_type": "markdown",
      "metadata": {
        "collapsed": true,
        "id": "ZyzAozgWCpyd"
      },
      "source": [
        "<table align=\"left\">\n",
        "    <tr>\n",
        "        <td width=\"6%\">\n",
        "            <img src=\"question_icon.png\">\n",
        "        </td>\n",
        "        <td>\n",
        "            <div align=\"left\", style=\"font-size:120%\">\n",
        "                <font color=\"#21618C\">\n",
        "                    <b>10. A model is built using all the features (full model) to predict the life expectancy. Check whether the residuals obtained form the model follow a normal distribution.</b>\n",
        "                </font>\n",
        "            </div>\n",
        "        </td>\n",
        "    </tr>\n",
        "</table>"
      ]
    },
    {
      "cell_type": "code",
      "metadata": {
        "id": "7DQjKKyzCpye",
        "colab": {
          "base_uri": "https://localhost:8080/",
          "height": 583
        },
        "outputId": "fd5c7936-634e-43ee-e442-8455d66fc33e"
      },
      "source": [
        "# type your code here\r\n",
        "\r\n",
        "\r\n",
        "y= df['Expected']\r\n",
        "x=df.drop('Expected', axis=1)\r\n",
        "\r\n",
        "xc=sm.add_constant(x)\r\n",
        "\r\n",
        "xc=xc[cols]\r\n",
        "model=sm.OLS(y,xc).fit()\r\n",
        "model.summary()"
      ],
      "execution_count": null,
      "outputs": [
        {
          "output_type": "execute_result",
          "data": {
            "text/html": [
              "<table class=\"simpletable\">\n",
              "<caption>OLS Regression Results</caption>\n",
              "<tr>\n",
              "  <th>Dep. Variable:</th>        <td>Expected</td>     <th>  R-squared:         </th> <td>   0.834</td>\n",
              "</tr>\n",
              "<tr>\n",
              "  <th>Model:</th>                   <td>OLS</td>       <th>  Adj. R-squared:    </th> <td>   0.825</td>\n",
              "</tr>\n",
              "<tr>\n",
              "  <th>Method:</th>             <td>Least Squares</td>  <th>  F-statistic:       </th> <td>   97.84</td>\n",
              "</tr>\n",
              "<tr>\n",
              "  <th>Date:</th>             <td>Thu, 28 Jan 2021</td> <th>  Prob (F-statistic):</th> <td>3.20e-43</td>\n",
              "</tr>\n",
              "<tr>\n",
              "  <th>Time:</th>                 <td>11:58:37</td>     <th>  Log-Likelihood:    </th> <td> -329.08</td>\n",
              "</tr>\n",
              "<tr>\n",
              "  <th>No. Observations:</th>      <td>   124</td>      <th>  AIC:               </th> <td>   672.2</td>\n",
              "</tr>\n",
              "<tr>\n",
              "  <th>Df Residuals:</th>          <td>   117</td>      <th>  BIC:               </th> <td>   691.9</td>\n",
              "</tr>\n",
              "<tr>\n",
              "  <th>Df Model:</th>              <td>     6</td>      <th>                     </th>     <td> </td>   \n",
              "</tr>\n",
              "<tr>\n",
              "  <th>Covariance Type:</th>      <td>nonrobust</td>    <th>                     </th>     <td> </td>   \n",
              "</tr>\n",
              "</table>\n",
              "<table class=\"simpletable\">\n",
              "<tr>\n",
              "          <td></td>             <th>coef</th>     <th>std err</th>      <th>t</th>      <th>P>|t|</th>  <th>[0.025</th>    <th>0.975]</th>  \n",
              "</tr>\n",
              "<tr>\n",
              "  <th>const</th>             <td>   58.9027</td> <td>    3.005</td> <td>   19.603</td> <td> 0.000</td> <td>   52.952</td> <td>   64.853</td>\n",
              "</tr>\n",
              "<tr>\n",
              "  <th>Adult_Mortality</th>   <td>   -0.0235</td> <td>    0.004</td> <td>   -5.950</td> <td> 0.000</td> <td>   -0.031</td> <td>   -0.016</td>\n",
              "</tr>\n",
              "<tr>\n",
              "  <th>Hepatitis</th>         <td>    0.0353</td> <td>    0.016</td> <td>    2.237</td> <td> 0.027</td> <td>    0.004</td> <td>    0.067</td>\n",
              "</tr>\n",
              "<tr>\n",
              "  <th>HIV</th>               <td>   -1.0942</td> <td>    0.252</td> <td>   -4.342</td> <td> 0.000</td> <td>   -1.593</td> <td>   -0.595</td>\n",
              "</tr>\n",
              "<tr>\n",
              "  <th>Population</th>        <td>-1.698e-08</td> <td>  8.1e-09</td> <td>   -2.096</td> <td> 0.038</td> <td> -3.3e-08</td> <td>-9.36e-10</td>\n",
              "</tr>\n",
              "<tr>\n",
              "  <th>Income_Index</th>      <td>   24.0067</td> <td>    3.117</td> <td>    7.701</td> <td> 0.000</td> <td>   17.833</td> <td>   30.181</td>\n",
              "</tr>\n",
              "<tr>\n",
              "  <th>Status_Developing</th> <td>   -2.6723</td> <td>    1.077</td> <td>   -2.481</td> <td> 0.015</td> <td>   -4.806</td> <td>   -0.539</td>\n",
              "</tr>\n",
              "</table>\n",
              "<table class=\"simpletable\">\n",
              "<tr>\n",
              "  <th>Omnibus:</th>       <td>10.733</td> <th>  Durbin-Watson:     </th> <td>   1.751</td>\n",
              "</tr>\n",
              "<tr>\n",
              "  <th>Prob(Omnibus):</th> <td> 0.005</td> <th>  Jarque-Bera (JB):  </th> <td>  21.171</td>\n",
              "</tr>\n",
              "<tr>\n",
              "  <th>Skew:</th>          <td> 0.288</td> <th>  Prob(JB):          </th> <td>2.53e-05</td>\n",
              "</tr>\n",
              "<tr>\n",
              "  <th>Kurtosis:</th>      <td> 4.941</td> <th>  Cond. No.          </th> <td>6.00e+08</td>\n",
              "</tr>\n",
              "</table><br/><br/>Warnings:<br/>[1] Standard Errors assume that the covariance matrix of the errors is correctly specified.<br/>[2] The condition number is large,  6e+08. This might indicate that there are<br/>strong multicollinearity or other numerical problems."
            ],
            "text/plain": [
              "<class 'statsmodels.iolib.summary.Summary'>\n",
              "\"\"\"\n",
              "                            OLS Regression Results                            \n",
              "==============================================================================\n",
              "Dep. Variable:               Expected   R-squared:                       0.834\n",
              "Model:                            OLS   Adj. R-squared:                  0.825\n",
              "Method:                 Least Squares   F-statistic:                     97.84\n",
              "Date:                Thu, 28 Jan 2021   Prob (F-statistic):           3.20e-43\n",
              "Time:                        11:58:37   Log-Likelihood:                -329.08\n",
              "No. Observations:                 124   AIC:                             672.2\n",
              "Df Residuals:                     117   BIC:                             691.9\n",
              "Df Model:                           6                                         \n",
              "Covariance Type:            nonrobust                                         \n",
              "=====================================================================================\n",
              "                        coef    std err          t      P>|t|      [0.025      0.975]\n",
              "-------------------------------------------------------------------------------------\n",
              "const                58.9027      3.005     19.603      0.000      52.952      64.853\n",
              "Adult_Mortality      -0.0235      0.004     -5.950      0.000      -0.031      -0.016\n",
              "Hepatitis             0.0353      0.016      2.237      0.027       0.004       0.067\n",
              "HIV                  -1.0942      0.252     -4.342      0.000      -1.593      -0.595\n",
              "Population        -1.698e-08    8.1e-09     -2.096      0.038    -3.3e-08   -9.36e-10\n",
              "Income_Index         24.0067      3.117      7.701      0.000      17.833      30.181\n",
              "Status_Developing    -2.6723      1.077     -2.481      0.015      -4.806      -0.539\n",
              "==============================================================================\n",
              "Omnibus:                       10.733   Durbin-Watson:                   1.751\n",
              "Prob(Omnibus):                  0.005   Jarque-Bera (JB):               21.171\n",
              "Skew:                           0.288   Prob(JB):                     2.53e-05\n",
              "Kurtosis:                       4.941   Cond. No.                     6.00e+08\n",
              "==============================================================================\n",
              "\n",
              "Warnings:\n",
              "[1] Standard Errors assume that the covariance matrix of the errors is correctly specified.\n",
              "[2] The condition number is large,  6e+08. This might indicate that there are\n",
              "strong multicollinearity or other numerical problems.\n",
              "\"\"\""
            ]
          },
          "metadata": {
            "tags": []
          },
          "execution_count": 42
        }
      ]
    },
    {
      "cell_type": "code",
      "metadata": {
        "colab": {
          "base_uri": "https://localhost:8080/",
          "height": 295
        },
        "id": "lFY8RJeW3BIm",
        "outputId": "a275c37d-7c26-4a13-954d-c2adb40e6fc6"
      },
      "source": [
        "residuals=model.resid\r\n",
        "import scipy.stats as stats\r\n",
        "stats.probplot(residuals, plot=plt)\r\n",
        "plt.show()"
      ],
      "execution_count": null,
      "outputs": [
        {
          "output_type": "display_data",
          "data": {
            "image/png": "[encoded data removed]",
            "text/plain": [
              "<Figure size 432x288 with 1 Axes>"
            ]
          },
          "metadata": {
            "tags": []
          }
        }
      ]
    },
    {
      "cell_type": "code",
      "metadata": {
        "colab": {
          "base_uri": "https://localhost:8080/"
        },
        "id": "7k45piPB3Yvf",
        "outputId": "2cd8eff3-1361-4794-a666-78724f54d4f7"
      },
      "source": [
        "print(stats.jarque_bera(residuals))"
      ],
      "execution_count": null,
      "outputs": [
        {
          "output_type": "stream",
          "text": [
            "(21.170763466902123, 2.5282913820201536e-05)\n"
          ],
          "name": "stdout"
        }
      ]
    },
    {
      "cell_type": "markdown",
      "metadata": {
        "id": "ZMRS33hA3lG3"
      },
      "source": [
        "H0: Data is normal\r\n",
        "H1: Data is not normal\r\n",
        "\r\n",
        "p value is less than significant level so data is not normal"
      ]
    },
    {
      "cell_type": "markdown",
      "metadata": {
        "collapsed": true,
        "id": "n8NfolaMCpye"
      },
      "source": [
        "<table align=\"left\">\n",
        "    <tr>\n",
        "        <td width=\"6%\">\n",
        "            <img src=\"question_icon.png\">\n",
        "        </td>\n",
        "        <td>\n",
        "            <div align=\"left\", style=\"font-size:120%\">\n",
        "                <font color=\"#21618C\">\n",
        "                        <b>11. Does the interaction of status of the country and its GDP have significant effect on life expectancy? (consider the full model)</b>\n",
        "                </font>\n",
        "            </div>\n",
        "        </td>\n",
        "    </tr>\n",
        "</table>"
      ]
    },
    {
      "cell_type": "code",
      "metadata": {
        "id": "0dM0nMLBCpyf",
        "colab": {
          "base_uri": "https://localhost:8080/",
          "height": 814
        },
        "outputId": "008c5e8a-aaa1-4f3e-9441-d0d576b50d27"
      },
      "source": [
        "# type your code here\r\n",
        "\r\n",
        "y= df['Expected']\r\n",
        "x=df.drop('Expected', axis=1)\r\n",
        "\r\n",
        "#xc=sm.add_constant(x)\r\n",
        "\r\n",
        "x['status_gdp']=x['GDP']*x['Status_Developing']\r\n",
        "xc=sm.add_constant(x)\r\n",
        "\r\n",
        "model=sm.OLS(y,xc).fit()\r\n",
        "model.summary()"
      ],
      "execution_count": null,
      "outputs": [
        {
          "output_type": "execute_result",
          "data": {
            "text/html": [
              "<table class=\"simpletable\">\n",
              "<caption>OLS Regression Results</caption>\n",
              "<tr>\n",
              "  <th>Dep. Variable:</th>        <td>Expected</td>     <th>  R-squared:         </th> <td>   0.853</td>\n",
              "</tr>\n",
              "<tr>\n",
              "  <th>Model:</th>                   <td>OLS</td>       <th>  Adj. R-squared:    </th> <td>   0.830</td>\n",
              "</tr>\n",
              "<tr>\n",
              "  <th>Method:</th>             <td>Least Squares</td>  <th>  F-statistic:       </th> <td>   36.30</td>\n",
              "</tr>\n",
              "<tr>\n",
              "  <th>Date:</th>             <td>Thu, 28 Jan 2021</td> <th>  Prob (F-statistic):</th> <td>2.14e-36</td>\n",
              "</tr>\n",
              "<tr>\n",
              "  <th>Time:</th>                 <td>12:08:29</td>     <th>  Log-Likelihood:    </th> <td> -321.30</td>\n",
              "</tr>\n",
              "<tr>\n",
              "  <th>No. Observations:</th>      <td>   124</td>      <th>  AIC:               </th> <td>   678.6</td>\n",
              "</tr>\n",
              "<tr>\n",
              "  <th>Df Residuals:</th>          <td>   106</td>      <th>  BIC:               </th> <td>   729.4</td>\n",
              "</tr>\n",
              "<tr>\n",
              "  <th>Df Model:</th>              <td>    17</td>      <th>                     </th>     <td> </td>   \n",
              "</tr>\n",
              "<tr>\n",
              "  <th>Covariance Type:</th>      <td>nonrobust</td>    <th>                     </th>     <td> </td>   \n",
              "</tr>\n",
              "</table>\n",
              "<table class=\"simpletable\">\n",
              "<tr>\n",
              "          <td></td>             <th>coef</th>     <th>std err</th>      <th>t</th>      <th>P>|t|</th>  <th>[0.025</th>    <th>0.975]</th>  \n",
              "</tr>\n",
              "<tr>\n",
              "  <th>const</th>             <td>   62.5466</td> <td>    3.925</td> <td>   15.935</td> <td> 0.000</td> <td>   54.765</td> <td>   70.328</td>\n",
              "</tr>\n",
              "<tr>\n",
              "  <th>Adult_Mortality</th>   <td>   -0.0228</td> <td>    0.004</td> <td>   -5.680</td> <td> 0.000</td> <td>   -0.031</td> <td>   -0.015</td>\n",
              "</tr>\n",
              "<tr>\n",
              "  <th>Infant_Deaths</th>     <td>    0.0564</td> <td>    0.036</td> <td>    1.547</td> <td> 0.125</td> <td>   -0.016</td> <td>    0.129</td>\n",
              "</tr>\n",
              "<tr>\n",
              "  <th>Hepatitis</th>         <td>    0.0715</td> <td>    0.032</td> <td>    2.259</td> <td> 0.026</td> <td>    0.009</td> <td>    0.134</td>\n",
              "</tr>\n",
              "<tr>\n",
              "  <th>Measles</th>           <td>-5.287e-05</td> <td> 6.03e-05</td> <td>   -0.877</td> <td> 0.382</td> <td>   -0.000</td> <td> 6.66e-05</td>\n",
              "</tr>\n",
              "<tr>\n",
              "  <th>BMI</th>               <td>   -0.0291</td> <td>    0.022</td> <td>   -1.306</td> <td> 0.194</td> <td>   -0.073</td> <td>    0.015</td>\n",
              "</tr>\n",
              "<tr>\n",
              "  <th>Underfive_Deaths</th>  <td>   -0.0401</td> <td>    0.027</td> <td>   -1.497</td> <td> 0.137</td> <td>   -0.093</td> <td>    0.013</td>\n",
              "</tr>\n",
              "<tr>\n",
              "  <th>Polio</th>             <td>   -0.0056</td> <td>    0.022</td> <td>   -0.258</td> <td> 0.797</td> <td>   -0.049</td> <td>    0.037</td>\n",
              "</tr>\n",
              "<tr>\n",
              "  <th>Diphtheria</th>        <td>   -0.0446</td> <td>    0.040</td> <td>   -1.124</td> <td> 0.264</td> <td>   -0.123</td> <td>    0.034</td>\n",
              "</tr>\n",
              "<tr>\n",
              "  <th>HIV</th>               <td>   -1.0748</td> <td>    0.265</td> <td>   -4.054</td> <td> 0.000</td> <td>   -1.600</td> <td>   -0.549</td>\n",
              "</tr>\n",
              "<tr>\n",
              "  <th>GDP</th>               <td>-7.939e-06</td> <td>  4.6e-05</td> <td>   -0.173</td> <td> 0.863</td> <td>-9.91e-05</td> <td> 8.32e-05</td>\n",
              "</tr>\n",
              "<tr>\n",
              "  <th>Population</th>        <td>-1.612e-08</td> <td> 8.58e-09</td> <td>   -1.878</td> <td> 0.063</td> <td>-3.31e-08</td> <td> 8.96e-10</td>\n",
              "</tr>\n",
              "<tr>\n",
              "  <th>Malnourished10_19</th> <td>   -0.4757</td> <td>    0.297</td> <td>   -1.604</td> <td> 0.112</td> <td>   -1.064</td> <td>    0.112</td>\n",
              "</tr>\n",
              "<tr>\n",
              "  <th>Malnourished5_9</th>   <td>    0.2995</td> <td>    0.280</td> <td>    1.071</td> <td> 0.287</td> <td>   -0.255</td> <td>    0.854</td>\n",
              "</tr>\n",
              "<tr>\n",
              "  <th>Income_Index</th>      <td>   15.9884</td> <td>    6.392</td> <td>    2.501</td> <td> 0.014</td> <td>    3.315</td> <td>   28.662</td>\n",
              "</tr>\n",
              "<tr>\n",
              "  <th>Schooling</th>         <td>    0.4188</td> <td>    0.343</td> <td>    1.220</td> <td> 0.225</td> <td>   -0.262</td> <td>    1.099</td>\n",
              "</tr>\n",
              "<tr>\n",
              "  <th>Status_Developing</th> <td>   -3.8250</td> <td>    1.489</td> <td>   -2.569</td> <td> 0.012</td> <td>   -6.777</td> <td>   -0.873</td>\n",
              "</tr>\n",
              "<tr>\n",
              "  <th>status_gdp</th>        <td>    0.0001</td> <td>  6.8e-05</td> <td>    1.902</td> <td> 0.060</td> <td> -5.5e-06</td> <td>    0.000</td>\n",
              "</tr>\n",
              "</table>\n",
              "<table class=\"simpletable\">\n",
              "<tr>\n",
              "  <th>Omnibus:</th>       <td> 4.411</td> <th>  Durbin-Watson:     </th> <td>   1.813</td>\n",
              "</tr>\n",
              "<tr>\n",
              "  <th>Prob(Omnibus):</th> <td> 0.110</td> <th>  Jarque-Bera (JB):  </th> <td>   5.490</td>\n",
              "</tr>\n",
              "<tr>\n",
              "  <th>Skew:</th>          <td> 0.109</td> <th>  Prob(JB):          </th> <td>  0.0642</td>\n",
              "</tr>\n",
              "<tr>\n",
              "  <th>Kurtosis:</th>      <td> 4.008</td> <th>  Cond. No.          </th> <td>9.48e+08</td>\n",
              "</tr>\n",
              "</table><br/><br/>Warnings:<br/>[1] Standard Errors assume that the covariance matrix of the errors is correctly specified.<br/>[2] The condition number is large, 9.48e+08. This might indicate that there are<br/>strong multicollinearity or other numerical problems."
            ],
            "text/plain": [
              "<class 'statsmodels.iolib.summary.Summary'>\n",
              "\"\"\"\n",
              "                            OLS Regression Results                            \n",
              "==============================================================================\n",
              "Dep. Variable:               Expected   R-squared:                       0.853\n",
              "Model:                            OLS   Adj. R-squared:                  0.830\n",
              "Method:                 Least Squares   F-statistic:                     36.30\n",
              "Date:                Thu, 28 Jan 2021   Prob (F-statistic):           2.14e-36\n",
              "Time:                        12:08:29   Log-Likelihood:                -321.30\n",
              "No. Observations:                 124   AIC:                             678.6\n",
              "Df Residuals:                     106   BIC:                             729.4\n",
              "Df Model:                          17                                         \n",
              "Covariance Type:            nonrobust                                         \n",
              "=====================================================================================\n",
              "                        coef    std err          t      P>|t|      [0.025      0.975]\n",
              "-------------------------------------------------------------------------------------\n",
              "const                62.5466      3.925     15.935      0.000      54.765      70.328\n",
              "Adult_Mortality      -0.0228      0.004     -5.680      0.000      -0.031      -0.015\n",
              "Infant_Deaths         0.0564      0.036      1.547      0.125      -0.016       0.129\n",
              "Hepatitis             0.0715      0.032      2.259      0.026       0.009       0.134\n",
              "Measles           -5.287e-05   6.03e-05     -0.877      0.382      -0.000    6.66e-05\n",
              "BMI                  -0.0291      0.022     -1.306      0.194      -0.073       0.015\n",
              "Underfive_Deaths     -0.0401      0.027     -1.497      0.137      -0.093       0.013\n",
              "Polio                -0.0056      0.022     -0.258      0.797      -0.049       0.037\n",
              "Diphtheria           -0.0446      0.040     -1.124      0.264      -0.123       0.034\n",
              "HIV                  -1.0748      0.265     -4.054      0.000      -1.600      -0.549\n",
              "GDP               -7.939e-06    4.6e-05     -0.173      0.863   -9.91e-05    8.32e-05\n",
              "Population        -1.612e-08   8.58e-09     -1.878      0.063   -3.31e-08    8.96e-10\n",
              "Malnourished10_19    -0.4757      0.297     -1.604      0.112      -1.064       0.112\n",
              "Malnourished5_9       0.2995      0.280      1.071      0.287      -0.255       0.854\n",
              "Income_Index         15.9884      6.392      2.501      0.014       3.315      28.662\n",
              "Schooling             0.4188      0.343      1.220      0.225      -0.262       1.099\n",
              "Status_Developing    -3.8250      1.489     -2.569      0.012      -6.777      -0.873\n",
              "status_gdp            0.0001    6.8e-05      1.902      0.060    -5.5e-06       0.000\n",
              "==============================================================================\n",
              "Omnibus:                        4.411   Durbin-Watson:                   1.813\n",
              "Prob(Omnibus):                  0.110   Jarque-Bera (JB):                5.490\n",
              "Skew:                           0.109   Prob(JB):                       0.0642\n",
              "Kurtosis:                       4.008   Cond. No.                     9.48e+08\n",
              "==============================================================================\n",
              "\n",
              "Warnings:\n",
              "[1] Standard Errors assume that the covariance matrix of the errors is correctly specified.\n",
              "[2] The condition number is large, 9.48e+08. This might indicate that there are\n",
              "strong multicollinearity or other numerical problems.\n",
              "\"\"\""
            ]
          },
          "metadata": {
            "tags": []
          },
          "execution_count": 49
        }
      ]
    },
    {
      "cell_type": "code",
      "metadata": {
        "id": "BDnW9yzc5ElI"
      },
      "source": [
        "#type the code for backward elimination"
      ],
      "execution_count": null,
      "outputs": []
    },
    {
      "cell_type": "code",
      "metadata": {
        "id": "ZroAif6f5mEA"
      },
      "source": [
        ""
      ],
      "execution_count": null,
      "outputs": []
    },
    {
      "cell_type": "code",
      "metadata": {
        "id": "HHbe1P1l5tHn"
      },
      "source": [
        "cols2=['const','Adult_Mortality', 'Hepatitis', 'HIV', 'Income_Index','status_gdp','Status_Developing']"
      ],
      "execution_count": null,
      "outputs": []
    },
    {
      "cell_type": "code",
      "metadata": {
        "colab": {
          "base_uri": "https://localhost:8080/",
          "height": 583
        },
        "id": "YHuOTgRG5isL",
        "outputId": "d31fb2d0-8d68-4aa3-b782-d44364ebe531"
      },
      "source": [
        "model=sm.OLS(y,xc[cols2]).fit()\r\n",
        "model.summary()"
      ],
      "execution_count": null,
      "outputs": [
        {
          "output_type": "execute_result",
          "data": {
            "text/html": [
              "<table class=\"simpletable\">\n",
              "<caption>OLS Regression Results</caption>\n",
              "<tr>\n",
              "  <th>Dep. Variable:</th>        <td>Expected</td>     <th>  R-squared:         </th> <td>   0.835</td>\n",
              "</tr>\n",
              "<tr>\n",
              "  <th>Model:</th>                   <td>OLS</td>       <th>  Adj. R-squared:    </th> <td>   0.827</td>\n",
              "</tr>\n",
              "<tr>\n",
              "  <th>Method:</th>             <td>Least Squares</td>  <th>  F-statistic:       </th> <td>   98.72</td>\n",
              "</tr>\n",
              "<tr>\n",
              "  <th>Date:</th>             <td>Thu, 28 Jan 2021</td> <th>  Prob (F-statistic):</th> <td>2.07e-43</td>\n",
              "</tr>\n",
              "<tr>\n",
              "  <th>Time:</th>                 <td>12:11:16</td>     <th>  Log-Likelihood:    </th> <td> -328.62</td>\n",
              "</tr>\n",
              "<tr>\n",
              "  <th>No. Observations:</th>      <td>   124</td>      <th>  AIC:               </th> <td>   671.2</td>\n",
              "</tr>\n",
              "<tr>\n",
              "  <th>Df Residuals:</th>          <td>   117</td>      <th>  BIC:               </th> <td>   691.0</td>\n",
              "</tr>\n",
              "<tr>\n",
              "  <th>Df Model:</th>              <td>     6</td>      <th>                     </th>     <td> </td>   \n",
              "</tr>\n",
              "<tr>\n",
              "  <th>Covariance Type:</th>      <td>nonrobust</td>    <th>                     </th>     <td> </td>   \n",
              "</tr>\n",
              "</table>\n",
              "<table class=\"simpletable\">\n",
              "<tr>\n",
              "          <td></td>             <th>coef</th>     <th>std err</th>      <th>t</th>      <th>P>|t|</th>  <th>[0.025</th>    <th>0.975]</th>  \n",
              "</tr>\n",
              "<tr>\n",
              "  <th>const</th>             <td>   62.7917</td> <td>    3.237</td> <td>   19.400</td> <td> 0.000</td> <td>   56.382</td> <td>   69.202</td>\n",
              "</tr>\n",
              "<tr>\n",
              "  <th>Adult_Mortality</th>   <td>   -0.0244</td> <td>    0.004</td> <td>   -6.281</td> <td> 0.000</td> <td>   -0.032</td> <td>   -0.017</td>\n",
              "</tr>\n",
              "<tr>\n",
              "  <th>Hepatitis</th>         <td>    0.0364</td> <td>    0.016</td> <td>    2.314</td> <td> 0.022</td> <td>    0.005</td> <td>    0.068</td>\n",
              "</tr>\n",
              "<tr>\n",
              "  <th>HIV</th>               <td>   -1.1482</td> <td>    0.254</td> <td>   -4.527</td> <td> 0.000</td> <td>   -1.650</td> <td>   -0.646</td>\n",
              "</tr>\n",
              "<tr>\n",
              "  <th>Income_Index</th>      <td>   19.3846</td> <td>    3.443</td> <td>    5.630</td> <td> 0.000</td> <td>   12.566</td> <td>   26.203</td>\n",
              "</tr>\n",
              "<tr>\n",
              "  <th>status_gdp</th>        <td>    0.0001</td> <td> 5.02e-05</td> <td>    2.303</td> <td> 0.023</td> <td> 1.62e-05</td> <td>    0.000</td>\n",
              "</tr>\n",
              "<tr>\n",
              "  <th>Status_Developing</th> <td>   -4.4000</td> <td>    1.236</td> <td>   -3.559</td> <td> 0.001</td> <td>   -6.849</td> <td>   -1.951</td>\n",
              "</tr>\n",
              "</table>\n",
              "<table class=\"simpletable\">\n",
              "<tr>\n",
              "  <th>Omnibus:</th>       <td> 3.626</td> <th>  Durbin-Watson:     </th> <td>   1.723</td>\n",
              "</tr>\n",
              "<tr>\n",
              "  <th>Prob(Omnibus):</th> <td> 0.163</td> <th>  Jarque-Bera (JB):  </th> <td>   4.016</td>\n",
              "</tr>\n",
              "<tr>\n",
              "  <th>Skew:</th>          <td> 0.104</td> <th>  Prob(JB):          </th> <td>   0.134</td>\n",
              "</tr>\n",
              "<tr>\n",
              "  <th>Kurtosis:</th>      <td> 3.857</td> <th>  Cond. No.          </th> <td>1.31e+05</td>\n",
              "</tr>\n",
              "</table><br/><br/>Warnings:<br/>[1] Standard Errors assume that the covariance matrix of the errors is correctly specified.<br/>[2] The condition number is large, 1.31e+05. This might indicate that there are<br/>strong multicollinearity or other numerical problems."
            ],
            "text/plain": [
              "<class 'statsmodels.iolib.summary.Summary'>\n",
              "\"\"\"\n",
              "                            OLS Regression Results                            \n",
              "==============================================================================\n",
              "Dep. Variable:               Expected   R-squared:                       0.835\n",
              "Model:                            OLS   Adj. R-squared:                  0.827\n",
              "Method:                 Least Squares   F-statistic:                     98.72\n",
              "Date:                Thu, 28 Jan 2021   Prob (F-statistic):           2.07e-43\n",
              "Time:                        12:11:16   Log-Likelihood:                -328.62\n",
              "No. Observations:                 124   AIC:                             671.2\n",
              "Df Residuals:                     117   BIC:                             691.0\n",
              "Df Model:                           6                                         \n",
              "Covariance Type:            nonrobust                                         \n",
              "=====================================================================================\n",
              "                        coef    std err          t      P>|t|      [0.025      0.975]\n",
              "-------------------------------------------------------------------------------------\n",
              "const                62.7917      3.237     19.400      0.000      56.382      69.202\n",
              "Adult_Mortality      -0.0244      0.004     -6.281      0.000      -0.032      -0.017\n",
              "Hepatitis             0.0364      0.016      2.314      0.022       0.005       0.068\n",
              "HIV                  -1.1482      0.254     -4.527      0.000      -1.650      -0.646\n",
              "Income_Index         19.3846      3.443      5.630      0.000      12.566      26.203\n",
              "status_gdp            0.0001   5.02e-05      2.303      0.023    1.62e-05       0.000\n",
              "Status_Developing    -4.4000      1.236     -3.559      0.001      -6.849      -1.951\n",
              "==============================================================================\n",
              "Omnibus:                        3.626   Durbin-Watson:                   1.723\n",
              "Prob(Omnibus):                  0.163   Jarque-Bera (JB):                4.016\n",
              "Skew:                           0.104   Prob(JB):                        0.134\n",
              "Kurtosis:                       3.857   Cond. No.                     1.31e+05\n",
              "==============================================================================\n",
              "\n",
              "Warnings:\n",
              "[1] Standard Errors assume that the covariance matrix of the errors is correctly specified.\n",
              "[2] The condition number is large, 1.31e+05. This might indicate that there are\n",
              "strong multicollinearity or other numerical problems.\n",
              "\"\"\""
            ]
          },
          "metadata": {
            "tags": []
          },
          "execution_count": 51
        }
      ]
    },
    {
      "cell_type": "code",
      "metadata": {
        "colab": {
          "base_uri": "https://localhost:8080/",
          "height": 255
        },
        "id": "NGNDj-C_4lkc",
        "outputId": "fa380609-e45b-4294-a38c-f3da4e8421dd"
      },
      "source": [
        "x.head()"
      ],
      "execution_count": null,
      "outputs": [
        {
          "output_type": "execute_result",
          "data": {
            "text/html": [
              "<div>\n",
              "<style scoped>\n",
              "    .dataframe tbody tr th:only-of-type {\n",
              "        vertical-align: middle;\n",
              "    }\n",
              "\n",
              "    .dataframe tbody tr th {\n",
              "        vertical-align: top;\n",
              "    }\n",
              "\n",
              "    .dataframe thead th {\n",
              "        text-align: right;\n",
              "    }\n",
              "</style>\n",
              "<table border=\"1\" class=\"dataframe\">\n",
              "  <thead>\n",
              "    <tr style=\"text-align: right;\">\n",
              "      <th></th>\n",
              "      <th>Adult_Mortality</th>\n",
              "      <th>Infant_Deaths</th>\n",
              "      <th>Hepatitis</th>\n",
              "      <th>Measles</th>\n",
              "      <th>BMI</th>\n",
              "      <th>Underfive_Deaths</th>\n",
              "      <th>Polio</th>\n",
              "      <th>Diphtheria</th>\n",
              "      <th>HIV</th>\n",
              "      <th>GDP</th>\n",
              "      <th>Population</th>\n",
              "      <th>Malnourished10_19</th>\n",
              "      <th>Malnourished5_9</th>\n",
              "      <th>Income_Index</th>\n",
              "      <th>Schooling</th>\n",
              "      <th>Status_Developing</th>\n",
              "      <th>status_gdp</th>\n",
              "    </tr>\n",
              "    <tr>\n",
              "      <th>Country</th>\n",
              "      <th></th>\n",
              "      <th></th>\n",
              "      <th></th>\n",
              "      <th></th>\n",
              "      <th></th>\n",
              "      <th></th>\n",
              "      <th></th>\n",
              "      <th></th>\n",
              "      <th></th>\n",
              "      <th></th>\n",
              "      <th></th>\n",
              "      <th></th>\n",
              "      <th></th>\n",
              "      <th></th>\n",
              "      <th></th>\n",
              "      <th></th>\n",
              "      <th></th>\n",
              "    </tr>\n",
              "  </thead>\n",
              "  <tbody>\n",
              "    <tr>\n",
              "      <th>Afghanistan</th>\n",
              "      <td>263</td>\n",
              "      <td>62</td>\n",
              "      <td>65</td>\n",
              "      <td>1154</td>\n",
              "      <td>19.1</td>\n",
              "      <td>83</td>\n",
              "      <td>6</td>\n",
              "      <td>65</td>\n",
              "      <td>0.1</td>\n",
              "      <td>584.259210</td>\n",
              "      <td>33736494</td>\n",
              "      <td>17.2</td>\n",
              "      <td>17.3</td>\n",
              "      <td>0.479</td>\n",
              "      <td>10.1</td>\n",
              "      <td>1</td>\n",
              "      <td>584.259210</td>\n",
              "    </tr>\n",
              "    <tr>\n",
              "      <th>Albania</th>\n",
              "      <td>8</td>\n",
              "      <td>0</td>\n",
              "      <td>98</td>\n",
              "      <td>0</td>\n",
              "      <td>57.2</td>\n",
              "      <td>1</td>\n",
              "      <td>98</td>\n",
              "      <td>98</td>\n",
              "      <td>0.1</td>\n",
              "      <td>4575.763787</td>\n",
              "      <td>288914</td>\n",
              "      <td>1.2</td>\n",
              "      <td>1.3</td>\n",
              "      <td>0.761</td>\n",
              "      <td>14.2</td>\n",
              "      <td>1</td>\n",
              "      <td>4575.763787</td>\n",
              "    </tr>\n",
              "    <tr>\n",
              "      <th>Algeria</th>\n",
              "      <td>19</td>\n",
              "      <td>21</td>\n",
              "      <td>95</td>\n",
              "      <td>63</td>\n",
              "      <td>59.5</td>\n",
              "      <td>24</td>\n",
              "      <td>95</td>\n",
              "      <td>95</td>\n",
              "      <td>0.1</td>\n",
              "      <td>4132.762920</td>\n",
              "      <td>39871528</td>\n",
              "      <td>6.0</td>\n",
              "      <td>5.8</td>\n",
              "      <td>0.743</td>\n",
              "      <td>14.4</td>\n",
              "      <td>1</td>\n",
              "      <td>4132.762920</td>\n",
              "    </tr>\n",
              "    <tr>\n",
              "      <th>Angola</th>\n",
              "      <td>335</td>\n",
              "      <td>66</td>\n",
              "      <td>64</td>\n",
              "      <td>118</td>\n",
              "      <td>23.3</td>\n",
              "      <td>98</td>\n",
              "      <td>7</td>\n",
              "      <td>64</td>\n",
              "      <td>1.9</td>\n",
              "      <td>3695.793748</td>\n",
              "      <td>2785935</td>\n",
              "      <td>8.3</td>\n",
              "      <td>8.2</td>\n",
              "      <td>0.531</td>\n",
              "      <td>11.4</td>\n",
              "      <td>1</td>\n",
              "      <td>3695.793748</td>\n",
              "    </tr>\n",
              "    <tr>\n",
              "      <th>Argentina</th>\n",
              "      <td>116</td>\n",
              "      <td>8</td>\n",
              "      <td>94</td>\n",
              "      <td>0</td>\n",
              "      <td>62.8</td>\n",
              "      <td>9</td>\n",
              "      <td>93</td>\n",
              "      <td>94</td>\n",
              "      <td>0.1</td>\n",
              "      <td>13467.123600</td>\n",
              "      <td>43417765</td>\n",
              "      <td>1.0</td>\n",
              "      <td>0.9</td>\n",
              "      <td>0.826</td>\n",
              "      <td>17.3</td>\n",
              "      <td>1</td>\n",
              "      <td>13467.123600</td>\n",
              "    </tr>\n",
              "  </tbody>\n",
              "</table>\n",
              "</div>"
            ],
            "text/plain": [
              "             Adult_Mortality  Infant_Deaths  ...  Status_Developing    status_gdp\n",
              "Country                                      ...                                 \n",
              "Afghanistan              263             62  ...                  1    584.259210\n",
              "Albania                    8              0  ...                  1   4575.763787\n",
              "Algeria                   19             21  ...                  1   4132.762920\n",
              "Angola                   335             66  ...                  1   3695.793748\n",
              "Argentina                116              8  ...                  1  13467.123600\n",
              "\n",
              "[5 rows x 17 columns]"
            ]
          },
          "metadata": {
            "tags": []
          },
          "execution_count": 46
        }
      ]
    },
    {
      "cell_type": "code",
      "metadata": {
        "colab": {
          "base_uri": "https://localhost:8080/",
          "height": 583
        },
        "id": "CbbIiDr64sUU",
        "outputId": "611d2b01-51fb-4476-c6d1-102addc61209"
      },
      "source": [
        "\r\n",
        "y= df['Expected']\r\n",
        "x=df.drop('Expected', axis=1)\r\n",
        "\r\n",
        "xc=sm.add_constant(x)\r\n",
        "\r\n",
        "model=sm.OLS(y,xc[cols]).fit()\r\n",
        "model.summary()"
      ],
      "execution_count": null,
      "outputs": [
        {
          "output_type": "execute_result",
          "data": {
            "text/html": [
              "<table class=\"simpletable\">\n",
              "<caption>OLS Regression Results</caption>\n",
              "<tr>\n",
              "  <th>Dep. Variable:</th>        <td>Expected</td>     <th>  R-squared:         </th> <td>   0.834</td>\n",
              "</tr>\n",
              "<tr>\n",
              "  <th>Model:</th>                   <td>OLS</td>       <th>  Adj. R-squared:    </th> <td>   0.825</td>\n",
              "</tr>\n",
              "<tr>\n",
              "  <th>Method:</th>             <td>Least Squares</td>  <th>  F-statistic:       </th> <td>   97.84</td>\n",
              "</tr>\n",
              "<tr>\n",
              "  <th>Date:</th>             <td>Thu, 28 Jan 2021</td> <th>  Prob (F-statistic):</th> <td>3.20e-43</td>\n",
              "</tr>\n",
              "<tr>\n",
              "  <th>Time:</th>                 <td>12:07:26</td>     <th>  Log-Likelihood:    </th> <td> -329.08</td>\n",
              "</tr>\n",
              "<tr>\n",
              "  <th>No. Observations:</th>      <td>   124</td>      <th>  AIC:               </th> <td>   672.2</td>\n",
              "</tr>\n",
              "<tr>\n",
              "  <th>Df Residuals:</th>          <td>   117</td>      <th>  BIC:               </th> <td>   691.9</td>\n",
              "</tr>\n",
              "<tr>\n",
              "  <th>Df Model:</th>              <td>     6</td>      <th>                     </th>     <td> </td>   \n",
              "</tr>\n",
              "<tr>\n",
              "  <th>Covariance Type:</th>      <td>nonrobust</td>    <th>                     </th>     <td> </td>   \n",
              "</tr>\n",
              "</table>\n",
              "<table class=\"simpletable\">\n",
              "<tr>\n",
              "          <td></td>             <th>coef</th>     <th>std err</th>      <th>t</th>      <th>P>|t|</th>  <th>[0.025</th>    <th>0.975]</th>  \n",
              "</tr>\n",
              "<tr>\n",
              "  <th>const</th>             <td>   58.9027</td> <td>    3.005</td> <td>   19.603</td> <td> 0.000</td> <td>   52.952</td> <td>   64.853</td>\n",
              "</tr>\n",
              "<tr>\n",
              "  <th>Adult_Mortality</th>   <td>   -0.0235</td> <td>    0.004</td> <td>   -5.950</td> <td> 0.000</td> <td>   -0.031</td> <td>   -0.016</td>\n",
              "</tr>\n",
              "<tr>\n",
              "  <th>Hepatitis</th>         <td>    0.0353</td> <td>    0.016</td> <td>    2.237</td> <td> 0.027</td> <td>    0.004</td> <td>    0.067</td>\n",
              "</tr>\n",
              "<tr>\n",
              "  <th>HIV</th>               <td>   -1.0942</td> <td>    0.252</td> <td>   -4.342</td> <td> 0.000</td> <td>   -1.593</td> <td>   -0.595</td>\n",
              "</tr>\n",
              "<tr>\n",
              "  <th>Population</th>        <td>-1.698e-08</td> <td>  8.1e-09</td> <td>   -2.096</td> <td> 0.038</td> <td> -3.3e-08</td> <td>-9.36e-10</td>\n",
              "</tr>\n",
              "<tr>\n",
              "  <th>Income_Index</th>      <td>   24.0067</td> <td>    3.117</td> <td>    7.701</td> <td> 0.000</td> <td>   17.833</td> <td>   30.181</td>\n",
              "</tr>\n",
              "<tr>\n",
              "  <th>Status_Developing</th> <td>   -2.6723</td> <td>    1.077</td> <td>   -2.481</td> <td> 0.015</td> <td>   -4.806</td> <td>   -0.539</td>\n",
              "</tr>\n",
              "</table>\n",
              "<table class=\"simpletable\">\n",
              "<tr>\n",
              "  <th>Omnibus:</th>       <td>10.733</td> <th>  Durbin-Watson:     </th> <td>   1.751</td>\n",
              "</tr>\n",
              "<tr>\n",
              "  <th>Prob(Omnibus):</th> <td> 0.005</td> <th>  Jarque-Bera (JB):  </th> <td>  21.171</td>\n",
              "</tr>\n",
              "<tr>\n",
              "  <th>Skew:</th>          <td> 0.288</td> <th>  Prob(JB):          </th> <td>2.53e-05</td>\n",
              "</tr>\n",
              "<tr>\n",
              "  <th>Kurtosis:</th>      <td> 4.941</td> <th>  Cond. No.          </th> <td>6.00e+08</td>\n",
              "</tr>\n",
              "</table><br/><br/>Warnings:<br/>[1] Standard Errors assume that the covariance matrix of the errors is correctly specified.<br/>[2] The condition number is large,  6e+08. This might indicate that there are<br/>strong multicollinearity or other numerical problems."
            ],
            "text/plain": [
              "<class 'statsmodels.iolib.summary.Summary'>\n",
              "\"\"\"\n",
              "                            OLS Regression Results                            \n",
              "==============================================================================\n",
              "Dep. Variable:               Expected   R-squared:                       0.834\n",
              "Model:                            OLS   Adj. R-squared:                  0.825\n",
              "Method:                 Least Squares   F-statistic:                     97.84\n",
              "Date:                Thu, 28 Jan 2021   Prob (F-statistic):           3.20e-43\n",
              "Time:                        12:07:26   Log-Likelihood:                -329.08\n",
              "No. Observations:                 124   AIC:                             672.2\n",
              "Df Residuals:                     117   BIC:                             691.9\n",
              "Df Model:                           6                                         \n",
              "Covariance Type:            nonrobust                                         \n",
              "=====================================================================================\n",
              "                        coef    std err          t      P>|t|      [0.025      0.975]\n",
              "-------------------------------------------------------------------------------------\n",
              "const                58.9027      3.005     19.603      0.000      52.952      64.853\n",
              "Adult_Mortality      -0.0235      0.004     -5.950      0.000      -0.031      -0.016\n",
              "Hepatitis             0.0353      0.016      2.237      0.027       0.004       0.067\n",
              "HIV                  -1.0942      0.252     -4.342      0.000      -1.593      -0.595\n",
              "Population        -1.698e-08    8.1e-09     -2.096      0.038    -3.3e-08   -9.36e-10\n",
              "Income_Index         24.0067      3.117      7.701      0.000      17.833      30.181\n",
              "Status_Developing    -2.6723      1.077     -2.481      0.015      -4.806      -0.539\n",
              "==============================================================================\n",
              "Omnibus:                       10.733   Durbin-Watson:                   1.751\n",
              "Prob(Omnibus):                  0.005   Jarque-Bera (JB):               21.171\n",
              "Skew:                           0.288   Prob(JB):                     2.53e-05\n",
              "Kurtosis:                       4.941   Cond. No.                     6.00e+08\n",
              "==============================================================================\n",
              "\n",
              "Warnings:\n",
              "[1] Standard Errors assume that the covariance matrix of the errors is correctly specified.\n",
              "[2] The condition number is large,  6e+08. This might indicate that there are\n",
              "strong multicollinearity or other numerical problems.\n",
              "\"\"\""
            ]
          },
          "metadata": {
            "tags": []
          },
          "execution_count": 48
        }
      ]
    },
    {
      "cell_type": "markdown",
      "metadata": {
        "id": "35ogqcDC6OXn"
      },
      "source": [
        "the interaction term is sigb=nificant but it is not omproving the model very much.\r\n",
        "\r\n",
        "R-squared increased by 0.001"
      ]
    },
    {
      "cell_type": "markdown",
      "metadata": {
        "collapsed": true,
        "id": "iimdNp_UCpyf"
      },
      "source": [
        "<table align=\"left\">\n",
        "    <tr>\n",
        "        <td width=\"6%\">\n",
        "            <img src=\"question_icon.png\">\n",
        "        </td>\n",
        "        <td>\n",
        "            <div align=\"left\", style=\"font-size:120%\">\n",
        "                <font color=\"#21618C\">\n",
        "                    <b>12. Construct a full no-intecept model. What would you conclude when all the variables take value 0? </b>\n",
        "                </font>\n",
        "            </div>\n",
        "        </td>\n",
        "    </tr>\n",
        "</table>"
      ]
    },
    {
      "cell_type": "code",
      "metadata": {
        "id": "OnALXN6VCpyf"
      },
      "source": [
        "# type your code here\r\n",
        "\r\n"
      ],
      "execution_count": null,
      "outputs": []
    },
    {
      "cell_type": "markdown",
      "metadata": {
        "id": "b3h-T6AoCpyf"
      },
      "source": [
        "### Now we shall consider the FEV dataset."
      ]
    },
    {
      "cell_type": "markdown",
      "metadata": {
        "id": "hKDKC1YwCpyg"
      },
      "source": [
        "### About the data set (Respiratory function data)\n",
        "\n",
        "Dataset consists of information about respiratory function in youths and factors that might impact the respiratory function. <br> Attribute information: \n",
        "\n",
        "**Age:** Age in years\n",
        "\n",
        "**Height (cm):** Height (cm) in cm \n",
        "\n",
        "**Sex:** Gender of a person\n",
        "\n",
        "**Smoke_habits** Whether the person is a smoker or non- smoker\n",
        "\n",
        "**FEV:**  Forced Exhalation Volume (FEV), a measure of how much air somebody can forcibly exhale from their lung (Percentage)"
      ]
    },
    {
      "cell_type": "markdown",
      "metadata": {
        "id": "U53vXWp0Cpyg"
      },
      "source": [
        "#### Load the dataset and check the first five observations"
      ]
    },
    {
      "cell_type": "code",
      "metadata": {
        "id": "6j6h3dVfCpyh"
      },
      "source": [
        "# load the csv file\n",
        "# type your code here\n",
        "\n",
        "df2=pd.read_csv('/content/FEV_data.csv')\n",
        "\n",
        "df2=pd.get_dummies(df2,columns=['Sex','Smoke_habit'],drop_first=True)"
      ],
      "execution_count": null,
      "outputs": []
    },
    {
      "cell_type": "code",
      "metadata": {
        "colab": {
          "base_uri": "https://localhost:8080/"
        },
        "id": "f-YGCmYfk-qz",
        "outputId": "3ff33992-96dd-4d60-d42c-1e4593fe8388"
      },
      "source": [
        "df2.info()"
      ],
      "execution_count": null,
      "outputs": [
        {
          "output_type": "stream",
          "text": [
            "<class 'pandas.core.frame.DataFrame'>\n",
            "RangeIndex: 654 entries, 0 to 653\n",
            "Data columns (total 5 columns):\n",
            " #   Column              Non-Null Count  Dtype  \n",
            "---  ------              --------------  -----  \n",
            " 0   Age                 654 non-null    int64  \n",
            " 1   Height (cm)         654 non-null    float64\n",
            " 2   FEV                 654 non-null    float64\n",
            " 3   Sex_M               654 non-null    uint8  \n",
            " 4   Smoke_habit_smoker  654 non-null    uint8  \n",
            "dtypes: float64(2), int64(1), uint8(2)\n",
            "memory usage: 16.7 KB\n"
          ],
          "name": "stdout"
        }
      ]
    },
    {
      "cell_type": "code",
      "metadata": {
        "colab": {
          "base_uri": "https://localhost:8080/",
          "height": 204
        },
        "id": "FNt1poiDlH5F",
        "outputId": "92054efe-d052-4dc9-9711-237502fff210"
      },
      "source": [
        "df2.head()"
      ],
      "execution_count": null,
      "outputs": [
        {
          "output_type": "execute_result",
          "data": {
            "text/html": [
              "<div>\n",
              "<style scoped>\n",
              "    .dataframe tbody tr th:only-of-type {\n",
              "        vertical-align: middle;\n",
              "    }\n",
              "\n",
              "    .dataframe tbody tr th {\n",
              "        vertical-align: top;\n",
              "    }\n",
              "\n",
              "    .dataframe thead th {\n",
              "        text-align: right;\n",
              "    }\n",
              "</style>\n",
              "<table border=\"1\" class=\"dataframe\">\n",
              "  <thead>\n",
              "    <tr style=\"text-align: right;\">\n",
              "      <th></th>\n",
              "      <th>Age</th>\n",
              "      <th>Height (cm)</th>\n",
              "      <th>FEV</th>\n",
              "      <th>Sex_M</th>\n",
              "      <th>Smoke_habit_smoker</th>\n",
              "    </tr>\n",
              "  </thead>\n",
              "  <tbody>\n",
              "    <tr>\n",
              "      <th>0</th>\n",
              "      <td>16</td>\n",
              "      <td>157.0</td>\n",
              "      <td>1.708</td>\n",
              "      <td>0</td>\n",
              "      <td>1</td>\n",
              "    </tr>\n",
              "    <tr>\n",
              "      <th>1</th>\n",
              "      <td>17</td>\n",
              "      <td>167.5</td>\n",
              "      <td>1.724</td>\n",
              "      <td>0</td>\n",
              "      <td>1</td>\n",
              "    </tr>\n",
              "    <tr>\n",
              "      <th>2</th>\n",
              "      <td>19</td>\n",
              "      <td>154.5</td>\n",
              "      <td>1.720</td>\n",
              "      <td>0</td>\n",
              "      <td>1</td>\n",
              "    </tr>\n",
              "    <tr>\n",
              "      <th>3</th>\n",
              "      <td>16</td>\n",
              "      <td>163.0</td>\n",
              "      <td>1.558</td>\n",
              "      <td>1</td>\n",
              "      <td>1</td>\n",
              "    </tr>\n",
              "    <tr>\n",
              "      <th>4</th>\n",
              "      <td>16</td>\n",
              "      <td>157.0</td>\n",
              "      <td>1.895</td>\n",
              "      <td>1</td>\n",
              "      <td>1</td>\n",
              "    </tr>\n",
              "  </tbody>\n",
              "</table>\n",
              "</div>"
            ],
            "text/plain": [
              "   Age  Height (cm)    FEV  Sex_M  Smoke_habit_smoker\n",
              "0   16        157.0  1.708      0                   1\n",
              "1   17        167.5  1.724      0                   1\n",
              "2   19        154.5  1.720      0                   1\n",
              "3   16        163.0  1.558      1                   1\n",
              "4   16        157.0  1.895      1                   1"
            ]
          },
          "metadata": {
            "tags": []
          },
          "execution_count": 9
        }
      ]
    },
    {
      "cell_type": "markdown",
      "metadata": {
        "collapsed": true,
        "id": "YawZ3CakCpyh"
      },
      "source": [
        "<table align=\"left\">\n",
        "    <tr>\n",
        "        <td width=\"6%\">\n",
        "            <img src=\"question_icon.png\">\n",
        "        </td>\n",
        "        <td>\n",
        "            <div align=\"left\", style=\"font-size:120%\">\n",
        "                <font color=\"#21618C\">\n",
        "                    <b>13. Identify the numeric variable(s) that have highest impact on the FEV of a person</b>\n",
        "                </font>\n",
        "            </div>\n",
        "        </td>\n",
        "    </tr>\n",
        "</table>"
      ]
    },
    {
      "cell_type": "code",
      "metadata": {
        "id": "SuJTkrCoCpyh",
        "colab": {
          "base_uri": "https://localhost:8080/",
          "height": 365
        },
        "outputId": "e85f5bab-86e6-4661-9752-0644f1aa8e30"
      },
      "source": [
        "# type your code here\r\n",
        "sns.set_style('whitegrid')\r\n",
        "sns.heatmap(df2.corr(), annot=True)\r\n",
        "plt.show()"
      ],
      "execution_count": null,
      "outputs": [
        {
          "output_type": "display_data",
          "data": {
            "image/png": "[encoded data removed]",
            "text/plain": [
              "<Figure size 432x288 with 2 Axes>"
            ]
          },
          "metadata": {
            "tags": []
          }
        }
      ]
    },
    {
      "cell_type": "markdown",
      "metadata": {
        "id": "BlQZo4DEm8yD"
      },
      "source": [
        "Height has got highest correlation with fev, hence highest impact"
      ]
    },
    {
      "cell_type": "markdown",
      "metadata": {
        "collapsed": true,
        "id": "aac71wZTCpyh"
      },
      "source": [
        "<table align=\"left\">\n",
        "    <tr>\n",
        "        <td width=\"6%\">\n",
        "            <img src=\"question_icon.png\">\n",
        "        </td>\n",
        "        <td>\n",
        "            <div align=\"left\", style=\"font-size:120%\">\n",
        "                <font color=\"#21618C\">\n",
        "                    <b>14. What is the impact of smoking habit of a person on FEV?\n",
        "                    </b>\n",
        "                </font>\n",
        "            </div>\n",
        "        </td>\n",
        "    </tr>\n",
        "</table>"
      ]
    },
    {
      "cell_type": "code",
      "metadata": {
        "id": "LQJV2aMCCpyi"
      },
      "source": [
        "# type your code here\r\n",
        "\r\n",
        "# impact of smoking habit is negative on the lung capacity\r\n",
        "# correlation between fev and smoker is negative"
      ],
      "execution_count": null,
      "outputs": []
    },
    {
      "cell_type": "markdown",
      "metadata": {
        "collapsed": true,
        "id": "AXrD5TlnCpyi"
      },
      "source": [
        "<table align=\"left\">\n",
        "    <tr>\n",
        "        <td width=\"6%\">\n",
        "            <img src=\"question_icon.png\">\n",
        "        </td>\n",
        "        <td>\n",
        "            <div align=\"left\", style=\"font-size:120%\">\n",
        "                <font color=\"#21618C\">\n",
        "                    <b>15. A Linear regression model is used to analyze the impact of all possible features on respiratory function (FEV). How do we check whether there is multicollinearity present or not?</b>\n",
        "                </font>\n",
        "            </div>\n",
        "        </td>\n",
        "    </tr>\n",
        "</table>"
      ]
    },
    {
      "cell_type": "code",
      "metadata": {
        "scrolled": false,
        "id": "ymgcx2a-Cpyi",
        "colab": {
          "base_uri": "https://localhost:8080/",
          "height": 541
        },
        "outputId": "8be2d35c-23d2-49ac-d4db-9492912d92a5"
      },
      "source": [
        "# type your code here\r\n",
        "y=df2['FEV']\r\n",
        "x=df2.drop('FEV', axis=1)\r\n",
        "import statsmodels.api as sm\r\n",
        "xc=sm.add_constant(x)\r\n",
        "model=sm.OLS(y,xc).fit()\r\n",
        "model.summary()"
      ],
      "execution_count": null,
      "outputs": [
        {
          "output_type": "execute_result",
          "data": {
            "text/html": [
              "<table class=\"simpletable\">\n",
              "<caption>OLS Regression Results</caption>\n",
              "<tr>\n",
              "  <th>Dep. Variable:</th>           <td>FEV</td>       <th>  R-squared:         </th> <td>   0.701</td> \n",
              "</tr>\n",
              "<tr>\n",
              "  <th>Model:</th>                   <td>OLS</td>       <th>  Adj. R-squared:    </th> <td>   0.699</td> \n",
              "</tr>\n",
              "<tr>\n",
              "  <th>Method:</th>             <td>Least Squares</td>  <th>  F-statistic:       </th> <td>   379.5</td> \n",
              "</tr>\n",
              "<tr>\n",
              "  <th>Date:</th>             <td>Fri, 29 Jan 2021</td> <th>  Prob (F-statistic):</th> <td>2.78e-168</td>\n",
              "</tr>\n",
              "<tr>\n",
              "  <th>Time:</th>                 <td>10:11:50</td>     <th>  Log-Likelihood:    </th> <td> -439.94</td> \n",
              "</tr>\n",
              "<tr>\n",
              "  <th>No. Observations:</th>      <td>   654</td>      <th>  AIC:               </th> <td>   889.9</td> \n",
              "</tr>\n",
              "<tr>\n",
              "  <th>Df Residuals:</th>          <td>   649</td>      <th>  BIC:               </th> <td>   912.3</td> \n",
              "</tr>\n",
              "<tr>\n",
              "  <th>Df Model:</th>              <td>     4</td>      <th>                     </th>     <td> </td>    \n",
              "</tr>\n",
              "<tr>\n",
              "  <th>Covariance Type:</th>      <td>nonrobust</td>    <th>                     </th>     <td> </td>    \n",
              "</tr>\n",
              "</table>\n",
              "<table class=\"simpletable\">\n",
              "<tr>\n",
              "           <td></td>             <th>coef</th>     <th>std err</th>      <th>t</th>      <th>P>|t|</th>  <th>[0.025</th>    <th>0.975]</th>  \n",
              "</tr>\n",
              "<tr>\n",
              "  <th>const</th>              <td>  -16.5268</td> <td>    0.575</td> <td>  -28.727</td> <td> 0.000</td> <td>  -17.656</td> <td>  -15.397</td>\n",
              "</tr>\n",
              "<tr>\n",
              "  <th>Age</th>                <td>    0.0026</td> <td>    0.007</td> <td>    0.374</td> <td> 0.708</td> <td>   -0.011</td> <td>    0.016</td>\n",
              "</tr>\n",
              "<tr>\n",
              "  <th>Height (cm)</th>        <td>    0.1192</td> <td>    0.003</td> <td>   34.063</td> <td> 0.000</td> <td>    0.112</td> <td>    0.126</td>\n",
              "</tr>\n",
              "<tr>\n",
              "  <th>Sex_M</th>              <td>    0.1801</td> <td>    0.038</td> <td>    4.769</td> <td> 0.000</td> <td>    0.106</td> <td>    0.254</td>\n",
              "</tr>\n",
              "<tr>\n",
              "  <th>Smoke_habit_smoker</th> <td>   -0.2231</td> <td>    0.063</td> <td>   -3.515</td> <td> 0.000</td> <td>   -0.348</td> <td>   -0.098</td>\n",
              "</tr>\n",
              "</table>\n",
              "<table class=\"simpletable\">\n",
              "<tr>\n",
              "  <th>Omnibus:</th>       <td>113.397</td> <th>  Durbin-Watson:     </th> <td>   1.647</td> \n",
              "</tr>\n",
              "<tr>\n",
              "  <th>Prob(Omnibus):</th> <td> 0.000</td>  <th>  Jarque-Bera (JB):  </th> <td> 652.393</td> \n",
              "</tr>\n",
              "<tr>\n",
              "  <th>Skew:</th>          <td>-0.625</td>  <th>  Prob(JB):          </th> <td>2.16e-142</td>\n",
              "</tr>\n",
              "<tr>\n",
              "  <th>Kurtosis:</th>      <td> 7.730</td>  <th>  Cond. No.          </th> <td>5.03e+03</td> \n",
              "</tr>\n",
              "</table><br/><br/>Warnings:<br/>[1] Standard Errors assume that the covariance matrix of the errors is correctly specified.<br/>[2] The condition number is large, 5.03e+03. This might indicate that there are<br/>strong multicollinearity or other numerical problems."
            ],
            "text/plain": [
              "<class 'statsmodels.iolib.summary.Summary'>\n",
              "\"\"\"\n",
              "                            OLS Regression Results                            \n",
              "==============================================================================\n",
              "Dep. Variable:                    FEV   R-squared:                       0.701\n",
              "Model:                            OLS   Adj. R-squared:                  0.699\n",
              "Method:                 Least Squares   F-statistic:                     379.5\n",
              "Date:                Fri, 29 Jan 2021   Prob (F-statistic):          2.78e-168\n",
              "Time:                        10:11:50   Log-Likelihood:                -439.94\n",
              "No. Observations:                 654   AIC:                             889.9\n",
              "Df Residuals:                     649   BIC:                             912.3\n",
              "Df Model:                           4                                         \n",
              "Covariance Type:            nonrobust                                         \n",
              "======================================================================================\n",
              "                         coef    std err          t      P>|t|      [0.025      0.975]\n",
              "--------------------------------------------------------------------------------------\n",
              "const                -16.5268      0.575    -28.727      0.000     -17.656     -15.397\n",
              "Age                    0.0026      0.007      0.374      0.708      -0.011       0.016\n",
              "Height (cm)            0.1192      0.003     34.063      0.000       0.112       0.126\n",
              "Sex_M                  0.1801      0.038      4.769      0.000       0.106       0.254\n",
              "Smoke_habit_smoker    -0.2231      0.063     -3.515      0.000      -0.348      -0.098\n",
              "==============================================================================\n",
              "Omnibus:                      113.397   Durbin-Watson:                   1.647\n",
              "Prob(Omnibus):                  0.000   Jarque-Bera (JB):              652.393\n",
              "Skew:                          -0.625   Prob(JB):                    2.16e-142\n",
              "Kurtosis:                       7.730   Cond. No.                     5.03e+03\n",
              "==============================================================================\n",
              "\n",
              "Warnings:\n",
              "[1] Standard Errors assume that the covariance matrix of the errors is correctly specified.\n",
              "[2] The condition number is large, 5.03e+03. This might indicate that there are\n",
              "strong multicollinearity or other numerical problems.\n",
              "\"\"\""
            ]
          },
          "metadata": {
            "tags": []
          },
          "execution_count": 14
        }
      ]
    },
    {
      "cell_type": "code",
      "metadata": {
        "colab": {
          "base_uri": "https://localhost:8080/",
          "height": 204
        },
        "id": "N6365XlyoLdA",
        "outputId": "a69f399d-a453-4327-e93c-b9b55347a384"
      },
      "source": [
        "from statsmodels.stats.outliers_influence import variance_inflation_factor as vif\r\n",
        "vf=[vif(xc.values, i) for i in range(xc.shape[1])]\r\n",
        "pd.DataFrame(vf, index=xc.columns, columns=['vif'])"
      ],
      "execution_count": null,
      "outputs": [
        {
          "output_type": "execute_result",
          "data": {
            "text/html": [
              "<div>\n",
              "<style scoped>\n",
              "    .dataframe tbody tr th:only-of-type {\n",
              "        vertical-align: middle;\n",
              "    }\n",
              "\n",
              "    .dataframe tbody tr th {\n",
              "        vertical-align: top;\n",
              "    }\n",
              "\n",
              "    .dataframe thead th {\n",
              "        text-align: right;\n",
              "    }\n",
              "</style>\n",
              "<table border=\"1\" class=\"dataframe\">\n",
              "  <thead>\n",
              "    <tr style=\"text-align: right;\">\n",
              "      <th></th>\n",
              "      <th>vif</th>\n",
              "    </tr>\n",
              "  </thead>\n",
              "  <tbody>\n",
              "    <tr>\n",
              "      <th>const</th>\n",
              "      <td>955.517180</td>\n",
              "    </tr>\n",
              "    <tr>\n",
              "      <th>Age</th>\n",
              "      <td>1.028729</td>\n",
              "    </tr>\n",
              "    <tr>\n",
              "      <th>Height (cm)</th>\n",
              "      <td>1.160690</td>\n",
              "    </tr>\n",
              "    <tr>\n",
              "      <th>Sex_M</th>\n",
              "      <td>1.028686</td>\n",
              "    </tr>\n",
              "    <tr>\n",
              "      <th>Smoke_habit_smoker</th>\n",
              "      <td>1.111985</td>\n",
              "    </tr>\n",
              "  </tbody>\n",
              "</table>\n",
              "</div>"
            ],
            "text/plain": [
              "                           vif\n",
              "const               955.517180\n",
              "Age                   1.028729\n",
              "Height (cm)           1.160690\n",
              "Sex_M                 1.028686\n",
              "Smoke_habit_smoker    1.111985"
            ]
          },
          "metadata": {
            "tags": []
          },
          "execution_count": 18
        }
      ]
    },
    {
      "cell_type": "markdown",
      "metadata": {
        "id": "iJwWtyTqo7gp"
      },
      "source": [
        "As all vif values are less we can conclude that there is no evidence of multicollinearity"
      ]
    },
    {
      "cell_type": "code",
      "metadata": {
        "id": "glW0Aaioo0It"
      },
      "source": [
        ""
      ],
      "execution_count": null,
      "outputs": []
    },
    {
      "cell_type": "markdown",
      "metadata": {
        "collapsed": true,
        "id": "m0G3kQuzCpyi"
      },
      "source": [
        "<table align=\"left\">\n",
        "    <tr>\n",
        "        <td width=\"6%\">\n",
        "            <img src=\"question_icon.png\">\n",
        "        </td>\n",
        "        <td>\n",
        "            <div align=\"left\", style=\"font-size:120%\">\n",
        "                <font color=\"#21618C\">\n",
        "                    <b>16.  A Linear regression model is used to analyze the impact of all possible features on respiratory function (FEV). Check whether the error terms are serially independent?</b>\n",
        "                </font>\n",
        "            </div>\n",
        "        </td>\n",
        "    </tr>\n",
        "</table>"
      ]
    },
    {
      "cell_type": "code",
      "metadata": {
        "id": "tYMCo1frCpyj",
        "colab": {
          "base_uri": "https://localhost:8080/",
          "height": 520
        },
        "outputId": "c0329122-0b12-46e1-ae34-305172ce1932"
      },
      "source": [
        "# type your code here\r\n",
        "y=df2['FEV']\r\n",
        "x=df2.drop(['FEV', 'Age'],axis=1)\r\n",
        "import statsmodels.api as sm\r\n",
        "xc=sm.add_constant(x)\r\n",
        "model=sm.OLS(y,xc).fit()\r\n",
        "model.summary()"
      ],
      "execution_count": null,
      "outputs": [
        {
          "output_type": "execute_result",
          "data": {
            "text/html": [
              "<table class=\"simpletable\">\n",
              "<caption>OLS Regression Results</caption>\n",
              "<tr>\n",
              "  <th>Dep. Variable:</th>           <td>FEV</td>       <th>  R-squared:         </th> <td>   0.700</td> \n",
              "</tr>\n",
              "<tr>\n",
              "  <th>Model:</th>                   <td>OLS</td>       <th>  Adj. R-squared:    </th> <td>   0.699</td> \n",
              "</tr>\n",
              "<tr>\n",
              "  <th>Method:</th>             <td>Least Squares</td>  <th>  F-statistic:       </th> <td>   506.6</td> \n",
              "</tr>\n",
              "<tr>\n",
              "  <th>Date:</th>             <td>Fri, 29 Jan 2021</td> <th>  Prob (F-statistic):</th> <td>1.22e-169</td>\n",
              "</tr>\n",
              "<tr>\n",
              "  <th>Time:</th>                 <td>10:17:16</td>     <th>  Log-Likelihood:    </th> <td> -440.01</td> \n",
              "</tr>\n",
              "<tr>\n",
              "  <th>No. Observations:</th>      <td>   654</td>      <th>  AIC:               </th> <td>   888.0</td> \n",
              "</tr>\n",
              "<tr>\n",
              "  <th>Df Residuals:</th>          <td>   650</td>      <th>  BIC:               </th> <td>   905.9</td> \n",
              "</tr>\n",
              "<tr>\n",
              "  <th>Df Model:</th>              <td>     3</td>      <th>                     </th>     <td> </td>    \n",
              "</tr>\n",
              "<tr>\n",
              "  <th>Covariance Type:</th>      <td>nonrobust</td>    <th>                     </th>     <td> </td>    \n",
              "</tr>\n",
              "</table>\n",
              "<table class=\"simpletable\">\n",
              "<tr>\n",
              "           <td></td>             <th>coef</th>     <th>std err</th>      <th>t</th>      <th>P>|t|</th>  <th>[0.025</th>    <th>0.975]</th>  \n",
              "</tr>\n",
              "<tr>\n",
              "  <th>const</th>              <td>  -16.5147</td> <td>    0.574</td> <td>  -28.770</td> <td> 0.000</td> <td>  -17.642</td> <td>  -15.388</td>\n",
              "</tr>\n",
              "<tr>\n",
              "  <th>Height (cm)</th>        <td>    0.1194</td> <td>    0.003</td> <td>   34.613</td> <td> 0.000</td> <td>    0.113</td> <td>    0.126</td>\n",
              "</tr>\n",
              "<tr>\n",
              "  <th>Sex_M</th>              <td>    0.1801</td> <td>    0.038</td> <td>    4.772</td> <td> 0.000</td> <td>    0.106</td> <td>    0.254</td>\n",
              "</tr>\n",
              "<tr>\n",
              "  <th>Smoke_habit_smoker</th> <td>   -0.2224</td> <td>    0.063</td> <td>   -3.508</td> <td> 0.000</td> <td>   -0.347</td> <td>   -0.098</td>\n",
              "</tr>\n",
              "</table>\n",
              "<table class=\"simpletable\">\n",
              "<tr>\n",
              "  <th>Omnibus:</th>       <td>113.552</td> <th>  Durbin-Watson:     </th> <td>   1.649</td> \n",
              "</tr>\n",
              "<tr>\n",
              "  <th>Prob(Omnibus):</th> <td> 0.000</td>  <th>  Jarque-Bera (JB):  </th> <td> 652.676</td> \n",
              "</tr>\n",
              "<tr>\n",
              "  <th>Skew:</th>          <td>-0.627</td>  <th>  Prob(JB):          </th> <td>1.88e-142</td>\n",
              "</tr>\n",
              "<tr>\n",
              "  <th>Kurtosis:</th>      <td> 7.731</td>  <th>  Cond. No.          </th> <td>4.99e+03</td> \n",
              "</tr>\n",
              "</table><br/><br/>Warnings:<br/>[1] Standard Errors assume that the covariance matrix of the errors is correctly specified.<br/>[2] The condition number is large, 4.99e+03. This might indicate that there are<br/>strong multicollinearity or other numerical problems."
            ],
            "text/plain": [
              "<class 'statsmodels.iolib.summary.Summary'>\n",
              "\"\"\"\n",
              "                            OLS Regression Results                            \n",
              "==============================================================================\n",
              "Dep. Variable:                    FEV   R-squared:                       0.700\n",
              "Model:                            OLS   Adj. R-squared:                  0.699\n",
              "Method:                 Least Squares   F-statistic:                     506.6\n",
              "Date:                Fri, 29 Jan 2021   Prob (F-statistic):          1.22e-169\n",
              "Time:                        10:17:16   Log-Likelihood:                -440.01\n",
              "No. Observations:                 654   AIC:                             888.0\n",
              "Df Residuals:                     650   BIC:                             905.9\n",
              "Df Model:                           3                                         \n",
              "Covariance Type:            nonrobust                                         \n",
              "======================================================================================\n",
              "                         coef    std err          t      P>|t|      [0.025      0.975]\n",
              "--------------------------------------------------------------------------------------\n",
              "const                -16.5147      0.574    -28.770      0.000     -17.642     -15.388\n",
              "Height (cm)            0.1194      0.003     34.613      0.000       0.113       0.126\n",
              "Sex_M                  0.1801      0.038      4.772      0.000       0.106       0.254\n",
              "Smoke_habit_smoker    -0.2224      0.063     -3.508      0.000      -0.347      -0.098\n",
              "==============================================================================\n",
              "Omnibus:                      113.552   Durbin-Watson:                   1.649\n",
              "Prob(Omnibus):                  0.000   Jarque-Bera (JB):              652.676\n",
              "Skew:                          -0.627   Prob(JB):                    1.88e-142\n",
              "Kurtosis:                       7.731   Cond. No.                     4.99e+03\n",
              "==============================================================================\n",
              "\n",
              "Warnings:\n",
              "[1] Standard Errors assume that the covariance matrix of the errors is correctly specified.\n",
              "[2] The condition number is large, 4.99e+03. This might indicate that there are\n",
              "strong multicollinearity or other numerical problems.\n",
              "\"\"\""
            ]
          },
          "metadata": {
            "tags": []
          },
          "execution_count": 20
        }
      ]
    },
    {
      "cell_type": "code",
      "metadata": {
        "colab": {
          "base_uri": "https://localhost:8080/",
          "height": 281
        },
        "id": "22sQDAifpRYb",
        "outputId": "780e82b7-fe19-4b3b-87f7-a9903fe76ddc"
      },
      "source": [
        "residuals=model.resid\r\n",
        "\r\n",
        "import statsmodels.tsa.api as smt\r\n",
        "acf=smt.graphics.plot_acf(residuals, lags=30)\r\n",
        "acf.show()"
      ],
      "execution_count": null,
      "outputs": [
        {
          "output_type": "display_data",
          "data": {
            "image/png": "[encoded data removed]",
            "text/plain": [
              "<Figure size 432x288 with 1 Axes>"
            ]
          },
          "metadata": {
            "tags": []
          }
        }
      ]
    },
    {
      "cell_type": "markdown",
      "metadata": {
        "id": "auVdr_09qE3m"
      },
      "source": [
        "ACF plot shows that only lag1 residual correlation is barely higher than level of insignificance. \r\n",
        "Also dw value is 1.649 , based on this we can conclude that there is no serious serial dependency."
      ]
    },
    {
      "cell_type": "markdown",
      "metadata": {
        "collapsed": true,
        "id": "CVG8YAJdCpyj"
      },
      "source": [
        "<table align=\"left\">\n",
        "    <tr>\n",
        "        <td width=\"6%\">\n",
        "            <img src=\"question_icon.png\">\n",
        "        </td>\n",
        "        <td>\n",
        "            <div align=\"left\", style=\"font-size:120%\">\n",
        "                <font color=\"#21618C\">\n",
        "                    <b>17. A model is built using all the features to predict the FEV. Check whether the residuals obtained form the model are normally distributed. </b>\n",
        "                </font>\n",
        "            </div>\n",
        "        </td>\n",
        "    </tr>\n",
        "</table>"
      ]
    },
    {
      "cell_type": "code",
      "metadata": {
        "scrolled": false,
        "id": "VVc4Xj6SCpyj",
        "colab": {
          "base_uri": "https://localhost:8080/",
          "height": 265
        },
        "outputId": "1cdb5172-b6ee-43ba-a0db-3925f07f841a"
      },
      "source": [
        "# type your code here\r\n",
        "\r\n",
        "sns.distplot(residuals)\r\n",
        "plt.show()"
      ],
      "execution_count": null,
      "outputs": [
        {
          "output_type": "display_data",
          "data": {
            "image/png": "[encoded data removed]",
            "text/plain": [
              "<Figure size 432x288 with 1 Axes>"
            ]
          },
          "metadata": {
            "tags": []
          }
        }
      ]
    },
    {
      "cell_type": "markdown",
      "metadata": {
        "id": "zz_VS3QrrPdl"
      },
      "source": [
        "JB test results are available along with the model results. \r\n",
        "Prob(JB) of 1.88e-142 indicates that we will reject H0 to conclude that residual is not normally distributed."
      ]
    },
    {
      "cell_type": "markdown",
      "metadata": {
        "id": "CcwtVYG4Cpyj"
      },
      "source": [
        "<a id=\"ml_perf\"> </a>\n",
        "## 6. Model Performance"
      ]
    },
    {
      "cell_type": "markdown",
      "metadata": {
        "collapsed": true,
        "id": "bY4qLLU8Cpyk"
      },
      "source": [
        "<table align=\"left\">\n",
        "    <tr>\n",
        "        <td width=\"6%\">\n",
        "            <img src=\"question_icon.png\">\n",
        "        </td>\n",
        "        <td>\n",
        "            <div align=\"left\", style=\"font-size:120%\">\n",
        "                <font color=\"#21618C\">\n",
        "                    <b>18. Build a full model on 70% of the given data. Calculate the mean square error and the root mean square error on the test set.</b>\n",
        "                </font>\n",
        "            </div>\n",
        "        </td>\n",
        "    </tr>\n",
        "</table>"
      ]
    },
    {
      "cell_type": "code",
      "metadata": {
        "colab": {
          "base_uri": "https://localhost:8080/",
          "height": 541
        },
        "id": "mZRY7qtrtAhD",
        "outputId": "169c9608-3947-4f10-8fda-b17b63a3359a"
      },
      "source": [
        "\r\n"
      ],
      "execution_count": null,
      "outputs": [
        {
          "output_type": "execute_result",
          "data": {
            "text/html": [
              "<table class=\"simpletable\">\n",
              "<caption>OLS Regression Results</caption>\n",
              "<tr>\n",
              "  <th>Dep. Variable:</th>           <td>FEV</td>       <th>  R-squared:         </th> <td>   0.666</td> \n",
              "</tr>\n",
              "<tr>\n",
              "  <th>Model:</th>                   <td>OLS</td>       <th>  Adj. R-squared:    </th> <td>   0.663</td> \n",
              "</tr>\n",
              "<tr>\n",
              "  <th>Method:</th>             <td>Least Squares</td>  <th>  F-statistic:       </th> <td>   216.2</td> \n",
              "</tr>\n",
              "<tr>\n",
              "  <th>Date:</th>             <td>Fri, 29 Jan 2021</td> <th>  Prob (F-statistic):</th> <td>8.80e-102</td>\n",
              "</tr>\n",
              "<tr>\n",
              "  <th>Time:</th>                 <td>10:35:36</td>     <th>  Log-Likelihood:    </th> <td> -312.59</td> \n",
              "</tr>\n",
              "<tr>\n",
              "  <th>No. Observations:</th>      <td>   438</td>      <th>  AIC:               </th> <td>   635.2</td> \n",
              "</tr>\n",
              "<tr>\n",
              "  <th>Df Residuals:</th>          <td>   433</td>      <th>  BIC:               </th> <td>   655.6</td> \n",
              "</tr>\n",
              "<tr>\n",
              "  <th>Df Model:</th>              <td>     4</td>      <th>                     </th>     <td> </td>    \n",
              "</tr>\n",
              "<tr>\n",
              "  <th>Covariance Type:</th>      <td>nonrobust</td>    <th>                     </th>     <td> </td>    \n",
              "</tr>\n",
              "</table>\n",
              "<table class=\"simpletable\">\n",
              "<tr>\n",
              "           <td></td>             <th>coef</th>     <th>std err</th>      <th>t</th>      <th>P>|t|</th>  <th>[0.025</th>    <th>0.975]</th>  \n",
              "</tr>\n",
              "<tr>\n",
              "  <th>const</th>              <td>  -15.7696</td> <td>    0.726</td> <td>  -21.719</td> <td> 0.000</td> <td>  -17.197</td> <td>  -14.343</td>\n",
              "</tr>\n",
              "<tr>\n",
              "  <th>Age</th>                <td>   -0.0003</td> <td>    0.009</td> <td>   -0.038</td> <td> 0.970</td> <td>   -0.017</td> <td>    0.017</td>\n",
              "</tr>\n",
              "<tr>\n",
              "  <th>Height (cm)</th>        <td>    0.1146</td> <td>    0.004</td> <td>   26.041</td> <td> 0.000</td> <td>    0.106</td> <td>    0.123</td>\n",
              "</tr>\n",
              "<tr>\n",
              "  <th>Sex_M</th>              <td>    0.1726</td> <td>    0.048</td> <td>    3.602</td> <td> 0.000</td> <td>    0.078</td> <td>    0.267</td>\n",
              "</tr>\n",
              "<tr>\n",
              "  <th>Smoke_habit_smoker</th> <td>   -0.2256</td> <td>    0.080</td> <td>   -2.819</td> <td> 0.005</td> <td>   -0.383</td> <td>   -0.068</td>\n",
              "</tr>\n",
              "</table>\n",
              "<table class=\"simpletable\">\n",
              "<tr>\n",
              "  <th>Omnibus:</th>       <td>86.538</td> <th>  Durbin-Watson:     </th> <td>   2.115</td> \n",
              "</tr>\n",
              "<tr>\n",
              "  <th>Prob(Omnibus):</th> <td> 0.000</td> <th>  Jarque-Bera (JB):  </th> <td> 464.582</td> \n",
              "</tr>\n",
              "<tr>\n",
              "  <th>Skew:</th>          <td>-0.720</td> <th>  Prob(JB):          </th> <td>1.31e-101</td>\n",
              "</tr>\n",
              "<tr>\n",
              "  <th>Kurtosis:</th>      <td> 7.836</td> <th>  Cond. No.          </th> <td>4.98e+03</td> \n",
              "</tr>\n",
              "</table><br/><br/>Warnings:<br/>[1] Standard Errors assume that the covariance matrix of the errors is correctly specified.<br/>[2] The condition number is large, 4.98e+03. This might indicate that there are<br/>strong multicollinearity or other numerical problems."
            ],
            "text/plain": [
              "<class 'statsmodels.iolib.summary.Summary'>\n",
              "\"\"\"\n",
              "                            OLS Regression Results                            \n",
              "==============================================================================\n",
              "Dep. Variable:                    FEV   R-squared:                       0.666\n",
              "Model:                            OLS   Adj. R-squared:                  0.663\n",
              "Method:                 Least Squares   F-statistic:                     216.2\n",
              "Date:                Fri, 29 Jan 2021   Prob (F-statistic):          8.80e-102\n",
              "Time:                        10:35:36   Log-Likelihood:                -312.59\n",
              "No. Observations:                 438   AIC:                             635.2\n",
              "Df Residuals:                     433   BIC:                             655.6\n",
              "Df Model:                           4                                         \n",
              "Covariance Type:            nonrobust                                         \n",
              "======================================================================================\n",
              "                         coef    std err          t      P>|t|      [0.025      0.975]\n",
              "--------------------------------------------------------------------------------------\n",
              "const                -15.7696      0.726    -21.719      0.000     -17.197     -14.343\n",
              "Age                   -0.0003      0.009     -0.038      0.970      -0.017       0.017\n",
              "Height (cm)            0.1146      0.004     26.041      0.000       0.106       0.123\n",
              "Sex_M                  0.1726      0.048      3.602      0.000       0.078       0.267\n",
              "Smoke_habit_smoker    -0.2256      0.080     -2.819      0.005      -0.383      -0.068\n",
              "==============================================================================\n",
              "Omnibus:                       86.538   Durbin-Watson:                   2.115\n",
              "Prob(Omnibus):                  0.000   Jarque-Bera (JB):              464.582\n",
              "Skew:                          -0.720   Prob(JB):                    1.31e-101\n",
              "Kurtosis:                       7.836   Cond. No.                     4.98e+03\n",
              "==============================================================================\n",
              "\n",
              "Warnings:\n",
              "[1] Standard Errors assume that the covariance matrix of the errors is correctly specified.\n",
              "[2] The condition number is large, 4.98e+03. This might indicate that there are\n",
              "strong multicollinearity or other numerical problems.\n",
              "\"\"\""
            ]
          },
          "metadata": {
            "tags": []
          },
          "execution_count": 32
        }
      ]
    },
    {
      "cell_type": "code",
      "metadata": {
        "id": "fh_qxmUmCpyk",
        "colab": {
          "base_uri": "https://localhost:8080/"
        },
        "outputId": "35dcf138-0c54-487f-a7fb-e5efa03e497d"
      },
      "source": [
        "# type your code here\r\n",
        "\r\n",
        "y=df2['FEV']\r\n",
        "X=df2.drop(['FEV','Age'],axis=1)\r\n",
        "import statsmodels.api as sm\r\n",
        "X_trainc=sm.add_constant(X_train)\r\n",
        "model=sm.OLS(y_train,X_trainc).fit()\r\n",
        "print(model.summary())\r\n",
        "\r\n",
        "from sklearn.model_selection import train_test_split\r\n",
        "from sklearn.metrics import mean_squared_error,mean_absolute_error\r\n",
        "X_train, X_test, y_train, y_test = train_test_split(   X, y, test_size=0.33, random_state=42)\r\n",
        "\r\n",
        "X_testc=sm.add_constant(X_test)\r\n",
        "y_test_pred=model.predict(X_testc)\r\n",
        "mse_test=mean_squared_error(y_test,y_test_pred)\r\n",
        "print('\\n'*2)\r\n",
        "print('mse of test:', mse_test)\r\n",
        "print('rmse of test', np.sqrt(mse_test))"
      ],
      "execution_count": null,
      "outputs": [
        {
          "output_type": "stream",
          "text": [
            "                            OLS Regression Results                            \n",
            "==============================================================================\n",
            "Dep. Variable:                    FEV   R-squared:                       0.666\n",
            "Model:                            OLS   Adj. R-squared:                  0.664\n",
            "Method:                 Least Squares   F-statistic:                     289.0\n",
            "Date:                Fri, 29 Jan 2021   Prob (F-statistic):          4.77e-103\n",
            "Time:                        10:45:02   Log-Likelihood:                -312.59\n",
            "No. Observations:                 438   AIC:                             633.2\n",
            "Df Residuals:                     434   BIC:                             649.5\n",
            "Df Model:                           3                                         \n",
            "Covariance Type:            nonrobust                                         \n",
            "======================================================================================\n",
            "                         coef    std err          t      P>|t|      [0.025      0.975]\n",
            "--------------------------------------------------------------------------------------\n",
            "const                -15.7714      0.724    -21.797      0.000     -17.194     -14.349\n",
            "Height (cm)            0.1146      0.004     26.376      0.000       0.106       0.123\n",
            "Sex_M                  0.1726      0.048      3.607      0.000       0.079       0.267\n",
            "Smoke_habit_smoker    -0.2257      0.080     -2.826      0.005      -0.383      -0.069\n",
            "==============================================================================\n",
            "Omnibus:                       86.511   Durbin-Watson:                   2.114\n",
            "Prob(Omnibus):                  0.000   Jarque-Bera (JB):              464.296\n",
            "Skew:                          -0.720   Prob(JB):                    1.51e-101\n",
            "Kurtosis:                       7.834   Cond. No.                     4.93e+03\n",
            "==============================================================================\n",
            "\n",
            "Warnings:\n",
            "[1] Standard Errors assume that the covariance matrix of the errors is correctly specified.\n",
            "[2] The condition number is large, 4.93e+03. This might indicate that there are\n",
            "strong multicollinearity or other numerical problems.\n",
            "\n",
            "\n",
            "\n",
            "mse of test: 0.1934260162430339\n",
            "rmse of test 0.4398022467462324\n"
          ],
          "name": "stdout"
        }
      ]
    },
    {
      "cell_type": "markdown",
      "metadata": {
        "collapsed": true,
        "id": "EbRtt_afCpyk"
      },
      "source": [
        "<table align=\"left\">\n",
        "    <tr>\n",
        "        <td width=\"6%\">\n",
        "            <img src=\"question_icon.png\">\n",
        "        </td>\n",
        "        <td>\n",
        "            <div align=\"left\", style=\"font-size:120%\">\n",
        "                <font color=\"#21618C\">\n",
        "                    <b>19. Calculate the mean absolute error and the  mean absolute percentage error for the test set using the model in Q18. Compare the values of RMSE and MAE. </b>\n",
        "                </font>\n",
        "            </div>\n",
        "        </td>\n",
        "    </tr>\n",
        "</table>"
      ]
    },
    {
      "cell_type": "code",
      "metadata": {
        "id": "BRI47HNzCpyk",
        "colab": {
          "base_uri": "https://localhost:8080/"
        },
        "outputId": "5556a7db-2a39-4381-e6ba-d3c087c63de9"
      },
      "source": [
        "# type your code here\r\n",
        "mae=mean_absolute_error(y_test, y_test_pred)\r\n",
        "print(mae)\r\n",
        "\r\n",
        "mape=(np.abs((y_test-y_test_pred)*100/y_test)).mean()\r\n",
        "print('mean absolute percent error',mape)"
      ],
      "execution_count": null,
      "outputs": [
        {
          "output_type": "stream",
          "text": [
            "0.3322560751957922\n",
            "mean absolute percent error 12.249979667875623\n"
          ],
          "name": "stdout"
        }
      ]
    },
    {
      "cell_type": "markdown",
      "metadata": {
        "collapsed": true,
        "id": "qZZFbZMwCpyk"
      },
      "source": [
        "<table align=\"left\">\n",
        "    <tr>\n",
        "        <td width=\"6%\">\n",
        "            <img src=\"question_icon.png\">\n",
        "        </td>\n",
        "        <td>\n",
        "            <div align=\"left\", style=\"font-size:120%\">\n",
        "                <font color=\"#21618C\">\n",
        "                    <b>20. Build the full model on 80% of the given data and check if the model is overfitted? </b>\n",
        "                </font>\n",
        "            </div>\n",
        "        </td>\n",
        "    </tr>\n",
        "</table>"
      ]
    },
    {
      "cell_type": "code",
      "metadata": {
        "id": "b2jJeODwCpyl",
        "colab": {
          "base_uri": "https://localhost:8080/"
        },
        "outputId": "c75835b1-6562-41a2-d9ae-e87edfc82161"
      },
      "source": [
        "# type your code here\r\n",
        "\r\n",
        "\r\n",
        "y=df2['FEV']\r\n",
        "X=df2.drop(['FEV','Age'],axis=1)\r\n",
        "import statsmodels.api as sm\r\n",
        "X_trainc=sm.add_constant(X_train)\r\n",
        "model=sm.OLS(y_train,X_trainc).fit()\r\n",
        "#print(model.summary())\r\n",
        "\r\n",
        "from sklearn.model_selection import train_test_split\r\n",
        "from sklearn.metrics import mean_squared_error,mean_absolute_error,r2_score\r\n",
        "X_train, X_test, y_train, y_test = train_test_split(   X, y, test_size=0.2, random_state=6)\r\n",
        "\r\n",
        "\r\n",
        "y_train_pred=model.predict(X_trainc)\r\n",
        "print('r square on train', r2_score(y_train, y_train_pred))\r\n",
        "print('rmse on train', np.sqrt(mean_squared_error(y_train, y_train_pred)))\r\n",
        "\r\n",
        "X_testc=sm.add_constant(X_test)\r\n",
        "y_test_pred=model.predict(X_testc)\r\n",
        "mse_test=mean_squared_error(y_test,y_test_pred)\r\n",
        "print('\\n'*2)\r\n",
        "print('r square on test', r2_score(y_test, y_test_pred))\r\n",
        "print('mse of test:', mse_test)\r\n",
        "print('rmse of test', np.sqrt(mse_test))"
      ],
      "execution_count": null,
      "outputs": [
        {
          "output_type": "stream",
          "text": [
            "r square on train -0.7244551316658805\n",
            "rmse on train 1.1200012432101922\n",
            "\n",
            "\n",
            "\n",
            "r square on test 0.6698489160467713\n",
            "mse of test: 0.2770105691058037\n",
            "rmse of test 0.5263179353829809\n"
          ],
          "name": "stdout"
        }
      ]
    }
  ]
}